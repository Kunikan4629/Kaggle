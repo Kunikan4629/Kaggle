{
 "cells": [
  {
   "cell_type": "markdown",
   "metadata": {},
   "source": [
    "<!-- <div style=\"background-color: rgb(247, 230, 202); border: 4px solid rgb(162, 87, 79); border-radius: 40px; padding: 20px; font-family: 'Roboto'; color: rgb(162, 87, 79); text-align: left; font-size: 120%;\">\n",
    "    <ul style=\"list-style-type: square; padding-left: 20px;\">\n",
    "        <li style=\"margin-top: 10px;\">HLA columns are recalculated as per <a href=\"https://www.kaggle.com/code/albansteff/cibmtr-eda-ensemble-model-recalculate-hla\" style=\"color: #A2574F; text-decoration: underline;\">this</a> notebook.</li>\n",
    "        <li style=\"margin-top: 10px;\">Missing values are replaced with:\n",
    "            <ul style=\"list-style-type: circle; margin-top: 10px; margin-bottom: 10px;\">\n",
    "                <li>-1 for numeric columns</li>\n",
    "                <li>Unknown for categorical columns</li>\n",
    "            </ul>\n",
    "        </li>\n",
    "        <li style=\"margin-top: 10px;\">\n",
    "            LightGBM and CatBoost are trained on 3 different targets, estimated from the survival models:\n",
    "            <ul style=\"list-style-type: circle; margin-top: 10px; margin-bottom: 10px;\">\n",
    "                <li>Cox</li>\n",
    "                <li>Kaplan-Meier</li>\n",
    "                <li>Nelson-Aalen</li>\n",
    "            </ul>\n",
    "        </li>\n",
    "        <li style=\"margin-top: 10px;\">Two additional CatBoost model are trained, with Cox loss function.</li>\n",
    "        <li style=\"margin-top: 10px;\">As per <a href=\"https://www.kaggle.com/competitions/equity-post-HCT-survival-predictions/discussion/553061\" style=\"color: #A2574F; text-decoration: underline;\">this</a> discussion post, the target is consisted of the Out-of-Fold predictions of the survival models on the validation folds to prevent target leakage.</li>\n",
    "        <li style=\"margin-top: 10px;\">\n",
    "            The ensemble prediction for each sample is computed as:\n",
    "            <ul style=\"list-style-type: circle; margin-top: 10px; margin-bottom: 10px;\">\n",
    "                <p style=\"margin-top: 10px; font-size: 110%; color: #A2574F; font-family: 'Roboto'; text-align: left;\">\n",
    "                    $ \\text{preds}_{\\text{ensemble}} = \\sum_{i=1}^{n} w_i \\cdot \\text{rankdata}(\\text{preds}_i) $\n",
    "                </p>\n",
    "                where $n$ is the number of models, $w_i$ is the weight assigned to the $i$-th model, and $\\text{rankdata}(\\text{preds}_i)$ is the rank of predictions from the $i$-th model.\n",
    "            </ul>\n",
    "        </li>\n",
    "        <li style=\"margin-top: 10px;\">Last but not least, since the competition metric evaluates only the order of predictions and not their magnitude, the model weights are not required to sum to 1, nor should the predictions fall within a predefined range.</li>\n",
    "    </ul>\n",
    "</div> -->"
   ]
  },
  {
   "cell_type": "markdown",
   "metadata": {},
   "source": [
    "<p style=\"font-size: 150%; text-align: left; border-radius: 40px 40px; color: rgb(232, 95, 9); font-weight: bold;\">参考にしたNotebook</p>  "
   ]
  },
  {
   "cell_type": "markdown",
   "metadata": {},
   "source": [
    "リンク  \n",
    "- アンサンブル：https://www.kaggle.com/code/andreasbis/cibmtr-eda-ensemble-model  \n",
    "- NN：https://www.kaggle.com/code/dreamingtree/single-nn-with-pairwise-ranking-loss-0-689-lb"
   ]
  },
  {
   "cell_type": "markdown",
   "metadata": {},
   "source": [
    "<p style=\"font-size: 120%; text-align: left; border-radius: 40px 40px; color: rgb(244, 62, 7); font-weight: bold;\">\n",
    "概要\n",
    "</p>  \n",
    "\n",
    "- 特徴量エンジニアリング\n",
    "    - 特徴量作成\n",
    "        - ``hla_high_xxx``や``hla_low_xxx``といった特徴量は自分で作り直す\n",
    "        - 複数の新たな特徴量を追加（add_featuresを参照）\n",
    "- 欠損値補完\n",
    "    - 数値列は``-1``\n",
    "    - カテゴリ列は``Unknown``\n",
    "- モデル\n",
    "    - 種類（計８つのモデル）\n",
    "        - ２つの予測モデル（LightGBMとCatBoost）×３つの生存確率推定モデル\n",
    "            - コックス比例ハザードモデル\n",
    "                - モデル概要\n",
    "                    - セミパラメトリックモデル\n",
    "                    - 共変量（複数の説明変数）を考慮できる\n",
    "                    - 返す値は「相対的なリスクの大きさ」\n",
    "                - データ処理\n",
    "                    - １値しか取らないカラムを削除\n",
    "                    - カテゴリ変数について``one hot encoding``を実施\n",
    "            - カプラン・マイヤー推定量\n",
    "                - ノンパラメトリックモデル（データからそのまま推定・特定の確率分布を仮定しない）\n",
    "                - 共変量を考慮しない単純な推定\n",
    "                - 生存確率を計算（０〜１）\n",
    "                $$\n",
    "                \\begin{align*}\n",
    "                S(t) &= \\prod_{t_i \\leq t} \\left( 1 - \\frac{d_i}{n_i} \\right)  \n",
    "                \\end{align*}\n",
    "                $$\n",
    "\n",
    "                $$\n",
    "                \\begin{align*}\n",
    "                t_i &\\text{ はイベント発生時点} \\\\\n",
    "                d_i &\\text{ はその時点でのイベント発生個体数} \\\\\n",
    "                n_i &\\text{ はその時点での生存個体数}\n",
    "                \\end{align*}\n",
    "                $$\n",
    "            - ネルソン・アーレン推定量\n",
    "                - ノンパラメトリックモデル（データからそのまま推定・特定の確率分布を仮定しない）\n",
    "                - 共変量を考慮しない単純な推定\n",
    "                - 累積ハザード確率を計算（０〜１）\n",
    "                $$\n",
    "                \\begin{align*}\n",
    "                H(t) &= \\sum_{t_i \\leq t} \\frac{d_i}{n_i}\n",
    "                \\end{align*}\n",
    "                $$\n",
    "                $$\n",
    "                \\begin{align*}\n",
    "                t_i &\\text{ はイベント発生時点} \\\\\n",
    "                d_i &\\text{ はその時点でのイベント発生個体数} \\\\\n",
    "                n_i &\\text{ はその時点での生存個体数}\n",
    "                \\end{align*}\n",
    "                $$\n",
    "            - カプラン・マイヤーとネルソン・アーレンの違い\n",
    "                - 「死亡のイベントが発生した時間に関数値が変化するという性質」は共通\n",
    "                - ネルソン・アーレンは、「小さいサイズの標本に対してよりよい性質をもつ」\n",
    "        - CatBoost（木の深さ優先 / 損失減少優先）× Cox回帰に基づく損失関数\n",
    "            - CatBoost\n",
    "                - ハイパーパラメータの設定の違い（木の深さ優先 / 損失減少優先）により2種類作成\n",
    "                - 損失関数として「Cox回帰」を指定\n",
    "            - Cox回帰に基づく損失関数\n",
    "                - targetの設定\n",
    "                    - 特定のイベントが発生せずに生存している期間を測定する指標を用いる\n",
    "                    - イベントが発生しなかったデータについては生存時間を負にすることで、イベントが発生しなかったデータポイントを明確に区別できる\n",
    "                - 予測モデル\n",
    "                    - CatBoostにおいて、Cox回帰に基づく損失関数を使用\n",
    "    - 特徴\n",
    "        - ターゲットリークを防ぐため、ターゲットは検証フォールドにおけるサバイバルモデルのOut-of-Fold予測で構成される\n",
    "            - https://www.kaggle.com/competitions/equity-post-HCT-survival-predictions/discussion/553061\n",
    "        - アンサンブル予測は各サンプルについて以下のように計算される\n",
    "            - アンサンブル予測 = Σ(wi * rankdata(predsi)) \n",
    "                - ここで、wiは i 番目のモデルに割り当てられた重み（<font color = \"red\">分析者が指定</font>）\n",
    "                - rankdata(predsi)は i 番目のモデルの予測のランク\n",
    "            - 競争メトリックが予測の大きさではなく順序のみを評価するため、モデルの重みは1に合計する必要はなく、予測も予め定義された範囲内である必要はありません。\n",
    "- 精度評価\n",
    "    - 層別C統計量を使用\n",
    "        - 元のノートブックではmetricライブラリのscore関数を使用していたが、利用できないので代替\n",
    "        - 層別C統計量は以前から使用していたもの\n"
   ]
  },
  {
   "cell_type": "markdown",
   "metadata": {},
   "source": [
    "<p style=\"font-size: 125%; text-align: left; border-radius: 40px 40px;font-weight: bold;\">ライブラリ</p>"
   ]
  },
  {
   "cell_type": "code",
   "execution_count": 1,
   "metadata": {},
   "outputs": [],
   "source": [
    "# !pip install /kaggle/input/pip-install-lifelines/autograd-1.7.0-py3-none-any.whl\n",
    "# !pip install /kaggle/input/pip-install-lifelines/autograd-gamma-0.5.0.tar.gz\n",
    "# !pip install /kaggle/input/pip-install-lifelines/interface_meta-1.3.0-py3-none-any.whl\n",
    "# !pip install /kaggle/input/pip-install-lifelines/formulaic-1.0.2-py3-none-any.whl\n",
    "# !pip install /kaggle/input/pip-install-lifelines/lifelines-0.30.0-py3-none-any.whl\n",
    "# !pip install /kaggle/input/download-lightning-and-pytorch-tabular/pytorch_lightning-2.4.0-py3-none-any.whl\n",
    "# !pip install /kaggle/input/download-lightning-and-pytorch-tabular/scikit_learn-1.6.1-cp310-cp310-manylinux_2_17_x86_64.manylinux2014_x86_64.whl\n",
    "# !pip install /kaggle/input/download-lightning-and-pytorch-tabular/torchmetrics-1.5.2-py3-none-any.whl\n",
    "# !pip install /kaggle/input/download-lightning-and-pytorch-tabular/pytorch_tabnet-4.1.0-py3-none-any.whl\n",
    "# !pip install /kaggle/input/download-lightning-and-pytorch-tabular/einops-0.7.0-py3-none-any.whl\n",
    "# !pip install /kaggle/input/download-lightning-and-pytorch-tabular/pytorch_tabular-1.1.1-py2.py3-none-any.whl"
   ]
  },
  {
   "cell_type": "code",
   "execution_count": 1,
   "metadata": {},
   "outputs": [],
   "source": [
    "import warnings\n",
    "warnings.filterwarnings('ignore')\n",
    "from pathlib import Path\n",
    "\n",
    "import numpy as np\n",
    "import pandas as pd\n",
    "import matplotlib.pyplot as plt\n",
    "import seaborn as sns\n",
    "# import polars as pl #ライブラリのインポートに非常に時間がかかりそうだったので割愛\n",
    "# import plotly.colors as pc\n",
    "# import plotly.express as px\n",
    "# import plotly.graph_objects as go\n",
    "# import plotly.io as pio\n",
    "# pio.renderers.default = 'iframe'\n",
    "\n",
    "# 生存関数推定モデル\n",
    "from lifelines import CoxPHFitter\n",
    "from lifelines import KaplanMeierFitter\n",
    "from lifelines import NelsonAalenFitter\n",
    "from lifelines.utils import concordance_index #C-indexの計算\n",
    "\n",
    "# sklearn\n",
    "import sklearn.base\n",
    "from sklearn.base import _fit_context\n",
    "from sklearn.model_selection import train_test_split\n",
    "from sklearn.metrics import roc_auc_score\n",
    "from sklearn.model_selection import KFold\n",
    "\n",
    "# 予測モデル\n",
    "import lightgbm as lgb\n",
    "import optuna\n",
    "from catboost import CatBoostRegressor\n",
    "from scipy.stats import rankdata\n",
    "\n",
    "#NN用\n",
    "import torch\n",
    "from lifelines import KaplanMeierFitter, NelsonAalenFitter\n",
    "from sklearn.impute import SimpleImputer\n",
    "from sklearn.preprocessing import LabelEncoder, StandardScaler\n",
    "from torch.utils.data import TensorDataset\n",
    "\n",
    "import functools\n",
    "from typing import List\n",
    "\n",
    "import pytorch_lightning as pl\n",
    "import numpy as np\n",
    "import torch\n",
    "from lifelines.utils import concordance_index\n",
    "from pytorch_lightning.cli import ReduceLROnPlateau\n",
    "from pytorch_tabular.models.common.layers import ODST\n",
    "from torch import nn\n",
    "from pytorch_lightning.utilities import grad_norm\n",
    "\n",
    "import json\n",
    "\n",
    "import pytorch_lightning as pl\n",
    "from pytorch_lightning.callbacks import LearningRateMonitor, TQDMProgressBar\n",
    "from pytorch_lightning.callbacks import StochasticWeightAveraging\n",
    "from sklearn.model_selection import StratifiedKFold"
   ]
  },
  {
   "cell_type": "markdown",
   "metadata": {
    "papermill": {
     "duration": 0.006361,
     "end_time": "2024-12-13T13:19:30.95227",
     "exception": false,
     "start_time": "2024-12-13T13:19:30.945909",
     "status": "completed"
    },
    "tags": []
   },
   "source": [
    "<p style=\"font-size: 125%; text-align: left; border-radius: 40px 40px;font-weight: bold;\">データインポート</p>"
   ]
  },
  {
   "cell_type": "code",
   "execution_count": null,
   "metadata": {},
   "outputs": [],
   "source": [
    "# INPUT_DIRにディレクトリを指定\n",
    "\n",
    "pd.options.display.max_columns = None"
   ]
  },
  {
   "cell_type": "markdown",
   "metadata": {
    "papermill": {
     "duration": 0.00881,
     "end_time": "2024-12-13T13:23:11.307141",
     "exception": false,
     "start_time": "2024-12-13T13:23:11.298331",
     "status": "completed"
    },
    "tags": []
   },
   "source": [
    "<p style=\"font-size: 125%; text-align: left; border-radius: 40px 40px;font-weight: bold;\">パラメータ設定【CFG】</p>"
   ]
  },
  {
   "cell_type": "markdown",
   "metadata": {},
   "source": [
    "重みや正則化パラメータは自分で決定"
   ]
  },
  {
   "cell_type": "code",
   "execution_count": 4,
   "metadata": {
    "papermill": {
     "duration": 0.019849,
     "end_time": "2024-12-13T13:23:11.335144",
     "exception": false,
     "start_time": "2024-12-13T13:23:11.315295",
     "status": "completed"
    },
    "tags": [],
    "trusted": true
   },
   "outputs": [],
   "source": [
    "# クラス変数（クラス全体で共有される変数）の定義\n",
    "class CFG:\n",
    "    # train_path = Path('/kaggle/input/equity-post-HCT-survival-predictions/train.csv') \n",
    "    # test_path = Path('/kaggle/input/equity-post-HCT-survival-predictions/test.csv') \n",
    "    # subm_path = Path('/kaggle/input/equity-post-HCT-survival-predictions/sample_submission.csv') \n",
    "    train_path = INPUT_DIR + \"/train.csv\"\n",
    "    test_path = INPUT_DIR + \"/test.csv\"\n",
    "    subm_path = INPUT_DIR + \"/sample_submission.csv\"\n",
    "\n",
    "    # colorscale = 'red' # 可視化に使用するカラースケールの指定\n",
    "    color = '#A2574F' # 可視化に使用するカラーパレットの指定\n",
    "\n",
    "    early_stop = 300 # 早期終了のパラメータ（一定エポック改善がない場合に終了）\n",
    "    penalizer = 0.01 # 正則化パラメータの設定\n",
    "    n_splits = 5 # クロスバリデーションの分割数\n",
    "\n",
    "    weights = [\n",
    "        2,\n",
    "        1,\n",
    "        6,\n",
    "        3,\n",
    "        6,\n",
    "        3,\n",
    "        6,\n",
    "        6,\n",
    "        6,\n",
    "    ] # 特定のモデルやデータに対する重みのリスト\n",
    "\n",
    "    ctb_params = { # CatBoostモデルのハイパーパラメータ\n",
    "        'loss_function': 'RMSE', # 損失関数としてRMSEを使用\n",
    "        'learning_rate': 0.03, # 学習率\n",
    "        'random_state': 42, # 乱数シード\n",
    "        'task_type': 'CPU', # モデルをCPUで実行\n",
    "        'num_trees': 6000, # 決定木の数\n",
    "        'reg_lambda': 8.0, # L2正則化の強さ\n",
    "        'depth': 8 # 決定木の深さ\n",
    "    }\n",
    "\n",
    "    lgb_params = { # LightGBMモデルのハイパーパラメータ\n",
    "        'objective': 'regression', # 回帰タスクを指定\n",
    "        'min_child_samples': 32, # ノードごとの最小データ数\n",
    "        'num_iterations': 6000, # イテレーション回数\n",
    "        'learning_rate': 0.03, # 学習率\n",
    "        'extra_trees': True, # Extra Trees方式を使用\n",
    "        'reg_lambda': 8.0, # L2正則化の強さ\n",
    "        'reg_alpha': 0.1, # L1正則化の強さ\n",
    "        'num_leaves': 64, # 決定木の葉の数\n",
    "        'metric': 'rmse', # 評価指標としてRMSEを使用\n",
    "        'max_depth': 8, # 決定木の深さの最大値\n",
    "        'device': 'cpu', # モデルをCPUで実行\n",
    "        'max_bin': 128, # ビンの最大数\n",
    "        'verbose': -1, # ログ出力の抑制\n",
    "        'seed': 42 # 乱数シード\n",
    "    }\n",
    "\n",
    "    cox1_params = { # Coxモデルのハイパーパラメータ（Depthwiseの成長ポリシー）\n",
    "        'grow_policy': 'Depthwise', # 木の深さに基づいた成長ポリシー （デフォルトは\"SymmetricTree\"（対照ツリー））\n",
    "        'min_child_samples': 8, # ノードごとの最小データ数\n",
    "        'loss_function': 'Cox', # 損失関数としてCox回帰を使用\n",
    "        'learning_rate': 0.03, # 学習率\n",
    "        'random_state': 42, # 乱数シード\n",
    "        'task_type': 'CPU', # モデルをCPUで実行\n",
    "        'num_trees': 6000, # 決定木の数\n",
    "        'reg_lambda': 8.0, # L2正則化の強さ\n",
    "        'depth': 8 # 決定木の深さ\n",
    "    }\n",
    "\n",
    "    cox2_params = { # Coxモデルのハイパーパラメータ（Lossguideの成長ポリシー）\n",
    "        'grow_policy': 'Lossguide', # データ損失に基づいた成長ポリシー\n",
    "        'min_child_samples': 2, # ノードごとの最小データ数\n",
    "        'loss_function': 'Cox', # 損失関数としてCox回帰を使用\n",
    "        'learning_rate': 0.03, # 学習率\n",
    "        'random_state': 42, # 乱数シード\n",
    "        'task_type': 'CPU', # モデルをCPUで実行\n",
    "        'num_trees': 6000, # 決定木の数\n",
    "        'reg_lambda': 8.0, # L2正則化の強さ\n",
    "        'num_leaves': 32, # 決定木の葉の数\n",
    "        'depth': 8 # 決定木の深さ\n",
    "    }"
   ]
  },
  {
   "cell_type": "markdown",
   "metadata": {
    "papermill": {
     "duration": 0.007982,
     "end_time": "2024-12-13T13:23:11.351542",
     "exception": false,
     "start_time": "2024-12-13T13:23:11.34356",
     "status": "completed"
    },
    "tags": []
   },
   "source": [
    "<p style=\"font-size: 125%; text-align: left; border-radius: 40px 40px;font-weight: bold;\">特徴量エンジニアリング【FE】</p>"
   ]
  },
  {
   "cell_type": "code",
   "execution_count": 13,
   "metadata": {},
   "outputs": [],
   "source": [
    "class FE:\n",
    "    def __init__(self):\n",
    "        pass # 初期化メソッドには何も処理を行わない\n",
    "\n",
    "    def _load_data(self, path):\n",
    "        df = pd.read_csv(path)\n",
    "        return df\n",
    "\n",
    "    def _update_hla_columns(self, df): # \"hla_high_xxx\"、\"hla_low_xxx\"系の特徴量について、既知のデータを用いずに自分で作成\n",
    "        df['hla_nmdp_6'] = (\n",
    "            df['hla_match_a_low'].fillna(0)\n",
    "            + df['hla_match_b_low'].fillna(0)\n",
    "            + df['hla_match_drb1_high'].fillna(0)\n",
    "        )\n",
    "        df['hla_low_res_6'] = (\n",
    "            df['hla_match_a_low'].fillna(0)\n",
    "            + df['hla_match_b_low'].fillna(0)\n",
    "            + df['hla_match_drb1_low'].fillna(0)\n",
    "        )\n",
    "        df['hla_high_res_6'] = (\n",
    "            df['hla_match_a_high'].fillna(0)\n",
    "            + df['hla_match_b_high'].fillna(0)\n",
    "            + df['hla_match_drb1_high'].fillna(0)\n",
    "        )\n",
    "        df['hla_low_res_8'] = (\n",
    "            df['hla_match_a_low'].fillna(0)\n",
    "            + df['hla_match_b_low'].fillna(0)\n",
    "            + df['hla_match_c_low'].fillna(0)\n",
    "            + df['hla_match_drb1_low'].fillna(0)\n",
    "        )\n",
    "        df['hla_high_res_8'] = (\n",
    "            df['hla_match_a_high'].fillna(0)\n",
    "            + df['hla_match_b_high'].fillna(0)\n",
    "            + df['hla_match_c_high'].fillna(0)\n",
    "            + df['hla_match_drb1_high'].fillna(0)\n",
    "        )\n",
    "        df['hla_low_res_10'] = (\n",
    "            df['hla_match_a_low'].fillna(0)\n",
    "            + df['hla_match_b_low'].fillna(0)\n",
    "            + df['hla_match_c_low'].fillna(0)\n",
    "            + df['hla_match_drb1_low'].fillna(0)\n",
    "            + df['hla_match_dqb1_low'].fillna(0)\n",
    "        )\n",
    "        df['hla_high_res_10'] = (\n",
    "            df['hla_match_a_high'].fillna(0)\n",
    "            + df['hla_match_b_high'].fillna(0)\n",
    "            + df['hla_match_c_high'].fillna(0)\n",
    "            + df['hla_match_drb1_high'].fillna(0)\n",
    "            + df['hla_match_dqb1_high'].fillna(0)\n",
    "        )\n",
    "        return df\n",
    "\n",
    "    def _cast_datatypes(self, df): # 欠損値の補完\n",
    "        num_cols = [\n",
    "            'hla_high_res_8', 'hla_low_res_8', 'hla_high_res_6', 'hla_low_res_6',\n",
    "            'hla_high_res_10', 'hla_low_res_10', 'hla_match_dqb1_high',\n",
    "            'hla_match_dqb1_low', 'hla_match_drb1_high', 'hla_match_drb1_low',\n",
    "            'hla_nmdp_6', 'year_hct', 'hla_match_a_high', 'hla_match_a_low',\n",
    "            'hla_match_b_high', 'hla_match_b_low', 'hla_match_c_high',\n",
    "            'hla_match_c_low', 'donor_age', 'age_at_hct', 'comorbidity_score',\n",
    "            'karnofsky_score', 'efs', 'efs_time',\n",
    "            'age_ts', 'age_comorbidity', 'age_karnofsky', 'karnofsky_squared'\n",
    "            'cos_year', 'diff_age_vs_donor'\n",
    "        ]\n",
    "        for col in df.columns:\n",
    "            if col in num_cols:\n",
    "                df[col] = df[col].fillna(-1).astype('float32') # 数値型の場合は欠損値を-1で補完\n",
    "            else:\n",
    "                df[col] = df[col].astype(str).fillna('Unknown').astype('category') # カテゴリ型の場合は欠損値を'Unknown'で補完\n",
    "        df['ID'] = df['ID'].astype('int32') # データ型の変更\n",
    "        return df\n",
    "    \n",
    "    def add_features(self, df):\n",
    "        sex_match = df.sex_match.astype(str)\n",
    "        sex_match = sex_match.str.split(\"-\").str[0] == sex_match.str.split(\"-\").str[1]\n",
    "        df['sex_match_bool'] = sex_match\n",
    "        df.loc[df.sex_match.isna(), 'sex_match_bool'] = np.nan\n",
    "        df.loc[df.year_hct == 2019, 'year_hct'] = 2020\n",
    "        df['is_cyto_score_same'] = (df['cyto_score'] == df['cyto_score_detail']).astype(int)\n",
    "        df['age_bin'] = pd.cut(df.age_at_hct, [0, 0.0441, 16, 30, 50, 100])\n",
    "        df['age_ts'] = df.age_at_hct / df.donor_age\n",
    "        df['age_comorbidity'] = df['age_at_hct'] * df['comorbidity_score']\n",
    "        df['age_karnofsky'] = df['age_at_hct'] * df['karnofsky_score']\n",
    "        df['karnofsky_squared'] = df['karnofsky_score'] ** 2\n",
    "        df['cos_year'] = np.cos(df['year_hct'] * (2 * np.pi) / 100)\n",
    "        df['diff_age_vs_donor'] = df['age_at_hct'] - df['donor_age']\n",
    "        # sex_one: 性別一致情報から患者の性別を抽出\n",
    "        df['sex_one'] = df['sex_match'].str[0]  # 最初の文字を抽出\n",
    "        # sex_two: 性別一致情報からドナーの性別を抽出\n",
    "        df['sex_two'] = df['sex_match'].str[2]  # 3番目の文字を抽出\n",
    "        # SameSex: 患者とドナーの性別が一致しているか\n",
    "        df['same_sex'] = (df['sex_one'] == df['sex_two']).astype(int)\n",
    "        return df\n",
    "\n",
    "    def info(self, df): #データフレームのメモリ使用量を確認\n",
    "        print(f'\\nShape of dataframe: {df.shape}')\n",
    "        mem = df.memory_usage().sum() / 1024**2\n",
    "        print('Memory usage: {:.2f} MB\\n'.format(mem))\n",
    "        print(df.head())\n",
    "\n",
    "    # ディープラーニング用の前処理を行う関数\n",
    "    def preprocess_data(self, df_train, val):\n",
    "        X_cat_train, X_cat_val, numerical, transformers = self.get_categoricals(df_train, val) # カテゴリカル変数と数値変数を取得・加工\n",
    "        scaler = StandardScaler() # 数値データの標準化\n",
    "        imp = SimpleImputer(missing_values=np.nan, strategy='mean', add_indicator=True) # 欠損値を平均値で補完\n",
    "        # 訓練データの数値変数を補完し、標準化\n",
    "        X_num_train = imp.fit_transform(df_train[numerical])\n",
    "        X_num_train = scaler.fit_transform(X_num_train)\n",
    "        # 検証データの数値変数を補完し、標準化\n",
    "        X_num_val = imp.transform(val[numerical])\n",
    "        X_num_val = scaler.transform(X_num_val)\n",
    "        # ディープラーニング用のデータセットを作成\n",
    "        dl_train = self.init_dl(X_cat_train, X_num_train, df_train, training=True)\n",
    "        dl_val = self.init_dl(X_cat_val, X_num_val, val)\n",
    "        return X_cat_val, X_num_train, X_num_val, dl_train, dl_val, transformers\n",
    "\n",
    "    # ディープラーニング用のデータローダーを作成\n",
    "    def init_dl(self, X_cat, X_num, df_train, training=False):\n",
    "        ds_train = TensorDataset(\n",
    "            torch.tensor(X_cat, dtype=torch.long),  # カテゴリカル変数をテンソルに変換\n",
    "            torch.tensor(X_num, dtype=torch.float32),  # 数値変数をテンソルに変換\n",
    "            torch.tensor(df_train.efs_time.values, dtype=torch.float32).log(),  # efs_timeを対数変換\n",
    "            torch.tensor(df_train.efs.values, dtype=torch.long)  # efsを整数として扱う\n",
    "        )\n",
    "        # バッチサイズを設定（訓練時と検証時で異なる可能性）\n",
    "        bs = 2048\n",
    "        # データローダーを作成\n",
    "        dl_train = torch.utils.data.DataLoader(ds_train, batch_size=bs, pin_memory=True, shuffle=training)\n",
    "        return dl_train\n",
    "\n",
    "    def get_feature_types(df_train): # カテゴリ変数と数値変数をそれぞれ取得する関数\n",
    "        categorical_cols = [col for i, col in enumerate(df_train.columns) if ((df_train[col].dtype == \"object\") | (2 < df_train[col].nunique() < 25))] # カテゴリ変数の条件：オブジェクト型または一意な値が3以上25未満\n",
    "        RMV = [\"ID\", \"efs\", \"efs_time\", \"y\"] # 除外する特徴量\n",
    "        FEATURES = [c for c in df_train.columns if not c in RMV]\n",
    "        print(f\"There are {len(FEATURES)} FEATURES: {FEATURES}\")\n",
    "        numerical = [i for i in FEATURES if i not in categorical_cols] # 数値変数のリストを作成\n",
    "        return categorical_cols, numerical\n",
    "\n",
    "    # ラベルエンコーディングを行い、カテゴリカル変数を整数に変換する関数\n",
    "    def get_X_cat(self, df_train, cat_cols, transformers=None):\n",
    "        if transformers is None:\n",
    "            # 各カテゴリカル変数に対してLabelEncoderを適用し、エンコーダを作成\n",
    "            transformers = [LabelEncoder().fit(df_train[col]) for col in cat_cols]\n",
    "        return transformers, np.array(\n",
    "            # 各カテゴリカル変数をエンコードし、数値の配列として返す\n",
    "            [transformer.transform(df_train[col]) for col, transformer in zip(cat_cols, transformers)]\n",
    "        ).T\n",
    "\n",
    "    # カテゴリカル変数と数値変数を取得・加工する関数\n",
    "    def get_categoricals(self, df_train, val):\n",
    "        categorical_cols, numerical = self.get_feature_types(df_train) # カテゴリ変数と数値変数をそれぞれ取得\n",
    "        remove = []\n",
    "        for col in categorical_cols: # 一意の値が1つしかないカテゴリ変数を削除\n",
    "            if df_train[col].nunique() == 1:\n",
    "                remove.append(col)\n",
    "            ind = ~val[col].isin(df_train[col]) # 検証データに訓練データに存在しない値がある場合、欠損値に変換\n",
    "            if ind.any():\n",
    "                val.loc[ind, col] = np.nan\n",
    "        categorical_cols = [col for col in categorical_cols if col not in remove] # 削除対象を除外したカテゴリ変数リストを更新\n",
    "        transformers, X_cat_train = self.get_X_cat(df_train, categorical_cols) # カテゴリ変数をラベルエンコーディング\n",
    "        _, X_cat_val = self.get_X_cat(val, categorical_cols, transformers)\n",
    "        return X_cat_train, X_cat_val, numerical, transformers\n",
    "\n",
    "    def apply_fe(self, path): # 特徴量エンジニアリング（勾配ブースティング）\n",
    "        df = self._load_data(path) # pathのデータを読み込む\n",
    "        df = self._update_hla_columns(df) # hla_high_xxx、hla_low_xxx系の特徴量を追加\n",
    "        df = self.add_features(df) # 特徴量の追加\n",
    "        df = self._cast_datatypes(df) # 欠損値の補完\n",
    "        self.info(df) # データフレームのメモリ確認\n",
    "        cat_cols = [col for col in df.columns if df[col].dtype == 'category']\n",
    "        return df, cat_cols\n",
    "\n",
    "    def apply_fe_nn(self, path): # 特徴量エンジニアリング（ニューラル）\n",
    "        df = self._load_data(path) # pathのデータを読み込む\n",
    "        df = self._update_hla_columns(df) # hla_high_xxx、hla_low_xxx系の特徴量を追加\n",
    "        df = self.add_features(df) # 特徴量の追加\n",
    "        return df"
   ]
  },
  {
   "cell_type": "code",
   "execution_count": 14,
   "metadata": {
    "_kg_hide-input": false,
    "papermill": {
     "duration": 0.016709,
     "end_time": "2024-12-13T13:23:11.407504",
     "exception": false,
     "start_time": "2024-12-13T13:23:11.390795",
     "status": "completed"
    },
    "tags": [],
    "trusted": true
   },
   "outputs": [
    {
     "name": "stdout",
     "output_type": "stream",
     "text": [
      "\n",
      "Shape of dataframe: (28800, 72)\n",
      "Memory usage: 4.38 MB\n",
      "\n",
      "   ID                       dri_score psych_disturb    cyto_score diabetes  \\\n",
      "0   0  N/A - non-malignant indication            No           nan       No   \n",
      "1   1                    Intermediate            No  Intermediate       No   \n",
      "2   2  N/A - non-malignant indication            No           nan       No   \n",
      "3   3                            High            No  Intermediate       No   \n",
      "4   4                            High            No           nan       No   \n",
      "\n",
      "   hla_match_c_high  hla_high_res_8          tbi_status arrhythmia  \\\n",
      "0              -1.0             6.0              No TBI         No   \n",
      "1               2.0             8.0  TBI +- Other, >cGy         No   \n",
      "2               2.0             8.0              No TBI         No   \n",
      "3               2.0             8.0              No TBI         No   \n",
      "4               2.0             8.0              No TBI         No   \n",
      "\n",
      "   hla_low_res_6        graft_type vent_hist renal_issue pulm_severe  \\\n",
      "0            6.0       Bone marrow        No          No          No   \n",
      "1            6.0  Peripheral blood        No          No          No   \n",
      "2            6.0       Bone marrow        No          No          No   \n",
      "3            6.0       Bone marrow        No          No          No   \n",
      "4            6.0  Peripheral blood        No          No          No   \n",
      "\n",
      "  prim_disease_hct  hla_high_res_6 cmv_status  hla_high_res_10  \\\n",
      "0              IEA             6.0        +/+              8.0   \n",
      "1              AML             6.0        +/+             10.0   \n",
      "2              HIS             6.0        +/+             10.0   \n",
      "3              ALL             6.0        +/+             10.0   \n",
      "4              MPN             6.0        +/+             10.0   \n",
      "\n",
      "   hla_match_dqb1_high tce_imm_match  hla_nmdp_6  hla_match_c_low rituximab  \\\n",
      "0                  2.0           nan         6.0              2.0        No   \n",
      "1                  2.0           P/P         6.0              2.0        No   \n",
      "2                  2.0           P/P         6.0              2.0        No   \n",
      "3                  2.0           P/P         6.0              2.0        No   \n",
      "4                  2.0           nan         6.0              2.0        No   \n",
      "\n",
      "   hla_match_drb1_low  hla_match_dqb1_low prod_type cyto_score_detail  \\\n",
      "0                 2.0                 2.0        BM               nan   \n",
      "1                 2.0                 2.0        PB      Intermediate   \n",
      "2                 2.0                 2.0        BM               nan   \n",
      "3                 2.0                 2.0        BM      Intermediate   \n",
      "4                 2.0                 2.0        PB               nan   \n",
      "\n",
      "  conditioning_intensity               ethnicity  year_hct obesity   mrd_hct  \\\n",
      "0                    nan  Not Hispanic or Latino    2016.0      No       nan   \n",
      "1                    MAC  Not Hispanic or Latino    2008.0      No  Positive   \n",
      "2                    nan  Not Hispanic or Latino    2020.0      No       nan   \n",
      "3                    MAC  Not Hispanic or Latino    2009.0      No  Positive   \n",
      "4                    MAC      Hispanic or Latino    2018.0      No       nan   \n",
      "\n",
      "  in_vivo_tcd   tce_match  hla_match_a_high hepatic_severe  donor_age  \\\n",
      "0         Yes         nan               2.0             No  -1.000000   \n",
      "1          No  Permissive               2.0             No  72.290001   \n",
      "2         Yes         nan               2.0             No  -1.000000   \n",
      "3          No  Permissive               2.0             No  29.230000   \n",
      "4         Yes         nan               2.0             No  56.810001   \n",
      "\n",
      "  prior_tumor  hla_match_b_low peptic_ulcer  age_at_hct  hla_match_a_low  \\\n",
      "0          No              2.0           No    9.942000              2.0   \n",
      "1          No              2.0           No   43.705002              2.0   \n",
      "2          No              2.0           No   33.997002              2.0   \n",
      "3          No              2.0           No   43.244999              2.0   \n",
      "4          No              2.0           No   29.740000              2.0   \n",
      "\n",
      "               gvhd_proph rheum_issue sex_match  hla_match_b_high  \\\n",
      "0                 FKalone          No       M-F               2.0   \n",
      "1  Other GVHD Prophylaxis          No       F-F               2.0   \n",
      "2  Cyclophosphamide alone          No       F-M               2.0   \n",
      "3       FK+ MMF +- others          No       M-M               2.0   \n",
      "4     TDEPLETION +- other          No       M-F               2.0   \n",
      "\n",
      "                         race_group  comorbidity_score  karnofsky_score  \\\n",
      "0                More than one race                0.0             90.0   \n",
      "1                             Asian                3.0             90.0   \n",
      "2                More than one race                0.0             90.0   \n",
      "3                             White                0.0             90.0   \n",
      "4  American Indian or Alaska Native                1.0             90.0   \n",
      "\n",
      "  hepatic_mild          tce_div_match donor_related      melphalan_dose  \\\n",
      "0           No                    nan     Unrelated  N/A, Mel not given   \n",
      "1           No  Permissive mismatched       Related  N/A, Mel not given   \n",
      "2           No  Permissive mismatched       Related  N/A, Mel not given   \n",
      "3          Yes  Permissive mismatched     Unrelated  N/A, Mel not given   \n",
      "4           No  Permissive mismatched       Related                 MEL   \n",
      "\n",
      "   hla_low_res_8 cardiac  hla_match_drb1_high pulm_moderate  hla_low_res_10  \\\n",
      "0            8.0      No                  2.0            No            10.0   \n",
      "1            8.0      No                  2.0           Yes            10.0   \n",
      "2            8.0      No                  2.0            No            10.0   \n",
      "3            8.0      No                  2.0            No            10.0   \n",
      "4            8.0      No                  2.0            No            10.0   \n",
      "\n",
      "   efs    efs_time sex_match_bool is_cyto_score_same         age_bin  \\\n",
      "0  0.0   42.355999          False                  0  (0.0441, 16.0]   \n",
      "1  1.0    4.672000           True                  1    (30.0, 50.0]   \n",
      "2  0.0   19.792999          False                  0    (30.0, 50.0]   \n",
      "3  0.0  102.348999           True                  1    (30.0, 50.0]   \n",
      "4  0.0   16.223000          False                  0    (16.0, 30.0]   \n",
      "\n",
      "     age_ts  age_comorbidity  age_karnofsky karnofsky_squared  \\\n",
      "0 -1.000000         0.000000     894.780029            8100.0   \n",
      "1  0.604579       131.115005    3933.449951            8100.0   \n",
      "2 -1.000000         0.000000    3059.729980            8100.0   \n",
      "3  1.479473         0.000000    3892.050049            8100.0   \n",
      "4  0.523499        29.740000    2676.600098            8100.0   \n",
      "\n",
      "              cos_year  diff_age_vs_donor sex_one sex_two same_sex  \n",
      "0   0.5358267949789937          -1.000000       M       F        0  \n",
      "1   0.8763066800438605         -28.584999       F       F        1  \n",
      "2   0.3090169943749589          -1.000000       F       M        0  \n",
      "3   0.8443279255020175          14.015000       M       M        1  \n",
      "4  0.42577929156507643         -27.070000       M       F        0  \n"
     ]
    }
   ],
   "source": [
    "# インスタンス作成\n",
    "fe = FE()\n",
    "df_train, cat_cols = fe.apply_fe(CFG.train_path)"
   ]
  },
  {
   "cell_type": "code",
   "execution_count": null,
   "metadata": {
    "papermill": {
     "duration": 0.075873,
     "end_time": "2024-12-13T13:23:12.227636",
     "exception": false,
     "start_time": "2024-12-13T13:23:12.151763",
     "status": "completed"
    },
    "tags": [],
    "trusted": true
   },
   "outputs": [
    {
     "name": "stdout",
     "output_type": "stream",
     "text": [
      "\n",
      "Shape of dataframe: (3, 58)\n",
      "Memory usage: 0.00 MB\n",
      "\n",
      "      ID                       dri_score psych_disturb    cyto_score diabetes  \\\n",
      "0  28800  N/A - non-malignant indication            No       Unknown       No   \n",
      "1  28801                    Intermediate            No  Intermediate       No   \n",
      "2  28802  N/A - non-malignant indication            No       Unknown       No   \n",
      "\n",
      "   hla_match_c_high  hla_high_res_8          tbi_status arrhythmia  \\\n",
      "0              -1.0             6.0              No TBI         No   \n",
      "1               2.0             8.0  TBI +- Other, >cGy         No   \n",
      "2               2.0             8.0              No TBI         No   \n",
      "\n",
      "   hla_low_res_6        graft_type vent_hist renal_issue pulm_severe  \\\n",
      "0            6.0       Bone marrow        No          No          No   \n",
      "1            6.0  Peripheral blood        No          No          No   \n",
      "2            6.0       Bone marrow        No          No          No   \n",
      "\n",
      "  prim_disease_hct  hla_high_res_6 cmv_status  hla_high_res_10  \\\n",
      "0              IEA             6.0        +/+              8.0   \n",
      "1              AML             6.0        +/+             10.0   \n",
      "2              HIS             6.0        +/+             10.0   \n",
      "\n",
      "   hla_match_dqb1_high tce_imm_match  hla_nmdp_6  hla_match_c_low rituximab  \\\n",
      "0                  2.0       Unknown         6.0              2.0        No   \n",
      "1                  2.0           P/P         6.0              2.0        No   \n",
      "2                  2.0           P/P         6.0              2.0        No   \n",
      "\n",
      "   hla_match_drb1_low  hla_match_dqb1_low prod_type cyto_score_detail  \\\n",
      "0                 2.0                 2.0        BM           Unknown   \n",
      "1                 2.0                 2.0        PB      Intermediate   \n",
      "2                 2.0                 2.0        BM           Unknown   \n",
      "\n",
      "  conditioning_intensity               ethnicity  year_hct obesity   mrd_hct  \\\n",
      "0                Unknown  Not Hispanic or Latino    2016.0      No   Unknown   \n",
      "1                    MAC  Not Hispanic or Latino    2008.0      No  Positive   \n",
      "2                Unknown  Not Hispanic or Latino    2019.0      No   Unknown   \n",
      "\n",
      "  in_vivo_tcd   tce_match  hla_match_a_high hepatic_severe  donor_age  \\\n",
      "0         Yes     Unknown               2.0             No  -1.000000   \n",
      "1          No  Permissive               2.0             No  72.290001   \n",
      "2         Yes     Unknown               2.0             No  -1.000000   \n",
      "\n",
      "  prior_tumor  hla_match_b_low peptic_ulcer  age_at_hct  hla_match_a_low  \\\n",
      "0          No              2.0           No    9.942000              2.0   \n",
      "1          No              2.0           No   43.705002              2.0   \n",
      "2          No              2.0           No   33.997002              2.0   \n",
      "\n",
      "               gvhd_proph rheum_issue sex_match  hla_match_b_high  \\\n",
      "0                 FKalone          No       M-F               2.0   \n",
      "1  Other GVHD Prophylaxis          No       F-F               2.0   \n",
      "2  Cyclophosphamide alone          No       F-M               2.0   \n",
      "\n",
      "           race_group  comorbidity_score  karnofsky_score hepatic_mild  \\\n",
      "0  More than one race                0.0             90.0           No   \n",
      "1               Asian                3.0             90.0           No   \n",
      "2  More than one race                0.0             90.0           No   \n",
      "\n",
      "           tce_div_match donor_related      melphalan_dose  hla_low_res_8  \\\n",
      "0                Unknown     Unrelated  N/A, Mel not given            8.0   \n",
      "1  Permissive mismatched       Related  N/A, Mel not given            8.0   \n",
      "2  Permissive mismatched       Related  N/A, Mel not given            8.0   \n",
      "\n",
      "  cardiac  hla_match_drb1_high pulm_moderate  hla_low_res_10  \n",
      "0      No                  2.0            No            10.0  \n",
      "1      No                  2.0           Yes            10.0  \n",
      "2      No                  2.0            No            10.0  \n"
     ]
    }
   ],
   "source": [
    "test_data, _ = fe.apply_fe(CFG.test_path)"
   ]
  },
  {
   "cell_type": "markdown",
   "metadata": {
    "papermill": {
     "duration": 0.009157,
     "end_time": "2024-12-13T13:23:12.246272",
     "exception": false,
     "start_time": "2024-12-13T13:23:12.237115",
     "status": "completed"
    },
    "tags": []
   },
   "source": [
    "<p style=\"font-size: 125%; text-align: left; border-radius: 40px 40px;font-weight: bold;\">可視化【EDA】</p>"
   ]
  },
  {
   "cell_type": "code",
   "execution_count": null,
   "metadata": {
    "trusted": true
   },
   "outputs": [],
   "source": [
    "class EDA:\n",
    "    def __init__(self, color, data):\n",
    "        # self._colorscale = sns.color_palette(colorscale)\n",
    "        self._color = color\n",
    "        self.data = data\n",
    "\n",
    "    def _template(self, ax, title):\n",
    "        ax.set_title(title, fontsize=16, color=self._color, ha='center')\n",
    "        # ax.set_facecolor('rgba(247, 230, 202, 1)')\n",
    "        ax.grid(True, axis='x', color='grey', linestyle='-', linewidth=0.5)\n",
    "        ax.grid(True, axis='y', color='grey', linestyle='-', linewidth=0.5)\n",
    "        ax.tick_params(axis='both', colors=self._color)\n",
    "        ax.set_xlabel('Values', color=self._color)\n",
    "        ax.set_ylabel('Count', color=self._color)\n",
    "        return ax\n",
    "\n",
    "    def distribution_plot(self, col, title):\n",
    "        fig, ax = plt.subplots(figsize=(8, 6))\n",
    "        sns.histplot(self.data[col], bins=100, color=self._color, ax=ax)\n",
    "        ax = self._template(ax, f'{title}')\n",
    "        plt.show()\n",
    "\n",
    "    def bar_chart(self, col):\n",
    "        value_counts = self.data[col].value_counts().reset_index()\n",
    "        value_counts.columns = [col, 'count']\n",
    "\n",
    "        fig, ax = plt.subplots(figsize=(8, 6))\n",
    "        sns.barplot(data=value_counts, x='count', y=col, ax=ax)\n",
    "\n",
    "        ax = self._template(ax, f'{col}')\n",
    "        ax.set_xlabel('Count')\n",
    "        ax.set_ylabel('')\n",
    "        plt.show()\n",
    "\n",
    "    def _plot_cv(self, scores, title, metric='Stratified C-Index'):\n",
    "        fold_scores = [round(score, 3) for score in scores]\n",
    "        mean_score = round(np.mean(scores), 3)\n",
    "\n",
    "        fig, ax = plt.subplots(figsize=(8, 6))\n",
    "\n",
    "        ax.scatter(range(1, len(fold_scores) + 1), fold_scores, color=self._color, s=100, label='Fold Scores', marker='D')\n",
    "\n",
    "        ax.plot([1, len(fold_scores)], [mean_score, mean_score], color='#B22222', linestyle='--', label=f'Mean: {mean_score:.3f}')\n",
    "        \n",
    "        ax.set_title(f'{title} | Cross-validation Mean {metric} Score: {mean_score}', fontsize=16, color=self._color, ha='center')\n",
    "        ax.set_xlabel('Fold', color=self._color)\n",
    "        ax.set_ylabel(f'{metric} Score', color=self._color)\n",
    "        \n",
    "        ax.legend()\n",
    "        ax.set_xticks(range(1, len(fold_scores) + 1))\n",
    "        ax.set_ylim(min(fold_scores) - 0.05, max(fold_scores) + 0.05)\n",
    "\n",
    "        ax = self._template(ax, f'{title} Cross-validation')\n",
    "        plt.show()"
   ]
  },
  {
   "cell_type": "markdown",
   "metadata": {},
   "source": [
    "<p style=\"font-size: 125%; text-align: left; border-radius: 40px 40px;font-weight: bold;\">生存確率（目的変数）の推定【Targets】</p>"
   ]
  },
  {
   "cell_type": "markdown",
   "metadata": {},
   "source": [
    "特徴的な点  \n",
    "- カテゴリ変数にone hot encodingを実施\n",
    "- cvにおいて一つの値しか取らないカラムを削除"
   ]
  },
  {
   "cell_type": "code",
   "execution_count": null,
   "metadata": {
    "trusted": true
   },
   "outputs": [],
   "source": [
    "class Targets:\n",
    "    def __init__(self, data, cat_cols, penalizer, n_splits):\n",
    "        self.data = data\n",
    "        self.cat_cols = cat_cols\n",
    "        self._length = len(self.data)\n",
    "        self._penalizer = penalizer\n",
    "        self._n_splits = n_splits\n",
    "\n",
    "    def _prepare_cv(self): # cvのためのデータ分割\n",
    "        oof_preds = np.zeros(self._length)\n",
    "        cv = KFold(n_splits=self._n_splits, shuffle=True, random_state=42)\n",
    "        return cv, oof_preds\n",
    "\n",
    "    def score(self, df_true, df_prediction, event_label, interval_label, prediction_label): #層別C-indexの計算\n",
    "        # ID列を削除\n",
    "        del df_true[\"ID\"]\n",
    "        del df_prediction[\"ID\"]\n",
    "\n",
    "        merged_df = pd.concat([df_true, df_prediction], axis=1)\n",
    "        merged_df.reset_index(inplace=True)\n",
    "        merged_df_race_dict = dict(merged_df.groupby(['race_group']).groups) # 人種ごとに該当するデータのインデックスを辞書形式で保管\n",
    "        metric_list = []\n",
    "        for race in merged_df_race_dict.keys(): #人種ごと\n",
    "            indices = sorted(merged_df_race_dict[race]) #該当する人種のインデックスを取得\n",
    "            merged_df_race = merged_df.iloc[indices] # 該当するインデックスのデータを取得\n",
    "            c_index_race = concordance_index( # concordance_indexはefs, efs_time, predicton（生存確率）からC-indexを計算\n",
    "                merged_df_race[interval_label],\n",
    "                -merged_df_race[prediction_label], # 符号を反転（通常 C-Index は「リスクが高いほど短命」と仮定するため）\n",
    "                merged_df_race[event_label])\n",
    "            metric_list.append(c_index_race)\n",
    "        return float(np.mean(metric_list)-np.sqrt(np.var(metric_list)))\n",
    "\n",
    "    def validate_model(self, preds, title):\n",
    "        y_true = self.data[['ID', 'efs', 'efs_time', 'race_group']].copy()\n",
    "        y_pred = self.data[['ID']].copy()\n",
    "        y_pred['prediction'] = preds\n",
    "        c_index_score = self.score(y_true.copy(), y_pred.copy(), \"efs\", \"efs_time\", \"prediction\")\n",
    "        print(f'Overall Stratified C-Index Score for {title}: {c_index_score:.4f}')\n",
    "\n",
    "    def create_target1(self): # Cox比例ハザードモデル\n",
    "        '''\n",
    "        Constant columns are dropped if they exist in a fold. Otherwise, the code produces error:\n",
    "        delta contains nan value(s). Convergence halted. Please see the following tips in the lifelines documentation: \n",
    "        https://lifelines.readthedocs.io/en/latest/Examples.html#problems-with-convergence-in-the-cox-proportional-hazard-model\n",
    "        '''\n",
    "        cv, oof_preds = self._prepare_cv() #データ分割\n",
    "        data = pd.get_dummies(self.data, columns=self.cat_cols, drop_first=True).drop('ID', axis=1) # カテゴリ変数にone hot encodingを実施\n",
    "\n",
    "        for fold, (train_index, valid_index) in enumerate(cv.split(data), 1):\n",
    "            df_train = data.iloc[train_index]\n",
    "            valid_data = data.iloc[valid_index]\n",
    "            unique_columns = df_train.nunique() > 1\n",
    "            removed_columns = df_train.columns[~unique_columns] # 一つの値しか取らないカラムを削除\n",
    "            df_train = df_train.loc[:, unique_columns]\n",
    "            valid_data = valid_data[df_train.columns]\n",
    "            print(f\"Fold {fold}:\")\n",
    "            print(f\"Removed columns: {list(removed_columns)}\") # 削除されたカラムとその数を表示\n",
    "            print(f\"Number of removed columns: {len(removed_columns)}\")\n",
    "            cph = CoxPHFitter(penalizer=self._penalizer) # Cox比例ハザードモデルのインスタンス作成（penalizer：正則化の強さ（過学習を防止する目的））\n",
    "            cph.fit(df_train, duration_col='efs_time', event_col='efs')\n",
    "            oof_preds[valid_index] = cph.predict_partial_hazard(valid_data)\n",
    "\n",
    "        self.data['target1'] = oof_preds\n",
    "        self.validate_model(oof_preds, 'Cox')\n",
    "        return self.data\n",
    "\n",
    "    def create_target2(self): # Kaplan-Meier生存関数モデル\n",
    "        cv, oof_preds = self._prepare_cv() #データ分割\n",
    "\n",
    "        for train_index, valid_index in cv.split(self.data):\n",
    "            df_train = self.data.iloc[train_index]\n",
    "            valid_data = self.data.iloc[valid_index]\n",
    "            kmf = KaplanMeierFitter()\n",
    "            kmf.fit(durations=df_train['efs_time'], event_observed=df_train['efs'])\n",
    "            oof_preds[valid_index] = kmf.survival_function_at_times(valid_data['efs_time']).values\n",
    "\n",
    "        self.data['target2'] = oof_preds\n",
    "        self.validate_model(oof_preds, 'Kaplan-Meier')\n",
    "\n",
    "        return self.data\n",
    "\n",
    "    def create_target3(self): # Nelson-Aalen生存関数モデル\n",
    "        cv, oof_preds = self._prepare_cv()\n",
    "        for train_index, valid_index in cv.split(self.data):\n",
    "            df_train = self.data.iloc[train_index]\n",
    "            valid_data = self.data.iloc[valid_index]\n",
    "            naf = NelsonAalenFitter()\n",
    "            naf.fit(durations=df_train['efs_time'], event_observed=df_train['efs'])\n",
    "            oof_preds[valid_index] = -naf.cumulative_hazard_at_times(valid_data['efs_time']).values\n",
    "\n",
    "        self.data['target3'] = oof_preds\n",
    "        self.validate_model(oof_preds, 'Nelson-Aalen')\n",
    "        return self.data\n",
    "\n",
    "    def create_target4(self): # \n",
    "        self.data['target4'] = self.data.efs_time.copy()\n",
    "        self.data.loc[self.data.efs == 0, 'target4'] *= -1\n",
    "        return self.data"
   ]
  },
  {
   "cell_type": "markdown",
   "metadata": {},
   "source": [
    "<p style=\"font-size: 125%; text-align: left; border-radius: 40px 40px;font-weight: bold;\">モデル構築【MD】</p>"
   ]
  },
  {
   "cell_type": "code",
   "execution_count": null,
   "metadata": {
    "_kg_hide-input": false,
    "papermill": {
     "duration": 0.039648,
     "end_time": "2024-12-13T13:23:12.295144",
     "exception": false,
     "start_time": "2024-12-13T13:23:12.255496",
     "status": "completed"
    },
    "tags": [],
    "trusted": true
   },
   "outputs": [],
   "source": [
    "class MD:\n",
    "    def __init__(self,color, data, cat_cols, early_stop, penalizer, n_splits):\n",
    "        self.eda = EDA(color, data) # EDAクラスのインスタンス作成\n",
    "        self.targets = Targets(data, cat_cols, penalizer, n_splits) # Targetsクラスのインスタンス作成\n",
    "        self.data = data\n",
    "        self.cat_cols = cat_cols\n",
    "        self.early_stop = early_stop\n",
    "\n",
    "    def create_targets(self): # 4種類の生存確率\n",
    "        self.data = self.targets.create_target1()\n",
    "        self.data = self.targets.create_target2()\n",
    "        self.data = self.targets.create_target3()\n",
    "        self.data = self.targets.create_target4()\n",
    "        return self.data\n",
    "\n",
    "    def score(self, df_true, df_prediction, event_label, interval_label, prediction_label): #層別C-indexの計算\n",
    "        # ID列を削除\n",
    "        del df_true[\"ID\"]\n",
    "        del df_prediction[\"ID\"]\n",
    "\n",
    "        merged_df = pd.concat([df_true, df_prediction], axis=1)\n",
    "        merged_df.reset_index(inplace=True)\n",
    "        merged_df_race_dict = dict(merged_df.groupby(['race_group']).groups) # 人種ごとに該当するデータのインデックスを辞書形式で保管\n",
    "        metric_list = []\n",
    "        for race in merged_df_race_dict.keys(): #人種ごと\n",
    "            indices = sorted(merged_df_race_dict[race]) #該当する人種のインデックスを取得\n",
    "            merged_df_race = merged_df.iloc[indices] # 該当するインデックスのデータを取得\n",
    "            c_index_race = concordance_index( # concordance_indexはefs, efs_time, predicton（生存確率）からC-indexを計算\n",
    "                merged_df_race[interval_label],\n",
    "                -merged_df_race[prediction_label], # 符号を反転（通常 C-Index は「リスクが高いほど短命」と仮定するため）\n",
    "                merged_df_race[event_label])\n",
    "            metric_list.append(c_index_race)\n",
    "        return float(np.mean(metric_list)-np.sqrt(np.var(metric_list)))\n",
    "\n",
    "    def train_model(self, params, target, title):\n",
    "        for col in self.cat_cols:\n",
    "            self.data[col] = self.data[col].astype('category')\n",
    "        X = self.data.drop(['ID', 'efs', 'efs_time', 'target1', 'target2', 'target3', 'target4'], axis=1)\n",
    "        y = self.data[target]\n",
    "        models, fold_scores = [], []\n",
    "        cv, oof_preds = self.targets._prepare_cv()\n",
    "        for fold, (train_index, valid_index) in enumerate(cv.split(X, y)):\n",
    "            X_train = X.iloc[train_index]\n",
    "            X_valid = X.iloc[valid_index]\n",
    "            y_train = y.iloc[train_index]\n",
    "            y_valid = y.iloc[valid_index]\n",
    "            if title.startswith('LightGBM'):\n",
    "                model = lgb.LGBMRegressor(**params)\n",
    "                model.fit(\n",
    "                    X_train,\n",
    "                    y_train,\n",
    "                    eval_set=[(X_valid, y_valid)],\n",
    "                    eval_metric='rmse',\n",
    "                    callbacks=[lgb.early_stopping(self.early_stop, verbose=0), lgb.log_evaluation(0)]\n",
    "                )\n",
    "            elif title.startswith('CatBoost'):\n",
    "                model = CatBoostRegressor(**params, verbose=0, cat_features=self.cat_cols)\n",
    "                model.fit(\n",
    "                    X_train,\n",
    "                    y_train,\n",
    "                    eval_set=(X_valid, y_valid),\n",
    "                    early_stopping_rounds=self.early_stop, \n",
    "                    verbose=0\n",
    "                )\n",
    "            models.append(model) # モデルのリストに追加\n",
    "            oof_preds[valid_index] = model.predict(X_valid) # 予測値を格納\n",
    "\n",
    "            y_true_fold = self.data.iloc[valid_index][['ID', 'efs', 'efs_time', 'race_group']].copy()\n",
    "            y_pred_fold = self.data.iloc[valid_index][['ID']].copy()\n",
    "            y_pred_fold['prediction'] = oof_preds[valid_index] # 予測値を格納\n",
    "\n",
    "            fold_score = self.score(y_true_fold, y_pred_fold, \"efs\", \"efs_time\", \"prediction\")\n",
    "            fold_scores.append(fold_score) # スコアのリストに追加\n",
    "        self.eda._plot_cv(fold_scores, title)\n",
    "        self.targets.validate_model(oof_preds, title)\n",
    "        return models, oof_preds\n",
    "\n",
    "    def infer_model(self, data, models):\n",
    "        data = data.drop(['ID'], axis=1)\n",
    "        for col in self.cat_cols: # カテゴリ変数をcategory型に変換\n",
    "            data[col] = data[col].astype('category')\n",
    "        return np.mean([model.predict(data) for model in models], axis=0)"
   ]
  },
  {
   "cell_type": "code",
   "execution_count": null,
   "metadata": {
    "_kg_hide-input": false,
    "papermill": {
     "duration": 0.01829,
     "end_time": "2024-12-13T13:23:12.32397",
     "exception": false,
     "start_time": "2024-12-13T13:23:12.30568",
     "status": "completed"
    },
    "tags": [],
    "trusted": true
   },
   "outputs": [],
   "source": [
    "# MDクラスのインスタンス作成\n",
    "md = MD(CFG.color, df_train, cat_cols, CFG.early_stop, CFG.penalizer, CFG.n_splits)"
   ]
  },
  {
   "cell_type": "code",
   "execution_count": null,
   "metadata": {},
   "outputs": [
    {
     "name": "stdout",
     "output_type": "stream",
     "text": [
      "Fold 1:\n",
      "Removed columns: []\n",
      "Number of removed columns: 0\n",
      "Fold 2:\n",
      "Removed columns: ['gvhd_proph_FK+- others(not MMF,MTX)']\n",
      "Number of removed columns: 1\n",
      "Fold 3:\n",
      "Removed columns: []\n",
      "Number of removed columns: 0\n",
      "Fold 4:\n",
      "Removed columns: []\n",
      "Number of removed columns: 0\n",
      "Fold 5:\n",
      "Removed columns: []\n",
      "Number of removed columns: 0\n",
      "Overall Stratified C-Index Score for Cox: 0.6564\n",
      "Overall Stratified C-Index Score for Kaplan-Meier: 0.9983\n",
      "Overall Stratified C-Index Score for Nelson-Aalen: 0.9983\n"
     ]
    }
   ],
   "source": [
    "df_train = md.create_targets()"
   ]
  },
  {
   "cell_type": "markdown",
   "metadata": {},
   "source": [
    "各推定量のC統計量のうち、Cox比例ハザードモデルものが低い原因（あくまでも推定）\n",
    "- 過学習を防ぐ目的で`_penalizer`を追加しているため？？\n",
    "> Overall Stratified C-Index Score for Cox: 0.6564  \n",
    "> Overall Stratified C-Index Score for Kaplan-Meier: 0.9983  \n",
    "> Overall Stratified C-Index Score for Nelson-Aalen: 0.9983  \n"
   ]
  },
  {
   "cell_type": "code",
   "execution_count": null,
   "metadata": {
    "trusted": true
   },
   "outputs": [
    {
     "data": {
      "image/png": "[encoded data removed]",
      "text/plain": [
       "<Figure size 800x600 with 1 Axes>"
      ]
     },
     "metadata": {},
     "output_type": "display_data"
    }
   ],
   "source": [
    "md.eda.bar_chart('race_group')"
   ]
  },
  {
   "cell_type": "code",
   "execution_count": null,
   "metadata": {
    "papermill": {
     "duration": 39.008232,
     "end_time": "2024-12-13T13:23:51.341762",
     "exception": false,
     "start_time": "2024-12-13T13:23:12.33353",
     "status": "completed"
    },
    "tags": [],
    "trusted": true
   },
   "outputs": [
    {
     "data": {
      "image/png": "[encoded data removed]",
      "text/plain": [
       "<Figure size 800x600 with 1 Axes>"
      ]
     },
     "metadata": {},
     "output_type": "display_data"
    }
   ],
   "source": [
    "md.eda.distribution_plot('target1', 'Cox Target')"
   ]
  },
  {
   "cell_type": "code",
   "execution_count": null,
   "metadata": {
    "papermill": {
     "duration": 0.180799,
     "end_time": "2024-12-13T13:23:51.538524",
     "exception": false,
     "start_time": "2024-12-13T13:23:51.357725",
     "status": "completed"
    },
    "tags": [],
    "trusted": true
   },
   "outputs": [
    {
     "data": {
      "image/png": "[encoded data removed]",
      "text/plain": [
       "<Figure size 800x600 with 1 Axes>"
      ]
     },
     "metadata": {},
     "output_type": "display_data"
    }
   ],
   "source": [
    "md.eda.distribution_plot('target2', 'Kaplan-Meier Target')"
   ]
  },
  {
   "cell_type": "code",
   "execution_count": null,
   "metadata": {
    "papermill": {
     "duration": 0.169091,
     "end_time": "2024-12-13T13:23:51.718819",
     "exception": false,
     "start_time": "2024-12-13T13:23:51.549728",
     "status": "completed"
    },
    "tags": [],
    "trusted": true
   },
   "outputs": [
    {
     "data": {
      "image/png": "[encoded data removed]",
      "text/plain": [
       "<Figure size 800x600 with 1 Axes>"
      ]
     },
     "metadata": {},
     "output_type": "display_data"
    }
   ],
   "source": [
    "md.eda.distribution_plot('target3', 'Nelson-Aalen Target')"
   ]
  },
  {
   "cell_type": "code",
   "execution_count": null,
   "metadata": {
    "trusted": true
   },
   "outputs": [
    {
     "data": {
      "image/png": "[encoded data removed]",
      "text/plain": [
       "<Figure size 800x600 with 1 Axes>"
      ]
     },
     "metadata": {},
     "output_type": "display_data"
    }
   ],
   "source": [
    "md.eda.distribution_plot('target4', 'Cox-Loss Target')"
   ]
  },
  {
   "cell_type": "code",
   "execution_count": null,
   "metadata": {
    "papermill": {
     "duration": 0.079694,
     "end_time": "2024-12-13T13:23:51.808887",
     "exception": false,
     "start_time": "2024-12-13T13:23:51.729193",
     "status": "completed"
    },
    "tags": [],
    "trusted": true
   },
   "outputs": [
    {
     "name": "stdout",
     "output_type": "stream",
     "text": [
      "\n",
      "Shape of dataframe: (28800, 64)\n",
      "Memory usage: 4.49 MB\n",
      "\n",
      "   ID                       dri_score psych_disturb    cyto_score diabetes  \\\n",
      "0   0  N/A - non-malignant indication            No       Unknown       No   \n",
      "1   1                    Intermediate            No  Intermediate       No   \n",
      "2   2  N/A - non-malignant indication            No       Unknown       No   \n",
      "3   3                            High            No  Intermediate       No   \n",
      "4   4                            High            No       Unknown       No   \n",
      "\n",
      "   hla_match_c_high  hla_high_res_8          tbi_status arrhythmia  \\\n",
      "0              -1.0             6.0              No TBI         No   \n",
      "1               2.0             8.0  TBI +- Other, >cGy         No   \n",
      "2               2.0             8.0              No TBI         No   \n",
      "3               2.0             8.0              No TBI         No   \n",
      "4               2.0             8.0              No TBI         No   \n",
      "\n",
      "   hla_low_res_6        graft_type vent_hist renal_issue pulm_severe  \\\n",
      "0            6.0       Bone marrow        No          No          No   \n",
      "1            6.0  Peripheral blood        No          No          No   \n",
      "2            6.0       Bone marrow        No          No          No   \n",
      "3            6.0       Bone marrow        No          No          No   \n",
      "4            6.0  Peripheral blood        No          No          No   \n",
      "\n",
      "  prim_disease_hct  hla_high_res_6 cmv_status  hla_high_res_10  \\\n",
      "0              IEA             6.0        +/+              8.0   \n",
      "1              AML             6.0        +/+             10.0   \n",
      "2              HIS             6.0        +/+             10.0   \n",
      "3              ALL             6.0        +/+             10.0   \n",
      "4              MPN             6.0        +/+             10.0   \n",
      "\n",
      "   hla_match_dqb1_high tce_imm_match  hla_nmdp_6  hla_match_c_low rituximab  \\\n",
      "0                  2.0       Unknown         6.0              2.0        No   \n",
      "1                  2.0           P/P         6.0              2.0        No   \n",
      "2                  2.0           P/P         6.0              2.0        No   \n",
      "3                  2.0           P/P         6.0              2.0        No   \n",
      "4                  2.0       Unknown         6.0              2.0        No   \n",
      "\n",
      "   hla_match_drb1_low  hla_match_dqb1_low prod_type cyto_score_detail  \\\n",
      "0                 2.0                 2.0        BM           Unknown   \n",
      "1                 2.0                 2.0        PB      Intermediate   \n",
      "2                 2.0                 2.0        BM           Unknown   \n",
      "3                 2.0                 2.0        BM      Intermediate   \n",
      "4                 2.0                 2.0        PB           Unknown   \n",
      "\n",
      "  conditioning_intensity               ethnicity  year_hct obesity   mrd_hct  \\\n",
      "0                Unknown  Not Hispanic or Latino    2016.0      No   Unknown   \n",
      "1                    MAC  Not Hispanic or Latino    2008.0      No  Positive   \n",
      "2                Unknown  Not Hispanic or Latino    2019.0      No   Unknown   \n",
      "3                    MAC  Not Hispanic or Latino    2009.0      No  Positive   \n",
      "4                    MAC      Hispanic or Latino    2018.0      No   Unknown   \n",
      "\n",
      "  in_vivo_tcd   tce_match  hla_match_a_high hepatic_severe  donor_age  \\\n",
      "0         Yes     Unknown               2.0             No  -1.000000   \n",
      "1          No  Permissive               2.0             No  72.290001   \n",
      "2         Yes     Unknown               2.0             No  -1.000000   \n",
      "3          No  Permissive               2.0             No  29.230000   \n",
      "4         Yes     Unknown               2.0             No  56.810001   \n",
      "\n",
      "  prior_tumor  hla_match_b_low peptic_ulcer  age_at_hct  hla_match_a_low  \\\n",
      "0          No              2.0           No    9.942000              2.0   \n",
      "1          No              2.0           No   43.705002              2.0   \n",
      "2          No              2.0           No   33.997002              2.0   \n",
      "3          No              2.0           No   43.244999              2.0   \n",
      "4          No              2.0           No   29.740000              2.0   \n",
      "\n",
      "               gvhd_proph rheum_issue sex_match  hla_match_b_high  \\\n",
      "0                 FKalone          No       M-F               2.0   \n",
      "1  Other GVHD Prophylaxis          No       F-F               2.0   \n",
      "2  Cyclophosphamide alone          No       F-M               2.0   \n",
      "3       FK+ MMF +- others          No       M-M               2.0   \n",
      "4     TDEPLETION +- other          No       M-F               2.0   \n",
      "\n",
      "                         race_group  comorbidity_score  karnofsky_score  \\\n",
      "0                More than one race                0.0             90.0   \n",
      "1                             Asian                3.0             90.0   \n",
      "2                More than one race                0.0             90.0   \n",
      "3                             White                0.0             90.0   \n",
      "4  American Indian or Alaska Native                1.0             90.0   \n",
      "\n",
      "  hepatic_mild          tce_div_match donor_related      melphalan_dose  \\\n",
      "0           No                Unknown     Unrelated  N/A, Mel not given   \n",
      "1           No  Permissive mismatched       Related  N/A, Mel not given   \n",
      "2           No  Permissive mismatched       Related  N/A, Mel not given   \n",
      "3          Yes  Permissive mismatched     Unrelated  N/A, Mel not given   \n",
      "4           No  Permissive mismatched       Related                 MEL   \n",
      "\n",
      "   hla_low_res_8 cardiac  hla_match_drb1_high pulm_moderate  hla_low_res_10  \\\n",
      "0            8.0      No                  2.0            No            10.0   \n",
      "1            8.0      No                  2.0           Yes            10.0   \n",
      "2            8.0      No                  2.0            No            10.0   \n",
      "3            8.0      No                  2.0            No            10.0   \n",
      "4            8.0      No                  2.0            No            10.0   \n",
      "\n",
      "   efs    efs_time   target1   target2   target3     target4  \n",
      "0  0.0   42.355999  0.258209  0.461962 -0.772247  -42.355999  \n",
      "1  1.0    4.672000  0.964934  0.847723 -0.165197    4.672000  \n",
      "2  0.0   19.792999  0.126144  0.460785 -0.774799  -19.792999  \n",
      "3  0.0  102.348999  1.338445  0.455588 -0.786139 -102.348999  \n",
      "4  0.0   16.223000  0.912547  0.463916 -0.768026  -16.223000  \n"
     ]
    }
   ],
   "source": [
    "fe.info(df_train)"
   ]
  },
  {
   "cell_type": "markdown",
   "metadata": {
    "papermill": {
     "duration": 0.011062,
     "end_time": "2024-12-13T13:23:51.83194",
     "exception": false,
     "start_time": "2024-12-13T13:23:51.820878",
     "status": "completed"
    },
    "tags": []
   },
   "source": [
    "<p style=\"font-size: 125%; text-align: left; border-radius: 40px 40px;font-weight: bold;\">Cox比例ハザードモデルによる予測</p>\n",
    "\n",
    "- 目的変数\n",
    "    - target1\n",
    "- 予測モデル\n",
    "    - lgbm\n",
    "    - catboost"
   ]
  },
  {
   "cell_type": "code",
   "execution_count": null,
   "metadata": {
    "papermill": {
     "duration": 4808.205155,
     "end_time": "2024-12-13T14:44:00.048534",
     "exception": false,
     "start_time": "2024-12-13T13:23:51.843379",
     "status": "completed"
    },
    "tags": [],
    "trusted": true
   },
   "outputs": [],
   "source": [
    "# CatBoost\n",
    "ctb1_models, ctb1_oof_preds = md.train_model(CFG.ctb_params, target='target1', title='CatBoost')"
   ]
  },
  {
   "cell_type": "code",
   "execution_count": null,
   "metadata": {
    "trusted": true
   },
   "outputs": [
    {
     "data": {
      "image/png": "[encoded data removed]",
      "text/plain": [
       "<Figure size 800x600 with 1 Axes>"
      ]
     },
     "metadata": {},
     "output_type": "display_data"
    },
    {
     "name": "stdout",
     "output_type": "stream",
     "text": [
      "Overall Stratified C-Index Score for LightGBM: 0.6596\n"
     ]
    }
   ],
   "source": [
    "# LightGBM\n",
    "lgb1_models, lgb1_oof_preds = md.train_model(CFG.lgb_params, target='target1', title='LightGBM')"
   ]
  },
  {
   "cell_type": "code",
   "execution_count": null,
   "metadata": {
    "papermill": {
     "duration": 0.071675,
     "end_time": "2024-12-13T14:48:51.427728",
     "exception": false,
     "start_time": "2024-12-13T14:48:51.356053",
     "status": "completed"
    },
    "tags": [],
    "trusted": true
   },
   "outputs": [],
   "source": [
    "ctb1_preds = md.infer_model(test_data, ctb1_models)"
   ]
  },
  {
   "cell_type": "code",
   "execution_count": null,
   "metadata": {
    "trusted": true
   },
   "outputs": [],
   "source": [
    "lgb1_preds = md.infer_model(test_data, lgb1_models)"
   ]
  },
  {
   "cell_type": "markdown",
   "metadata": {
    "papermill": {
     "duration": 0.010491,
     "end_time": "2024-12-13T14:48:51.662203",
     "exception": false,
     "start_time": "2024-12-13T14:48:51.651712",
     "status": "completed"
    },
    "tags": []
   },
   "source": [
    "<p style=\"font-size: 125%; text-align: left; border-radius: 40px 40px;font-weight: bold;\">カプラン・マイヤー推定量による予測</p>\n",
    "\n",
    "- 目的変数\n",
    "    - target2\n",
    "- 予測モデル\n",
    "    - lgbm\n",
    "    - catboost"
   ]
  },
  {
   "cell_type": "code",
   "execution_count": null,
   "metadata": {
    "papermill": {
     "duration": 2470.336385,
     "end_time": "2024-12-13T15:30:02.009405",
     "exception": false,
     "start_time": "2024-12-13T14:48:51.67302",
     "status": "completed"
    },
    "tags": [],
    "trusted": true
   },
   "outputs": [],
   "source": [
    "ctb2_models, ctb2_oof_preds = md.train_model(CFG.ctb_params, target='target2', title='CatBoost')"
   ]
  },
  {
   "cell_type": "code",
   "execution_count": null,
   "metadata": {
    "papermill": {
     "duration": 38.457069,
     "end_time": "2024-12-13T15:30:40.477711",
     "exception": false,
     "start_time": "2024-12-13T15:30:02.020642",
     "status": "completed"
    },
    "tags": [],
    "trusted": true
   },
   "outputs": [
    {
     "data": {
      "image/png": "[encoded data removed]",
      "text/plain": [
       "<Figure size 800x600 with 1 Axes>"
      ]
     },
     "metadata": {},
     "output_type": "display_data"
    },
    {
     "name": "stdout",
     "output_type": "stream",
     "text": [
      "Overall Stratified C-Index Score for LightGBM: 0.6668\n"
     ]
    }
   ],
   "source": [
    "lgb2_models, lgb2_oof_preds = md.train_model(CFG.lgb_params, target='target2', title='LightGBM')"
   ]
  },
  {
   "cell_type": "code",
   "execution_count": null,
   "metadata": {
    "papermill": {
     "duration": 0.073959,
     "end_time": "2024-12-13T15:30:40.563068",
     "exception": false,
     "start_time": "2024-12-13T15:30:40.489109",
     "status": "completed"
    },
    "tags": [],
    "trusted": true
   },
   "outputs": [],
   "source": [
    "ctb2_preds = md.infer_model(test_data, ctb2_models)"
   ]
  },
  {
   "cell_type": "code",
   "execution_count": null,
   "metadata": {
    "papermill": {
     "duration": 0.170712,
     "end_time": "2024-12-13T15:30:40.747856",
     "exception": false,
     "start_time": "2024-12-13T15:30:40.577144",
     "status": "completed"
    },
    "tags": [],
    "trusted": true
   },
   "outputs": [],
   "source": [
    "lgb2_preds = md.infer_model(test_data, lgb2_models)"
   ]
  },
  {
   "cell_type": "markdown",
   "metadata": {},
   "source": [
    "<p style=\"font-size: 125%; text-align: left; border-radius: 40px 40px;font-weight: bold;\">ネルソン・アーレン推定量による予測</p>\n",
    "\n",
    "- 目的変数\n",
    "    - target3\n",
    "- 予測モデル\n",
    "    - lgbm\n",
    "    - catboost"
   ]
  },
  {
   "cell_type": "code",
   "execution_count": null,
   "metadata": {
    "papermill": {
     "duration": 2199.149038,
     "end_time": "2024-12-13T16:07:19.930791",
     "exception": false,
     "start_time": "2024-12-13T15:30:40.781753",
     "status": "completed"
    },
    "tags": [],
    "trusted": true
   },
   "outputs": [],
   "source": [
    "ctb3_models, ctb3_oof_preds = md.train_model(CFG.ctb_params, target='target3', title='CatBoost')"
   ]
  },
  {
   "cell_type": "code",
   "execution_count": null,
   "metadata": {
    "papermill": {
     "duration": 35.221097,
     "end_time": "2024-12-13T16:07:55.163635",
     "exception": false,
     "start_time": "2024-12-13T16:07:19.942538",
     "status": "completed"
    },
    "tags": [],
    "trusted": true
   },
   "outputs": [
    {
     "data": {
      "image/png": "[encoded data removed]",
      "text/plain": [
       "<Figure size 800x600 with 1 Axes>"
      ]
     },
     "metadata": {},
     "output_type": "display_data"
    },
    {
     "name": "stdout",
     "output_type": "stream",
     "text": [
      "Overall Stratified C-Index Score for LightGBM: 0.6691\n"
     ]
    }
   ],
   "source": [
    "lgb3_models, lgb3_oof_preds = md.train_model(CFG.lgb_params, target='target3', title='LightGBM')"
   ]
  },
  {
   "cell_type": "code",
   "execution_count": null,
   "metadata": {
    "papermill": {
     "duration": 0.06646,
     "end_time": "2024-12-13T16:07:55.241797",
     "exception": false,
     "start_time": "2024-12-13T16:07:55.175337",
     "status": "completed"
    },
    "tags": [],
    "trusted": true
   },
   "outputs": [],
   "source": [
    "ctb3_preds = md.infer_model(test_data, ctb3_models)"
   ]
  },
  {
   "cell_type": "code",
   "execution_count": null,
   "metadata": {
    "papermill": {
     "duration": 0.164669,
     "end_time": "2024-12-13T16:07:55.41872",
     "exception": false,
     "start_time": "2024-12-13T16:07:55.254051",
     "status": "completed"
    },
    "tags": [],
    "trusted": true
   },
   "outputs": [],
   "source": [
    "lgb3_preds = md.infer_model(test_data, lgb3_models)"
   ]
  },
  {
   "cell_type": "markdown",
   "metadata": {},
   "source": [
    "<p style=\"font-size: 125%; text-align: left; border-radius: 40px 40px;font-weight: bold;\">Cox-Lossによる予測</p>\n",
    "\n",
    "- 目的変数\n",
    "    - target4\n",
    "- 予測モデル\n",
    "    - catboost\n",
    "        - 木の深さ優先\n",
    "        - 損失最小優先"
   ]
  },
  {
   "cell_type": "code",
   "execution_count": null,
   "metadata": {
    "trusted": true
   },
   "outputs": [
    {
     "data": {
      "image/png": "[encoded data removed]",
      "text/plain": [
       "<Figure size 800x600 with 1 Axes>"
      ]
     },
     "metadata": {},
     "output_type": "display_data"
    },
    {
     "name": "stdout",
     "output_type": "stream",
     "text": [
      "Overall Stratified C-Index Score for CatBoost: 0.6704\n"
     ]
    }
   ],
   "source": [
    "# 木の深さ優先\n",
    "cox1_models, cox1_oof_preds = md.train_model(CFG.cox1_params, target='target4', title='CatBoost')"
   ]
  },
  {
   "cell_type": "code",
   "execution_count": null,
   "metadata": {
    "trusted": true
   },
   "outputs": [
    {
     "data": {
      "image/png": "[encoded data removed]",
      "text/plain": [
       "<Figure size 800x600 with 1 Axes>"
      ]
     },
     "metadata": {},
     "output_type": "display_data"
    },
    {
     "name": "stdout",
     "output_type": "stream",
     "text": [
      "Overall Stratified C-Index Score for CatBoost: 0.6712\n"
     ]
    }
   ],
   "source": [
    "# 損失最小優先\n",
    "cox2_models, cox2_oof_preds = md.train_model(CFG.cox2_params, target='target4', title='CatBoost')"
   ]
  },
  {
   "cell_type": "code",
   "execution_count": null,
   "metadata": {
    "trusted": true
   },
   "outputs": [],
   "source": [
    "cox1_preds = md.infer_model(test_data, cox1_models)"
   ]
  },
  {
   "cell_type": "code",
   "execution_count": null,
   "metadata": {
    "trusted": true
   },
   "outputs": [],
   "source": [
    "cox2_preds = md.infer_model(test_data, cox2_models)"
   ]
  },
  {
   "cell_type": "markdown",
   "metadata": {},
   "source": [
    "<p style=\"font-size: 125%; text-align: left; border-radius: 40px 40px;font-weight: bold;\">ニューラルネットワーク</p>"
   ]
  },
  {
   "cell_type": "code",
   "execution_count": null,
   "metadata": {},
   "outputs": [],
   "source": [
    "class CatEmbeddings(nn.Module): # カテゴリ変数を埋め込みベクトルに変換し、さらに線形変換\n",
    "    def __init__(self, projection_dim, categorical_cardinality, embedding_dim):\n",
    "        super(CatEmbeddings, self).__init__()\n",
    "        # 各カテゴリ変数の埋め込みレイヤーを作成\n",
    "        self.embeddings = nn.ModuleList([\n",
    "            nn.Embedding(cardinality, embedding_dim)\n",
    "            for cardinality in categorical_cardinality\n",
    "        ])\n",
    "        # 埋め込みベクトルの次元を projection_dim に変換\n",
    "        self.projection = nn.Sequential(\n",
    "            nn.Linear(embedding_dim * len(categorical_cardinality), projection_dim),\n",
    "            nn.GELU(),\n",
    "            nn.Linear(projection_dim, projection_dim)\n",
    "        )\n",
    "\n",
    "    def forward(self, x_cat):\n",
    "        x_cat = [embedding(x_cat[:, i]) for i, embedding in enumerate(self.embeddings)]\n",
    "        x_cat = torch.cat(x_cat, dim=1)\n",
    "        return self.projection(x_cat)\n",
    "\n",
    "\n",
    "class NN(nn.Module):\n",
    "    def __init__(\n",
    "            self,\n",
    "            continuous_dim: int,\n",
    "            categorical_cardinality: List[int],\n",
    "            embedding_dim: int,\n",
    "            projection_dim: int,\n",
    "            hidden_dim: int,\n",
    "            dropout: float = 0\n",
    "    ):\n",
    "        super(NN, self).__init__()\n",
    "        self.embeddings = CatEmbeddings(projection_dim, categorical_cardinality, embedding_dim)\n",
    "        self.mlp = nn.Sequential(\n",
    "            ODST(projection_dim + continuous_dim, hidden_dim),\n",
    "            nn.BatchNorm1d(hidden_dim),\n",
    "            nn.Dropout(dropout)\n",
    "        )\n",
    "        self.out = nn.Linear(hidden_dim, 1)\n",
    "        self.dropout = nn.Dropout(dropout)\n",
    "\n",
    "        # initialize weights\n",
    "        for m in self.modules():\n",
    "            if isinstance(m, nn.Linear):\n",
    "                nn.init.xavier_normal_(m.weight)\n",
    "                nn.init.zeros_(m.bias)\n",
    "\n",
    "    def forward(self, x_cat, x_cont):\n",
    "        x = self.embeddings(x_cat)\n",
    "        x = torch.cat([x, x_cont], dim=1)\n",
    "        x = self.dropout(x)\n",
    "        x = self.mlp(x)\n",
    "        return self.out(x), x\n",
    "@functools.lru_cache\n",
    "def combinations(N):\n",
    "    ind = torch.arange(N)\n",
    "    comb = torch.combinations(ind, r=2)\n",
    "    return comb  # CPU 上でそのまま使う\n",
    "class LitNN(pl.LightningModule):\n",
    "    def __init__(\n",
    "            self,\n",
    "            continuous_dim: int,\n",
    "            categorical_cardinality: List[int],\n",
    "            embedding_dim: int,\n",
    "            projection_dim: int,\n",
    "            hidden_dim: int,\n",
    "            lr: float = 1e-3,\n",
    "            dropout: float = 0.2,\n",
    "            weight_decay: float = 1e-3,\n",
    "            aux_weight: float = 0.1,\n",
    "            margin: float = 0.5,\n",
    "            race_index: int = 0\n",
    "    ):\n",
    "        super(LitNN, self).__init__()\n",
    "        self.save_hyperparameters()\n",
    "        self.model = NN(\n",
    "            continuous_dim=self.hparams.continuous_dim,\n",
    "            categorical_cardinality=self.hparams.categorical_cardinality,\n",
    "            embedding_dim=self.hparams.embedding_dim,\n",
    "            projection_dim=self.hparams.projection_dim,\n",
    "            hidden_dim=self.hparams.hidden_dim,\n",
    "            dropout=self.hparams.dropout\n",
    "        )\n",
    "        self.targets = []\n",
    "        self.aux_cls = nn.Sequential(\n",
    "            nn.Linear(self.hparams.hidden_dim, self.hparams.hidden_dim // 3),\n",
    "            nn.GELU(),\n",
    "            nn.Linear(self.hparams.hidden_dim // 3, 1)\n",
    "        )\n",
    "    def on_before_optimizer_step(self, optimizer):\n",
    "        # Compute the 2-norm for each layer\n",
    "        # If using mixed precision, the gradients are already unscaled here\n",
    "        norms = grad_norm(self.model, norm_type=2)\n",
    "        self.log_dict(norms)\n",
    "\n",
    "    def forward(self, x_cat, x_cont):\n",
    "        x, emb = self.model(x_cat, x_cont)\n",
    "        return x.squeeze(1), emb\n",
    "\n",
    "    def training_step(self, batch, batch_idx):\n",
    "        x_cat, x_cont, y, efs = batch\n",
    "        y_hat, emb = self(x_cat, x_cont)\n",
    "        aux_pred = self.aux_cls(emb).squeeze(1)\n",
    "        loss, race_loss = self.get_full_loss(efs, x_cat, y, y_hat)\n",
    "        aux_loss = nn.functional.mse_loss(aux_pred, y, reduction='none')\n",
    "        aux_mask = efs == 1\n",
    "        aux_loss = (aux_loss * aux_mask).sum() / aux_mask.sum()\n",
    "        self.log(\"train_loss\", loss, on_epoch=True, prog_bar=True, logger=True)\n",
    "        self.log(\"race_loss\", race_loss, on_epoch=True, prog_bar=True, logger=True, on_step=False)\n",
    "        self.log(\"aux_loss\", aux_loss, on_epoch=True, prog_bar=True, logger=True, on_step=False)\n",
    "        return loss + aux_loss * self.hparams.aux_weight\n",
    "\n",
    "    def get_full_loss(self, efs, x_cat, y, y_hat):\n",
    "        loss = self.calc_loss(y, y_hat, efs)\n",
    "        race_loss = self.get_race_losses(efs, x_cat, y, y_hat)\n",
    "        loss += 0.1 * race_loss\n",
    "        return loss, race_loss\n",
    "\n",
    "    def get_race_losses(self, efs, x_cat, y, y_hat):\n",
    "        races = torch.unique(x_cat[:, self.hparams.race_index])\n",
    "        race_losses = []\n",
    "        for race in races:\n",
    "            ind = x_cat[:, self.hparams.race_index] == race\n",
    "            race_losses.append(self.calc_loss(y[ind], y_hat[ind], efs[ind]))\n",
    "        race_loss = sum(race_losses) / len(race_losses)\n",
    "        races_loss_std = sum((r - race_loss)**2 for r in race_losses) / len(race_losses)\n",
    "        return torch.sqrt(races_loss_std)\n",
    "\n",
    "    def calc_loss(self, y, y_hat, efs):\n",
    "        N = y.shape[0]\n",
    "        comb = combinations(N)\n",
    "        comb = comb[(efs[comb[:, 0]] == 1) | (efs[comb[:, 1]] == 1)]\n",
    "        pred_left = y_hat[comb[:, 0]]\n",
    "        pred_right = y_hat[comb[:, 1]]\n",
    "        y_left = y[comb[:, 0]]\n",
    "        y_right = y[comb[:, 1]]\n",
    "        y = 2 * (y_left > y_right).int() - 1\n",
    "        loss = nn.functional.relu(-y * (pred_left - pred_right) + self.hparams.margin)\n",
    "        mask = self.get_mask(comb, efs, y_left, y_right)\n",
    "        loss = (loss.double() * (mask.double())).sum() / mask.sum()\n",
    "        return loss\n",
    "\n",
    "    def get_mask(self, comb, efs, y_left, y_right):\n",
    "        # mask1 = (efs[comb[:, 0]] == 1) | (efs[comb[:, 1]] == 1)\n",
    "        left_outlived = y_left >= y_right\n",
    "        left_1_right_0 = (efs[comb[:, 0]] == 1) & (efs[comb[:, 1]] == 0)\n",
    "        mask2 = (left_outlived & left_1_right_0)\n",
    "        right_outlived = y_right >= y_left\n",
    "        right_1_left_0 = (efs[comb[:, 1]] == 1) & (efs[comb[:, 0]] == 0)\n",
    "        mask2 |= (right_outlived & right_1_left_0)\n",
    "        mask2 = ~mask2\n",
    "        mask = mask2\n",
    "        return mask\n",
    "\n",
    "    def validation_step(self, batch, batch_idx):\n",
    "        x_cat, x_cont, y, efs = batch\n",
    "        y_hat, emb = self(x_cat, x_cont)\n",
    "        loss, race_loss = self.get_full_loss(efs, x_cat, y, y_hat)\n",
    "        self.targets.append([y, y_hat.detach(), efs, x_cat[:, self.hparams.race_index]])\n",
    "        self.log(\"val_loss\", loss, on_epoch=True, prog_bar=True, logger=True)\n",
    "        return loss\n",
    "\n",
    "    def on_validation_epoch_end(self):\n",
    "        cindex, metric = self._calc_cindex()\n",
    "        self.log(\"cindex\", metric, on_epoch=True, prog_bar=True, logger=True)\n",
    "        self.log(\"cindex_simple\", cindex, on_epoch=True, prog_bar=True, logger=True)\n",
    "        self.targets.clear()\n",
    "\n",
    "    def _calc_cindex(self):\n",
    "        y = torch.cat([t[0] for t in self.targets]).cpu().numpy()\n",
    "        y_hat = torch.cat([t[1] for t in self.targets]).cpu().numpy()\n",
    "        efs = torch.cat([t[2] for t in self.targets]).cpu().numpy()\n",
    "        races = torch.cat([t[3] for t in self.targets]).cpu().numpy()\n",
    "        metric = self._metric(efs, races, y, y_hat) #人種ごとの層別C-index\n",
    "        # cindex = concordance_index(y, y_hat, efs) # 全体のC-index\n",
    "        return metric\n",
    "    def _metric(self, efs, races, y, y_hat):\n",
    "        metric_list = []\n",
    "        for race in np.unique(races):\n",
    "            y_ = y[races == race]\n",
    "            y_hat_ = y_hat[races == race]\n",
    "            efs_ = efs[races == race]\n",
    "            metric_list.append(concordance_index(y_, y_hat_, efs_))\n",
    "        metric = float(np.mean(metric_list) - np.sqrt(np.var(metric_list)))\n",
    "        return metric\n",
    "    def test_step(self, batch, batch_idx):\n",
    "        x_cat, x_cont, y, efs = batch\n",
    "        y_hat, emb = self(x_cat, x_cont)\n",
    "        loss, race_loss = self.get_full_loss(efs, x_cat, y, y_hat)\n",
    "        self.targets.append([y, y_hat.detach(), efs, x_cat[:, self.hparams.race_index]])\n",
    "        self.log(\"test_loss\", loss)\n",
    "        return loss\n",
    "    def on_test_epoch_end(self) -> None:\n",
    "        # cindex,\n",
    "        metric = self._calc_cindex()\n",
    "        self.log(\"test_cindex\", metric, on_epoch=True, prog_bar=True, logger=True) #人種ごとの層別C-index\n",
    "        # self.log(\"test_cindex_simple\", cindex, on_epoch=True, prog_bar=True, logger=True) #全体のC-index\n",
    "        self.targets.clear()\n",
    "    def configure_optimizers(self): # 最適化手法の設定\n",
    "        optimizer = torch.optim.Adam(self.parameters(), lr=self.hparams.lr, weight_decay=self.hparams.weight_decay)\n",
    "        scheduler_config = {\n",
    "            \"scheduler\": torch.optim.lr_scheduler.CosineAnnealingLR(\n",
    "                optimizer,\n",
    "                T_max=45,\n",
    "                eta_min=6e-3\n",
    "            ),\n",
    "            \"interval\": \"epoch\",\n",
    "            \"frequency\": 1,\n",
    "            \"strict\": False,\n",
    "        }\n",
    "        return {\"optimizer\": optimizer, \"lr_scheduler\": scheduler_config}"
   ]
  },
  {
   "cell_type": "code",
   "execution_count": null,
   "metadata": {},
   "outputs": [
    {
     "name": "stderr",
     "output_type": "stream",
     "text": [
      "Seed set to 42\n"
     ]
    }
   ],
   "source": [
    "pl.seed_everything(42)\n",
    "def train_final(X_num_train, dl_train, dl_val, transformers, hparams=None, categorical_cols=None):\n",
    "    # ハイパーパラメータのデフォルト値設定\n",
    "    if hparams is None:\n",
    "        hparams = {\n",
    "            \"embedding_dim\": 16,         # 埋め込み層の次元数。入力データを16次元のベクトル空間に変換\n",
    "            \"projection_dim\": 112,       # 射影層の次元数。特徴量を112次元の空間に変換\n",
    "            \"hidden_dim\": 56,           # 隠れ層のニューロン数。中間層で56個のユニットを使用\n",
    "            \"lr\": 0.06464861983337984,  # 学習率。モデルの重みを更新する際のステップサイズ\n",
    "            \"dropout\": 0.05463240181423116,  # ドロップアウト率。過学習を防ぐために約5.5%のニューロンをランダムに無効化\n",
    "            \"aux_weight\": 0.26545778308743806,  # 補助損失の重み。全体の損失関数における補助タスクの寄与度\n",
    "            \"margin\": 0.2588153271003354,  # マージン値。分類や距離学習などにおける決定境界からの最小距離\n",
    "            \"weight_decay\": 0.0002773544957610778  # 重み減衰係数。L2正則化の強さを制御し、過学習を抑制\n",
    "        }\n",
    "    # モデルインスタンスの生成\n",
    "    model = LitNN(\n",
    "        continuous_dim=X_num_train.shape[1],\n",
    "        categorical_cardinality=[len(t.classes_) for t in transformers],\n",
    "        race_index=categorical_cols.index(\"race_group\"),\n",
    "        **hparams\n",
    "    )\n",
    "    # チェックポイントコールバック：検証ロス（val_loss）が最小のモデルを保存\n",
    "    checkpoint_callback = pl.callbacks.ModelCheckpoint(\n",
    "        monitor=\"val_loss\",\n",
    "        mode=\"min\",\n",
    "        save_top_k=1,\n",
    "        filename=\"best-checkpoint\"\n",
    "    )\n",
    "    # Trainerの初期化\n",
    "    trainer = pl.Trainer(\n",
    "        accelerator='cpu',  # GPUが使用可能なら \"gpu\" に変更\n",
    "        max_epochs=60,\n",
    "        enable_progress_bar=False,  # プログレスバーを無効化\n",
    "        logger=False,  # ロガーを無効化\n",
    "        callbacks=[\n",
    "            checkpoint_callback,\n",
    "            LearningRateMonitor(logging_interval='epoch'),\n",
    "            StochasticWeightAveraging(swa_lrs=1e-5, swa_epoch_start=45, annealing_epochs=15)\n",
    "        ],\n",
    "    )\n",
    "    # 学習の実施（引数名を明示的にして分かりやすく）\n",
    "    trainer.fit(model, train_dataloaders=dl_train, val_dataloaders=dl_val)\n",
    "    # チェックポイントから最良モデルを復元（best_model_pathが存在する場合）\n",
    "    best_model_path = checkpoint_callback.best_model_path\n",
    "    if best_model_path:\n",
    "        print(f\"Loading best model from: {best_model_path}\")\n",
    "        model = LitNN.load_from_checkpoint(best_model_path)\n",
    "    else:\n",
    "        print(\"No checkpoint found. Using last model state.\")\n",
    "    # 検証データでテスト実行（結果表示などが必要ならここで利用）\n",
    "    trainer.test(model, dataloaders=dl_val)\n",
    "    # 評価モードへ切替え\n",
    "    model.eval()\n",
    "    return model\n",
    "\n",
    "\n",
    "def main(hparams):\n",
    "    fe_train = FE()\n",
    "    train_original = fe_train.apply_fe_nn(CFG.train_path)\n",
    "    fe_test = FE()\n",
    "    test = fe_test.apply_fe_nn(CFG.test_path)\n",
    "    test['efs_time'] = 1\n",
    "    test['efs'] = 1\n",
    "\n",
    "    # 学習データの行数に合わせたOOF配列を用意\n",
    "    oof_nn_preds = np.zeros(train_original.shape[0])\n",
    "    test_nn_preds = np.zeros(test.shape[0])\n",
    "    \n",
    "    # StratifiedKFoldのセットアップ（ここでは例として5fold）\n",
    "    kf = StratifiedKFold(n_splits=5, shuffle=True, random_state=42)\n",
    "    \n",
    "    for fold, (train_index, valid_index) in enumerate(\n",
    "        kf.split(train_original, train_original.race_group.astype(str) + (train_original.age_at_hct == 0.044).astype(str))\n",
    "    ):\n",
    "        # foldごとにデータを分割\n",
    "        train = train_original.iloc[train_index].copy()\n",
    "        valid = train_original.iloc[valid_index].copy()\n",
    "        \n",
    "        # データ前処理（数値部分・カテゴリ部分の整形等）\n",
    "        fe_nn = FE()\n",
    "        X_cat_valid, X_num_train, X_num_valid, dl_train, dl_valid, transformers = fe_nn.preprocess_data(train, valid)\n",
    "        categorical_cols, _ = fe_nn.get_feature_types(train)\n",
    "        \n",
    "        # モデルの学習\n",
    "        model = train_final(X_num_train, dl_train, dl_valid, transformers, hparams, categorical_cols=categorical_cols)\n",
    "        \n",
    "        # 検証データに対する予測\n",
    "        # ※入力テンソルの作成（GPU使用の場合はto(device)等を追加）\n",
    "        with torch.no_grad():\n",
    "            pred_valid, _ = model.cpu().eval()(\n",
    "                torch.tensor(X_cat_valid, dtype=torch.long),\n",
    "                torch.tensor(X_num_valid, dtype=torch.float32)\n",
    "            )\n",
    "        # もともとのコードでは提出用に符号反転していたので同様に\n",
    "        oof_nn_preds[valid_index] = -pred_valid.detach().cpu().numpy().reshape(-1)\n",
    "        \n",
    "        # testデータに対する予測（foldごとに同じ手順で処理）\n",
    "        # ここでは train のうち fold 用の部分を使ってテストに対する予測を実施\n",
    "        X_cat_test, _, X_num_test, _, _, _ = fe_nn.preprocess_data(train, test)\n",
    "        with torch.no_grad():\n",
    "            pred_test, _ = model.cpu().eval()(\n",
    "                torch.tensor(X_cat_test, dtype=torch.long),\n",
    "                torch.tensor(X_num_test, dtype=torch.float32)\n",
    "            )\n",
    "        test_nn_preds += -pred_test.detach().cpu().numpy().reshape(-1)\n",
    "        \n",
    "    # 各foldのtest予測の平均を最終のNNテスト予測とする\n",
    "    test_nn_preds /= kf.n_splits\n",
    "    # NNモデルの結果として、OOFとTest予測の両方を返す\n",
    "    return oof_nn_preds, test_nn_preds"
   ]
  },
  {
   "cell_type": "code",
   "execution_count": null,
   "metadata": {},
   "outputs": [
    {
     "name": "stdout",
     "output_type": "stream",
     "text": [
      "Test shape: (3, 70)\n",
      "Train shape: (28800, 72)\n",
      "There are 69 FEATURES: ['dri_score', 'psych_disturb', 'cyto_score', 'diabetes', 'hla_match_c_high', 'hla_high_res_8', 'tbi_status', 'arrhythmia', 'hla_low_res_6', 'graft_type', 'vent_hist', 'renal_issue', 'pulm_severe', 'prim_disease_hct', 'hla_high_res_6', 'cmv_status', 'hla_high_res_10', 'hla_match_dqb1_high', 'tce_imm_match', 'hla_nmdp_6', 'hla_match_c_low', 'rituximab', 'hla_match_drb1_low', 'hla_match_dqb1_low', 'prod_type', 'cyto_score_detail', 'conditioning_intensity', 'ethnicity', 'year_hct', 'obesity', 'mrd_hct', 'in_vivo_tcd', 'tce_match', 'hla_match_a_high', 'hepatic_severe', 'donor_age', 'prior_tumor', 'hla_match_b_low', 'peptic_ulcer', 'age_at_hct', 'hla_match_a_low', 'gvhd_proph', 'rheum_issue', 'sex_match', 'hla_match_b_high', 'race_group', 'comorbidity_score', 'karnofsky_score', 'hepatic_mild', 'tce_div_match', 'donor_related', 'melphalan_dose', 'hla_low_res_8', 'cardiac', 'hla_match_drb1_high', 'pulm_moderate', 'hla_low_res_10', 'sex_match_bool', 'is_cyto_score_same', 'age_bin', 'age_ts', 'age_comorbidity', 'age_karnofsky', 'karnofsky_squared', 'cos_year', 'diff_age_vs_donor', 'sex_one', 'sex_two', 'same_sex']\n",
      "There are 69 FEATURES: ['dri_score', 'psych_disturb', 'cyto_score', 'diabetes', 'hla_match_c_high', 'hla_high_res_8', 'tbi_status', 'arrhythmia', 'hla_low_res_6', 'graft_type', 'vent_hist', 'renal_issue', 'pulm_severe', 'prim_disease_hct', 'hla_high_res_6', 'cmv_status', 'hla_high_res_10', 'hla_match_dqb1_high', 'tce_imm_match', 'hla_nmdp_6', 'hla_match_c_low', 'rituximab', 'hla_match_drb1_low', 'hla_match_dqb1_low', 'prod_type', 'cyto_score_detail', 'conditioning_intensity', 'ethnicity', 'year_hct', 'obesity', 'mrd_hct', 'in_vivo_tcd', 'tce_match', 'hla_match_a_high', 'hepatic_severe', 'donor_age', 'prior_tumor', 'hla_match_b_low', 'peptic_ulcer', 'age_at_hct', 'hla_match_a_low', 'gvhd_proph', 'rheum_issue', 'sex_match', 'hla_match_b_high', 'race_group', 'comorbidity_score', 'karnofsky_score', 'hepatic_mild', 'tce_div_match', 'donor_related', 'melphalan_dose', 'hla_low_res_8', 'cardiac', 'hla_match_drb1_high', 'pulm_moderate', 'hla_low_res_10', 'sex_match_bool', 'is_cyto_score_same', 'age_bin', 'age_ts', 'age_comorbidity', 'age_karnofsky', 'karnofsky_squared', 'cos_year', 'diff_age_vs_donor', 'sex_one', 'sex_two', 'same_sex']\n"
     ]
    },
    {
     "name": "stderr",
     "output_type": "stream",
     "text": [
      "GPU available: False, used: False\n",
      "TPU available: False, using: 0 TPU cores\n",
      "HPU available: False, using: 0 HPUs\n",
      "\n",
      "  | Name    | Type       | Params | Mode \n",
      "-----------------------------------------------\n",
      "0 | model   | NN         | 173 K  | train\n",
      "1 | aux_cls | Sequential | 1.0 K  | train\n",
      "-----------------------------------------------\n",
      "173 K     Trainable params\n",
      "769       Non-trainable params\n",
      "174 K     Total params\n",
      "0.699     Total estimated model params size (MB)\n",
      "77        Modules in train mode\n",
      "0         Modules in eval mode\n"
     ]
    },
    {
     "data": {
      "application/vnd.jupyter.widget-view+json": {
       "model_id": "1dc3b9b6134b4804b65e8de73ef08c47",
       "version_major": 2,
       "version_minor": 0
      },
      "text/plain": [
       "Sanity Checking: |          | 0/? [00:00<?, ?it/s]"
      ]
     },
     "metadata": {},
     "output_type": "display_data"
    },
    {
     "data": {
      "application/vnd.jupyter.widget-view+json": {
       "model_id": "f64f9b2c190945289e9b9bd34159a438",
       "version_major": 2,
       "version_minor": 0
      },
      "text/plain": [
       "Training: |          | 0/? [00:00<?, ?it/s]"
      ]
     },
     "metadata": {},
     "output_type": "display_data"
    },
    {
     "data": {
      "application/vnd.jupyter.widget-view+json": {
       "model_id": "b07cf9d7b27d4b378447eb93356ca5ca",
       "version_major": 2,
       "version_minor": 0
      },
      "text/plain": [
       "Validation: |          | 0/? [00:00<?, ?it/s]"
      ]
     },
     "metadata": {},
     "output_type": "display_data"
    },
    {
     "data": {
      "application/vnd.jupyter.widget-view+json": {
       "model_id": "f2716ff7d3284feaa570c44cca73124c",
       "version_major": 2,
       "version_minor": 0
      },
      "text/plain": [
       "Validation: |          | 0/? [00:00<?, ?it/s]"
      ]
     },
     "metadata": {},
     "output_type": "display_data"
    },
    {
     "data": {
      "application/vnd.jupyter.widget-view+json": {
       "model_id": "d04861b074d84f7fb44b1c6e9dc17364",
       "version_major": 2,
       "version_minor": 0
      },
      "text/plain": [
       "Validation: |          | 0/? [00:00<?, ?it/s]"
      ]
     },
     "metadata": {},
     "output_type": "display_data"
    },
    {
     "data": {
      "application/vnd.jupyter.widget-view+json": {
       "model_id": "2edab534ccbb4db78aca2374e6ef08aa",
       "version_major": 2,
       "version_minor": 0
      },
      "text/plain": [
       "Validation: |          | 0/? [00:00<?, ?it/s]"
      ]
     },
     "metadata": {},
     "output_type": "display_data"
    },
    {
     "data": {
      "application/vnd.jupyter.widget-view+json": {
       "model_id": "2692bd5c4f2d43958e23c88417e9321e",
       "version_major": 2,
       "version_minor": 0
      },
      "text/plain": [
       "Validation: |          | 0/? [00:00<?, ?it/s]"
      ]
     },
     "metadata": {},
     "output_type": "display_data"
    },
    {
     "data": {
      "application/vnd.jupyter.widget-view+json": {
       "model_id": "45d597ebfe3b4e36930f6a2794595c1b",
       "version_major": 2,
       "version_minor": 0
      },
      "text/plain": [
       "Validation: |          | 0/? [00:00<?, ?it/s]"
      ]
     },
     "metadata": {},
     "output_type": "display_data"
    },
    {
     "data": {
      "application/vnd.jupyter.widget-view+json": {
       "model_id": "df67092d47ad4af5a04ae33791e703af",
       "version_major": 2,
       "version_minor": 0
      },
      "text/plain": [
       "Validation: |          | 0/? [00:00<?, ?it/s]"
      ]
     },
     "metadata": {},
     "output_type": "display_data"
    },
    {
     "data": {
      "application/vnd.jupyter.widget-view+json": {
       "model_id": "2854ef5d2a4f49d8b3ad31b0796fe3c9",
       "version_major": 2,
       "version_minor": 0
      },
      "text/plain": [
       "Validation: |          | 0/? [00:00<?, ?it/s]"
      ]
     },
     "metadata": {},
     "output_type": "display_data"
    },
    {
     "data": {
      "application/vnd.jupyter.widget-view+json": {
       "model_id": "0d2cb7cbc33b4d97a16cebf7e6685134",
       "version_major": 2,
       "version_minor": 0
      },
      "text/plain": [
       "Validation: |          | 0/? [00:00<?, ?it/s]"
      ]
     },
     "metadata": {},
     "output_type": "display_data"
    },
    {
     "data": {
      "application/vnd.jupyter.widget-view+json": {
       "model_id": "b66d3188172140a09279bee7aeade5bb",
       "version_major": 2,
       "version_minor": 0
      },
      "text/plain": [
       "Validation: |          | 0/? [00:00<?, ?it/s]"
      ]
     },
     "metadata": {},
     "output_type": "display_data"
    },
    {
     "data": {
      "application/vnd.jupyter.widget-view+json": {
       "model_id": "f77ae7d1b670411a8672e684cd296467",
       "version_major": 2,
       "version_minor": 0
      },
      "text/plain": [
       "Validation: |          | 0/? [00:00<?, ?it/s]"
      ]
     },
     "metadata": {},
     "output_type": "display_data"
    },
    {
     "data": {
      "application/vnd.jupyter.widget-view+json": {
       "model_id": "574b22bd4a8c4521a606645195a270d9",
       "version_major": 2,
       "version_minor": 0
      },
      "text/plain": [
       "Validation: |          | 0/? [00:00<?, ?it/s]"
      ]
     },
     "metadata": {},
     "output_type": "display_data"
    },
    {
     "data": {
      "application/vnd.jupyter.widget-view+json": {
       "model_id": "7f9c00f29c2d4ae99ddeb0313d02e45b",
       "version_major": 2,
       "version_minor": 0
      },
      "text/plain": [
       "Validation: |          | 0/? [00:00<?, ?it/s]"
      ]
     },
     "metadata": {},
     "output_type": "display_data"
    },
    {
     "data": {
      "application/vnd.jupyter.widget-view+json": {
       "model_id": "7c7d43011dce4343838e4f2d3214063f",
       "version_major": 2,
       "version_minor": 0
      },
      "text/plain": [
       "Validation: |          | 0/? [00:00<?, ?it/s]"
      ]
     },
     "metadata": {},
     "output_type": "display_data"
    },
    {
     "data": {
      "application/vnd.jupyter.widget-view+json": {
       "model_id": "35730b9b0c714b2aa195b3497c255840",
       "version_major": 2,
       "version_minor": 0
      },
      "text/plain": [
       "Validation: |          | 0/? [00:00<?, ?it/s]"
      ]
     },
     "metadata": {},
     "output_type": "display_data"
    },
    {
     "data": {
      "application/vnd.jupyter.widget-view+json": {
       "model_id": "51212725bb824a4a9ab7d21d2d3c3e2c",
       "version_major": 2,
       "version_minor": 0
      },
      "text/plain": [
       "Validation: |          | 0/? [00:00<?, ?it/s]"
      ]
     },
     "metadata": {},
     "output_type": "display_data"
    },
    {
     "data": {
      "application/vnd.jupyter.widget-view+json": {
       "model_id": "00e635ba8b4b425791ee40cfdd91e646",
       "version_major": 2,
       "version_minor": 0
      },
      "text/plain": [
       "Validation: |          | 0/? [00:00<?, ?it/s]"
      ]
     },
     "metadata": {},
     "output_type": "display_data"
    },
    {
     "data": {
      "application/vnd.jupyter.widget-view+json": {
       "model_id": "63187a22062040f6bcaf5d3957e4d56f",
       "version_major": 2,
       "version_minor": 0
      },
      "text/plain": [
       "Validation: |          | 0/? [00:00<?, ?it/s]"
      ]
     },
     "metadata": {},
     "output_type": "display_data"
    },
    {
     "data": {
      "application/vnd.jupyter.widget-view+json": {
       "model_id": "e20ebe0c820b48bba5c918533fba5140",
       "version_major": 2,
       "version_minor": 0
      },
      "text/plain": [
       "Validation: |          | 0/? [00:00<?, ?it/s]"
      ]
     },
     "metadata": {},
     "output_type": "display_data"
    },
    {
     "data": {
      "application/vnd.jupyter.widget-view+json": {
       "model_id": "ec5d1a37cde84baf9d18346a1197832f",
       "version_major": 2,
       "version_minor": 0
      },
      "text/plain": [
       "Validation: |          | 0/? [00:00<?, ?it/s]"
      ]
     },
     "metadata": {},
     "output_type": "display_data"
    },
    {
     "data": {
      "application/vnd.jupyter.widget-view+json": {
       "model_id": "bafb9bb297d240d298444525e7b1caf7",
       "version_major": 2,
       "version_minor": 0
      },
      "text/plain": [
       "Validation: |          | 0/? [00:00<?, ?it/s]"
      ]
     },
     "metadata": {},
     "output_type": "display_data"
    },
    {
     "data": {
      "application/vnd.jupyter.widget-view+json": {
       "model_id": "fbec0ab97d064ac5b7d20146cc127091",
       "version_major": 2,
       "version_minor": 0
      },
      "text/plain": [
       "Validation: |          | 0/? [00:00<?, ?it/s]"
      ]
     },
     "metadata": {},
     "output_type": "display_data"
    },
    {
     "data": {
      "application/vnd.jupyter.widget-view+json": {
       "model_id": "ab9e32df41bc49b381522ac7e3ba6926",
       "version_major": 2,
       "version_minor": 0
      },
      "text/plain": [
       "Validation: |          | 0/? [00:00<?, ?it/s]"
      ]
     },
     "metadata": {},
     "output_type": "display_data"
    },
    {
     "data": {
      "application/vnd.jupyter.widget-view+json": {
       "model_id": "cb5afa3521b6404c9d688550537fce17",
       "version_major": 2,
       "version_minor": 0
      },
      "text/plain": [
       "Validation: |          | 0/? [00:00<?, ?it/s]"
      ]
     },
     "metadata": {},
     "output_type": "display_data"
    },
    {
     "data": {
      "application/vnd.jupyter.widget-view+json": {
       "model_id": "ce52d2b8e1414d46a7c302679a68ee72",
       "version_major": 2,
       "version_minor": 0
      },
      "text/plain": [
       "Validation: |          | 0/? [00:00<?, ?it/s]"
      ]
     },
     "metadata": {},
     "output_type": "display_data"
    },
    {
     "data": {
      "application/vnd.jupyter.widget-view+json": {
       "model_id": "ecacad8146294323935a99d789bc16b2",
       "version_major": 2,
       "version_minor": 0
      },
      "text/plain": [
       "Validation: |          | 0/? [00:00<?, ?it/s]"
      ]
     },
     "metadata": {},
     "output_type": "display_data"
    },
    {
     "data": {
      "application/vnd.jupyter.widget-view+json": {
       "model_id": "f237b26ba79d42038c2da477722a4b83",
       "version_major": 2,
       "version_minor": 0
      },
      "text/plain": [
       "Validation: |          | 0/? [00:00<?, ?it/s]"
      ]
     },
     "metadata": {},
     "output_type": "display_data"
    },
    {
     "data": {
      "application/vnd.jupyter.widget-view+json": {
       "model_id": "e109e9cbd7054f258e9d419574a26cbe",
       "version_major": 2,
       "version_minor": 0
      },
      "text/plain": [
       "Validation: |          | 0/? [00:00<?, ?it/s]"
      ]
     },
     "metadata": {},
     "output_type": "display_data"
    },
    {
     "data": {
      "application/vnd.jupyter.widget-view+json": {
       "model_id": "05e1da04b3954eb2a0f2a85ed1dd2f12",
       "version_major": 2,
       "version_minor": 0
      },
      "text/plain": [
       "Validation: |          | 0/? [00:00<?, ?it/s]"
      ]
     },
     "metadata": {},
     "output_type": "display_data"
    },
    {
     "data": {
      "application/vnd.jupyter.widget-view+json": {
       "model_id": "9f57cb598fec43a8a03668c3a6613947",
       "version_major": 2,
       "version_minor": 0
      },
      "text/plain": [
       "Validation: |          | 0/? [00:00<?, ?it/s]"
      ]
     },
     "metadata": {},
     "output_type": "display_data"
    },
    {
     "data": {
      "application/vnd.jupyter.widget-view+json": {
       "model_id": "ffaafcee53784a7dac3f7449e23e58cc",
       "version_major": 2,
       "version_minor": 0
      },
      "text/plain": [
       "Validation: |          | 0/? [00:00<?, ?it/s]"
      ]
     },
     "metadata": {},
     "output_type": "display_data"
    },
    {
     "data": {
      "application/vnd.jupyter.widget-view+json": {
       "model_id": "a8f97a1c2d6a4ff58dc4086adb63370c",
       "version_major": 2,
       "version_minor": 0
      },
      "text/plain": [
       "Validation: |          | 0/? [00:00<?, ?it/s]"
      ]
     },
     "metadata": {},
     "output_type": "display_data"
    },
    {
     "data": {
      "application/vnd.jupyter.widget-view+json": {
       "model_id": "e264113ff8c2464993df3ba1417f5f30",
       "version_major": 2,
       "version_minor": 0
      },
      "text/plain": [
       "Validation: |          | 0/? [00:00<?, ?it/s]"
      ]
     },
     "metadata": {},
     "output_type": "display_data"
    },
    {
     "data": {
      "application/vnd.jupyter.widget-view+json": {
       "model_id": "866dc962b87b4c7f91dbad6252d8ebe5",
       "version_major": 2,
       "version_minor": 0
      },
      "text/plain": [
       "Validation: |          | 0/? [00:00<?, ?it/s]"
      ]
     },
     "metadata": {},
     "output_type": "display_data"
    },
    {
     "data": {
      "application/vnd.jupyter.widget-view+json": {
       "model_id": "c0b8ea6b88884d20bf908e4e92454f07",
       "version_major": 2,
       "version_minor": 0
      },
      "text/plain": [
       "Validation: |          | 0/? [00:00<?, ?it/s]"
      ]
     },
     "metadata": {},
     "output_type": "display_data"
    },
    {
     "data": {
      "application/vnd.jupyter.widget-view+json": {
       "model_id": "06f47828219a493c9c40a36a67a78f79",
       "version_major": 2,
       "version_minor": 0
      },
      "text/plain": [
       "Validation: |          | 0/? [00:00<?, ?it/s]"
      ]
     },
     "metadata": {},
     "output_type": "display_data"
    },
    {
     "data": {
      "application/vnd.jupyter.widget-view+json": {
       "model_id": "60b3d8ced82b46d98e87f9d8cddf7030",
       "version_major": 2,
       "version_minor": 0
      },
      "text/plain": [
       "Validation: |          | 0/? [00:00<?, ?it/s]"
      ]
     },
     "metadata": {},
     "output_type": "display_data"
    },
    {
     "data": {
      "application/vnd.jupyter.widget-view+json": {
       "model_id": "a1d7f774725343a0b50af80c46432668",
       "version_major": 2,
       "version_minor": 0
      },
      "text/plain": [
       "Validation: |          | 0/? [00:00<?, ?it/s]"
      ]
     },
     "metadata": {},
     "output_type": "display_data"
    },
    {
     "data": {
      "application/vnd.jupyter.widget-view+json": {
       "model_id": "0e29c304efe341e587e95f6f10ae8cf1",
       "version_major": 2,
       "version_minor": 0
      },
      "text/plain": [
       "Validation: |          | 0/? [00:00<?, ?it/s]"
      ]
     },
     "metadata": {},
     "output_type": "display_data"
    },
    {
     "data": {
      "application/vnd.jupyter.widget-view+json": {
       "model_id": "f2caa6c1887741d991e7fae70ba52ad8",
       "version_major": 2,
       "version_minor": 0
      },
      "text/plain": [
       "Validation: |          | 0/? [00:00<?, ?it/s]"
      ]
     },
     "metadata": {},
     "output_type": "display_data"
    },
    {
     "data": {
      "application/vnd.jupyter.widget-view+json": {
       "model_id": "f0ae54243999425e9f629755993551b4",
       "version_major": 2,
       "version_minor": 0
      },
      "text/plain": [
       "Validation: |          | 0/? [00:00<?, ?it/s]"
      ]
     },
     "metadata": {},
     "output_type": "display_data"
    },
    {
     "data": {
      "application/vnd.jupyter.widget-view+json": {
       "model_id": "d1dc7659d9ab4ae2aab73d7166a65638",
       "version_major": 2,
       "version_minor": 0
      },
      "text/plain": [
       "Validation: |          | 0/? [00:00<?, ?it/s]"
      ]
     },
     "metadata": {},
     "output_type": "display_data"
    },
    {
     "data": {
      "application/vnd.jupyter.widget-view+json": {
       "model_id": "d0c4cc5156d14013b96e36b8432a6152",
       "version_major": 2,
       "version_minor": 0
      },
      "text/plain": [
       "Validation: |          | 0/? [00:00<?, ?it/s]"
      ]
     },
     "metadata": {},
     "output_type": "display_data"
    },
    {
     "data": {
      "application/vnd.jupyter.widget-view+json": {
       "model_id": "7a831c34434043bc91a178d4f2845100",
       "version_major": 2,
       "version_minor": 0
      },
      "text/plain": [
       "Validation: |          | 0/? [00:00<?, ?it/s]"
      ]
     },
     "metadata": {},
     "output_type": "display_data"
    },
    {
     "name": "stderr",
     "output_type": "stream",
     "text": [
      "Swapping scheduler `CosineAnnealingLR` for `SWALR`\n"
     ]
    },
    {
     "data": {
      "application/vnd.jupyter.widget-view+json": {
       "model_id": "9440cffc7da34fe891533bfeb1627230",
       "version_major": 2,
       "version_minor": 0
      },
      "text/plain": [
       "Validation: |          | 0/? [00:00<?, ?it/s]"
      ]
     },
     "metadata": {},
     "output_type": "display_data"
    },
    {
     "data": {
      "application/vnd.jupyter.widget-view+json": {
       "model_id": "f15721e9cd5f43bd9191beee4f5c1c3e",
       "version_major": 2,
       "version_minor": 0
      },
      "text/plain": [
       "Validation: |          | 0/? [00:00<?, ?it/s]"
      ]
     },
     "metadata": {},
     "output_type": "display_data"
    },
    {
     "data": {
      "application/vnd.jupyter.widget-view+json": {
       "model_id": "d087871d764b4c96ada95412d6c31252",
       "version_major": 2,
       "version_minor": 0
      },
      "text/plain": [
       "Validation: |          | 0/? [00:00<?, ?it/s]"
      ]
     },
     "metadata": {},
     "output_type": "display_data"
    },
    {
     "data": {
      "application/vnd.jupyter.widget-view+json": {
       "model_id": "3bda0ee072e1459fa58111041305d592",
       "version_major": 2,
       "version_minor": 0
      },
      "text/plain": [
       "Validation: |          | 0/? [00:00<?, ?it/s]"
      ]
     },
     "metadata": {},
     "output_type": "display_data"
    },
    {
     "data": {
      "application/vnd.jupyter.widget-view+json": {
       "model_id": "7092dfb8aeda4befb86c52735ca84ecb",
       "version_major": 2,
       "version_minor": 0
      },
      "text/plain": [
       "Validation: |          | 0/? [00:00<?, ?it/s]"
      ]
     },
     "metadata": {},
     "output_type": "display_data"
    },
    {
     "data": {
      "application/vnd.jupyter.widget-view+json": {
       "model_id": "f8209b0b61a74bee98f38c5d503e02c6",
       "version_major": 2,
       "version_minor": 0
      },
      "text/plain": [
       "Validation: |          | 0/? [00:00<?, ?it/s]"
      ]
     },
     "metadata": {},
     "output_type": "display_data"
    },
    {
     "data": {
      "application/vnd.jupyter.widget-view+json": {
       "model_id": "24fbf42cc0b8476aa75c6044198acb60",
       "version_major": 2,
       "version_minor": 0
      },
      "text/plain": [
       "Validation: |          | 0/? [00:00<?, ?it/s]"
      ]
     },
     "metadata": {},
     "output_type": "display_data"
    },
    {
     "data": {
      "application/vnd.jupyter.widget-view+json": {
       "model_id": "8cc39009abc74ab782fe62ec36077926",
       "version_major": 2,
       "version_minor": 0
      },
      "text/plain": [
       "Validation: |          | 0/? [00:00<?, ?it/s]"
      ]
     },
     "metadata": {},
     "output_type": "display_data"
    },
    {
     "data": {
      "application/vnd.jupyter.widget-view+json": {
       "model_id": "df7effbba70c4b339b731355e3337d93",
       "version_major": 2,
       "version_minor": 0
      },
      "text/plain": [
       "Validation: |          | 0/? [00:00<?, ?it/s]"
      ]
     },
     "metadata": {},
     "output_type": "display_data"
    },
    {
     "data": {
      "application/vnd.jupyter.widget-view+json": {
       "model_id": "e45d72628f1a4de4a616700c95fbba0c",
       "version_major": 2,
       "version_minor": 0
      },
      "text/plain": [
       "Validation: |          | 0/? [00:00<?, ?it/s]"
      ]
     },
     "metadata": {},
     "output_type": "display_data"
    },
    {
     "data": {
      "application/vnd.jupyter.widget-view+json": {
       "model_id": "423ae2a3863b4ceb9ad683d40355b834",
       "version_major": 2,
       "version_minor": 0
      },
      "text/plain": [
       "Validation: |          | 0/? [00:00<?, ?it/s]"
      ]
     },
     "metadata": {},
     "output_type": "display_data"
    },
    {
     "data": {
      "application/vnd.jupyter.widget-view+json": {
       "model_id": "4c4176832d924b26b44576f660863c3a",
       "version_major": 2,
       "version_minor": 0
      },
      "text/plain": [
       "Validation: |          | 0/? [00:00<?, ?it/s]"
      ]
     },
     "metadata": {},
     "output_type": "display_data"
    },
    {
     "data": {
      "application/vnd.jupyter.widget-view+json": {
       "model_id": "4b4405dbd5c144f4bb0a399488872da3",
       "version_major": 2,
       "version_minor": 0
      },
      "text/plain": [
       "Validation: |          | 0/? [00:00<?, ?it/s]"
      ]
     },
     "metadata": {},
     "output_type": "display_data"
    },
    {
     "data": {
      "application/vnd.jupyter.widget-view+json": {
       "model_id": "36178c76f69949e7b92203ac77ded6ff",
       "version_major": 2,
       "version_minor": 0
      },
      "text/plain": [
       "Validation: |          | 0/? [00:00<?, ?it/s]"
      ]
     },
     "metadata": {},
     "output_type": "display_data"
    },
    {
     "data": {
      "application/vnd.jupyter.widget-view+json": {
       "model_id": "94423d42e2d94e8d8c287d2afa010edb",
       "version_major": 2,
       "version_minor": 0
      },
      "text/plain": [
       "Validation: |          | 0/? [00:00<?, ?it/s]"
      ]
     },
     "metadata": {},
     "output_type": "display_data"
    },
    {
     "data": {
      "application/vnd.jupyter.widget-view+json": {
       "model_id": "89590bbe0e824982ba2058edbc8e0912",
       "version_major": 2,
       "version_minor": 0
      },
      "text/plain": [
       "Validation: |          | 0/? [00:00<?, ?it/s]"
      ]
     },
     "metadata": {},
     "output_type": "display_data"
    },
    {
     "data": {
      "application/vnd.jupyter.widget-view+json": {
       "model_id": "e119f62bc88241af87d5339247edafb7",
       "version_major": 2,
       "version_minor": 0
      },
      "text/plain": [
       "Validation: |          | 0/? [00:00<?, ?it/s]"
      ]
     },
     "metadata": {},
     "output_type": "display_data"
    },
    {
     "name": "stderr",
     "output_type": "stream",
     "text": [
      "`Trainer.fit` stopped: `max_epochs=61` reached.\n"
     ]
    },
    {
     "name": "stdout",
     "output_type": "stream",
     "text": [
      "Loading best model from: c:\\Users\\eikik\\python\\kaggle\\CIBMTR\\lightning_logs\\version_28\\checkpoints\\best-checkpoint.ckpt\n"
     ]
    },
    {
     "data": {
      "application/vnd.jupyter.widget-view+json": {
       "model_id": "bb87b902806440418f7f69c90e9ea943",
       "version_major": 2,
       "version_minor": 0
      },
      "text/plain": [
       "Testing: |          | 0/? [00:00<?, ?it/s]"
      ]
     },
     "metadata": {},
     "output_type": "display_data"
    },
    {
     "data": {
      "text/html": [
       "<pre style=\"white-space:pre;overflow-x:auto;line-height:normal;font-family:Menlo,'DejaVu Sans Mono',consolas,'Courier New',monospace\">┏━━━━━━━━━━━━━━━━━━━━━━━━━━━┳━━━━━━━━━━━━━━━━━━━━━━━━━━━┓\n",
       "┃<span style=\"font-weight: bold\">        Test metric        </span>┃<span style=\"font-weight: bold\">       DataLoader 0        </span>┃\n",
       "┡━━━━━━━━━━━━━━━━━━━━━━━━━━━╇━━━━━━━━━━━━━━━━━━━━━━━━━━━┩\n",
       "│<span style=\"color: #008080; text-decoration-color: #008080\">        test_cindex        </span>│<span style=\"color: #800080; text-decoration-color: #800080\">    0.6802599430084229     </span>│\n",
       "│<span style=\"color: #008080; text-decoration-color: #008080\">    test_cindex_simple     </span>│<span style=\"color: #800080; text-decoration-color: #800080\">    0.6927380561828613     </span>│\n",
       "│<span style=\"color: #008080; text-decoration-color: #008080\">         test_loss         </span>│<span style=\"color: #800080; text-decoration-color: #800080\">    0.1811044855840621     </span>│\n",
       "└───────────────────────────┴───────────────────────────┘\n",
       "</pre>\n"
      ],
      "text/plain": [
       "┏━━━━━━━━━━━━━━━━━━━━━━━━━━━┳━━━━━━━━━━━━━━━━━━━━━━━━━━━┓\n",
       "┃\u001b[1m \u001b[0m\u001b[1m       Test metric       \u001b[0m\u001b[1m \u001b[0m┃\u001b[1m \u001b[0m\u001b[1m      DataLoader 0       \u001b[0m\u001b[1m \u001b[0m┃\n",
       "┡━━━━━━━━━━━━━━━━━━━━━━━━━━━╇━━━━━━━━━━━━━━━━━━━━━━━━━━━┩\n",
       "│\u001b[36m \u001b[0m\u001b[36m       test_cindex       \u001b[0m\u001b[36m \u001b[0m│\u001b[35m \u001b[0m\u001b[35m   0.6802599430084229    \u001b[0m\u001b[35m \u001b[0m│\n",
       "│\u001b[36m \u001b[0m\u001b[36m   test_cindex_simple    \u001b[0m\u001b[36m \u001b[0m│\u001b[35m \u001b[0m\u001b[35m   0.6927380561828613    \u001b[0m\u001b[35m \u001b[0m│\n",
       "│\u001b[36m \u001b[0m\u001b[36m        test_loss        \u001b[0m\u001b[36m \u001b[0m│\u001b[35m \u001b[0m\u001b[35m   0.1811044855840621    \u001b[0m\u001b[35m \u001b[0m│\n",
       "└───────────────────────────┴───────────────────────────┘\n"
      ]
     },
     "metadata": {},
     "output_type": "display_data"
    },
    {
     "name": "stdout",
     "output_type": "stream",
     "text": [
      "There are 69 FEATURES: ['dri_score', 'psych_disturb', 'cyto_score', 'diabetes', 'hla_match_c_high', 'hla_high_res_8', 'tbi_status', 'arrhythmia', 'hla_low_res_6', 'graft_type', 'vent_hist', 'renal_issue', 'pulm_severe', 'prim_disease_hct', 'hla_high_res_6', 'cmv_status', 'hla_high_res_10', 'hla_match_dqb1_high', 'tce_imm_match', 'hla_nmdp_6', 'hla_match_c_low', 'rituximab', 'hla_match_drb1_low', 'hla_match_dqb1_low', 'prod_type', 'cyto_score_detail', 'conditioning_intensity', 'ethnicity', 'year_hct', 'obesity', 'mrd_hct', 'in_vivo_tcd', 'tce_match', 'hla_match_a_high', 'hepatic_severe', 'donor_age', 'prior_tumor', 'hla_match_b_low', 'peptic_ulcer', 'age_at_hct', 'hla_match_a_low', 'gvhd_proph', 'rheum_issue', 'sex_match', 'hla_match_b_high', 'race_group', 'comorbidity_score', 'karnofsky_score', 'hepatic_mild', 'tce_div_match', 'donor_related', 'melphalan_dose', 'hla_low_res_8', 'cardiac', 'hla_match_drb1_high', 'pulm_moderate', 'hla_low_res_10', 'sex_match_bool', 'is_cyto_score_same', 'age_bin', 'age_ts', 'age_comorbidity', 'age_karnofsky', 'karnofsky_squared', 'cos_year', 'diff_age_vs_donor', 'sex_one', 'sex_two', 'same_sex']\n",
      "There are 69 FEATURES: ['dri_score', 'psych_disturb', 'cyto_score', 'diabetes', 'hla_match_c_high', 'hla_high_res_8', 'tbi_status', 'arrhythmia', 'hla_low_res_6', 'graft_type', 'vent_hist', 'renal_issue', 'pulm_severe', 'prim_disease_hct', 'hla_high_res_6', 'cmv_status', 'hla_high_res_10', 'hla_match_dqb1_high', 'tce_imm_match', 'hla_nmdp_6', 'hla_match_c_low', 'rituximab', 'hla_match_drb1_low', 'hla_match_dqb1_low', 'prod_type', 'cyto_score_detail', 'conditioning_intensity', 'ethnicity', 'year_hct', 'obesity', 'mrd_hct', 'in_vivo_tcd', 'tce_match', 'hla_match_a_high', 'hepatic_severe', 'donor_age', 'prior_tumor', 'hla_match_b_low', 'peptic_ulcer', 'age_at_hct', 'hla_match_a_low', 'gvhd_proph', 'rheum_issue', 'sex_match', 'hla_match_b_high', 'race_group', 'comorbidity_score', 'karnofsky_score', 'hepatic_mild', 'tce_div_match', 'donor_related', 'melphalan_dose', 'hla_low_res_8', 'cardiac', 'hla_match_drb1_high', 'pulm_moderate', 'hla_low_res_10', 'sex_match_bool', 'is_cyto_score_same', 'age_bin', 'age_ts', 'age_comorbidity', 'age_karnofsky', 'karnofsky_squared', 'cos_year', 'diff_age_vs_donor', 'sex_one', 'sex_two', 'same_sex']\n"
     ]
    },
    {
     "name": "stderr",
     "output_type": "stream",
     "text": [
      "GPU available: False, used: False\n",
      "TPU available: False, using: 0 TPU cores\n",
      "HPU available: False, using: 0 HPUs\n",
      "\n",
      "  | Name    | Type       | Params | Mode \n",
      "-----------------------------------------------\n",
      "0 | model   | NN         | 173 K  | train\n",
      "1 | aux_cls | Sequential | 1.0 K  | train\n",
      "-----------------------------------------------\n",
      "173 K     Trainable params\n",
      "769       Non-trainable params\n",
      "174 K     Total params\n",
      "0.699     Total estimated model params size (MB)\n",
      "77        Modules in train mode\n",
      "0         Modules in eval mode\n"
     ]
    },
    {
     "name": "stdout",
     "output_type": "stream",
     "text": [
      "There are 69 FEATURES: ['dri_score', 'psych_disturb', 'cyto_score', 'diabetes', 'hla_match_c_high', 'hla_high_res_8', 'tbi_status', 'arrhythmia', 'hla_low_res_6', 'graft_type', 'vent_hist', 'renal_issue', 'pulm_severe', 'prim_disease_hct', 'hla_high_res_6', 'cmv_status', 'hla_high_res_10', 'hla_match_dqb1_high', 'tce_imm_match', 'hla_nmdp_6', 'hla_match_c_low', 'rituximab', 'hla_match_drb1_low', 'hla_match_dqb1_low', 'prod_type', 'cyto_score_detail', 'conditioning_intensity', 'ethnicity', 'year_hct', 'obesity', 'mrd_hct', 'in_vivo_tcd', 'tce_match', 'hla_match_a_high', 'hepatic_severe', 'donor_age', 'prior_tumor', 'hla_match_b_low', 'peptic_ulcer', 'age_at_hct', 'hla_match_a_low', 'gvhd_proph', 'rheum_issue', 'sex_match', 'hla_match_b_high', 'race_group', 'comorbidity_score', 'karnofsky_score', 'hepatic_mild', 'tce_div_match', 'donor_related', 'melphalan_dose', 'hla_low_res_8', 'cardiac', 'hla_match_drb1_high', 'pulm_moderate', 'hla_low_res_10', 'sex_match_bool', 'is_cyto_score_same', 'age_bin', 'age_ts', 'age_comorbidity', 'age_karnofsky', 'karnofsky_squared', 'cos_year', 'diff_age_vs_donor', 'sex_one', 'sex_two', 'same_sex']\n"
     ]
    },
    {
     "data": {
      "application/vnd.jupyter.widget-view+json": {
       "model_id": "aa5dd9b55138465989920d458287bda6",
       "version_major": 2,
       "version_minor": 0
      },
      "text/plain": [
       "Sanity Checking: |          | 0/? [00:00<?, ?it/s]"
      ]
     },
     "metadata": {},
     "output_type": "display_data"
    },
    {
     "data": {
      "application/vnd.jupyter.widget-view+json": {
       "model_id": "aa81a967874843de917a81597737d4e6",
       "version_major": 2,
       "version_minor": 0
      },
      "text/plain": [
       "Training: |          | 0/? [00:00<?, ?it/s]"
      ]
     },
     "metadata": {},
     "output_type": "display_data"
    },
    {
     "data": {
      "application/vnd.jupyter.widget-view+json": {
       "model_id": "873ce67a43b34512bb52876826d82f2f",
       "version_major": 2,
       "version_minor": 0
      },
      "text/plain": [
       "Validation: |          | 0/? [00:00<?, ?it/s]"
      ]
     },
     "metadata": {},
     "output_type": "display_data"
    },
    {
     "data": {
      "application/vnd.jupyter.widget-view+json": {
       "model_id": "036a2e2fd1104d06b90dd50f22e26cbc",
       "version_major": 2,
       "version_minor": 0
      },
      "text/plain": [
       "Validation: |          | 0/? [00:00<?, ?it/s]"
      ]
     },
     "metadata": {},
     "output_type": "display_data"
    },
    {
     "data": {
      "application/vnd.jupyter.widget-view+json": {
       "model_id": "44f165a302d54e189cb96a4ca78bbe96",
       "version_major": 2,
       "version_minor": 0
      },
      "text/plain": [
       "Validation: |          | 0/? [00:00<?, ?it/s]"
      ]
     },
     "metadata": {},
     "output_type": "display_data"
    },
    {
     "data": {
      "application/vnd.jupyter.widget-view+json": {
       "model_id": "0744e3e750c64142bf404c0a5c180da2",
       "version_major": 2,
       "version_minor": 0
      },
      "text/plain": [
       "Validation: |          | 0/? [00:00<?, ?it/s]"
      ]
     },
     "metadata": {},
     "output_type": "display_data"
    },
    {
     "data": {
      "application/vnd.jupyter.widget-view+json": {
       "model_id": "6cd8eea40db84c98855940c67d92a6c2",
       "version_major": 2,
       "version_minor": 0
      },
      "text/plain": [
       "Validation: |          | 0/? [00:00<?, ?it/s]"
      ]
     },
     "metadata": {},
     "output_type": "display_data"
    },
    {
     "data": {
      "application/vnd.jupyter.widget-view+json": {
       "model_id": "506249a5d88e4d6483b65a0673e024c0",
       "version_major": 2,
       "version_minor": 0
      },
      "text/plain": [
       "Validation: |          | 0/? [00:00<?, ?it/s]"
      ]
     },
     "metadata": {},
     "output_type": "display_data"
    },
    {
     "data": {
      "application/vnd.jupyter.widget-view+json": {
       "model_id": "52f88faaf66544aa8ab566fa31fb3a28",
       "version_major": 2,
       "version_minor": 0
      },
      "text/plain": [
       "Validation: |          | 0/? [00:00<?, ?it/s]"
      ]
     },
     "metadata": {},
     "output_type": "display_data"
    },
    {
     "data": {
      "application/vnd.jupyter.widget-view+json": {
       "model_id": "7322ab2951544476a88302edf6a2ebad",
       "version_major": 2,
       "version_minor": 0
      },
      "text/plain": [
       "Validation: |          | 0/? [00:00<?, ?it/s]"
      ]
     },
     "metadata": {},
     "output_type": "display_data"
    },
    {
     "data": {
      "application/vnd.jupyter.widget-view+json": {
       "model_id": "8be29c42a6a142e583178c35f623e33f",
       "version_major": 2,
       "version_minor": 0
      },
      "text/plain": [
       "Validation: |          | 0/? [00:00<?, ?it/s]"
      ]
     },
     "metadata": {},
     "output_type": "display_data"
    },
    {
     "data": {
      "application/vnd.jupyter.widget-view+json": {
       "model_id": "e37c8b01f17942aab5096db3595e025e",
       "version_major": 2,
       "version_minor": 0
      },
      "text/plain": [
       "Validation: |          | 0/? [00:00<?, ?it/s]"
      ]
     },
     "metadata": {},
     "output_type": "display_data"
    },
    {
     "data": {
      "application/vnd.jupyter.widget-view+json": {
       "model_id": "f4829be0479a421fb6a2b247bb34dcb3",
       "version_major": 2,
       "version_minor": 0
      },
      "text/plain": [
       "Validation: |          | 0/? [00:00<?, ?it/s]"
      ]
     },
     "metadata": {},
     "output_type": "display_data"
    },
    {
     "data": {
      "application/vnd.jupyter.widget-view+json": {
       "model_id": "ec5f0c404e4d40a7bfc25cf88924233a",
       "version_major": 2,
       "version_minor": 0
      },
      "text/plain": [
       "Validation: |          | 0/? [00:00<?, ?it/s]"
      ]
     },
     "metadata": {},
     "output_type": "display_data"
    },
    {
     "data": {
      "application/vnd.jupyter.widget-view+json": {
       "model_id": "ca4f8212f2ad46f4879d3c56b8ea10a1",
       "version_major": 2,
       "version_minor": 0
      },
      "text/plain": [
       "Validation: |          | 0/? [00:00<?, ?it/s]"
      ]
     },
     "metadata": {},
     "output_type": "display_data"
    },
    {
     "data": {
      "application/vnd.jupyter.widget-view+json": {
       "model_id": "b9fd9b2459f04768b88fc07f9165f4a8",
       "version_major": 2,
       "version_minor": 0
      },
      "text/plain": [
       "Validation: |          | 0/? [00:00<?, ?it/s]"
      ]
     },
     "metadata": {},
     "output_type": "display_data"
    },
    {
     "data": {
      "application/vnd.jupyter.widget-view+json": {
       "model_id": "34c73116064e41a598de8e42e79f174c",
       "version_major": 2,
       "version_minor": 0
      },
      "text/plain": [
       "Validation: |          | 0/? [00:00<?, ?it/s]"
      ]
     },
     "metadata": {},
     "output_type": "display_data"
    },
    {
     "data": {
      "application/vnd.jupyter.widget-view+json": {
       "model_id": "307a1295b14346fd8f9943c4c5ac9745",
       "version_major": 2,
       "version_minor": 0
      },
      "text/plain": [
       "Validation: |          | 0/? [00:00<?, ?it/s]"
      ]
     },
     "metadata": {},
     "output_type": "display_data"
    },
    {
     "data": {
      "application/vnd.jupyter.widget-view+json": {
       "model_id": "f73b436111844a78a3a57054533d92f4",
       "version_major": 2,
       "version_minor": 0
      },
      "text/plain": [
       "Validation: |          | 0/? [00:00<?, ?it/s]"
      ]
     },
     "metadata": {},
     "output_type": "display_data"
    },
    {
     "data": {
      "application/vnd.jupyter.widget-view+json": {
       "model_id": "e5ab8bab4d294489a4b4d8ddaba3b01b",
       "version_major": 2,
       "version_minor": 0
      },
      "text/plain": [
       "Validation: |          | 0/? [00:00<?, ?it/s]"
      ]
     },
     "metadata": {},
     "output_type": "display_data"
    },
    {
     "data": {
      "application/vnd.jupyter.widget-view+json": {
       "model_id": "42c617f65f3149eb81a53fa174810dc2",
       "version_major": 2,
       "version_minor": 0
      },
      "text/plain": [
       "Validation: |          | 0/? [00:00<?, ?it/s]"
      ]
     },
     "metadata": {},
     "output_type": "display_data"
    },
    {
     "data": {
      "application/vnd.jupyter.widget-view+json": {
       "model_id": "65303440105d47208d3df246a246c4b4",
       "version_major": 2,
       "version_minor": 0
      },
      "text/plain": [
       "Validation: |          | 0/? [00:00<?, ?it/s]"
      ]
     },
     "metadata": {},
     "output_type": "display_data"
    },
    {
     "data": {
      "application/vnd.jupyter.widget-view+json": {
       "model_id": "e33137210cba49a0bbadcb5344c8cb41",
       "version_major": 2,
       "version_minor": 0
      },
      "text/plain": [
       "Validation: |          | 0/? [00:00<?, ?it/s]"
      ]
     },
     "metadata": {},
     "output_type": "display_data"
    },
    {
     "data": {
      "application/vnd.jupyter.widget-view+json": {
       "model_id": "23e572927abd4f64a2b6ee336401a63a",
       "version_major": 2,
       "version_minor": 0
      },
      "text/plain": [
       "Validation: |          | 0/? [00:00<?, ?it/s]"
      ]
     },
     "metadata": {},
     "output_type": "display_data"
    },
    {
     "data": {
      "application/vnd.jupyter.widget-view+json": {
       "model_id": "6954c9cec0f34e158ee61494bc008aad",
       "version_major": 2,
       "version_minor": 0
      },
      "text/plain": [
       "Validation: |          | 0/? [00:00<?, ?it/s]"
      ]
     },
     "metadata": {},
     "output_type": "display_data"
    },
    {
     "data": {
      "application/vnd.jupyter.widget-view+json": {
       "model_id": "872e897d060d4576aa4806be6aeaa21c",
       "version_major": 2,
       "version_minor": 0
      },
      "text/plain": [
       "Validation: |          | 0/? [00:00<?, ?it/s]"
      ]
     },
     "metadata": {},
     "output_type": "display_data"
    },
    {
     "data": {
      "application/vnd.jupyter.widget-view+json": {
       "model_id": "9b7d540ac82544fe953e3f948047acd3",
       "version_major": 2,
       "version_minor": 0
      },
      "text/plain": [
       "Validation: |          | 0/? [00:00<?, ?it/s]"
      ]
     },
     "metadata": {},
     "output_type": "display_data"
    },
    {
     "data": {
      "application/vnd.jupyter.widget-view+json": {
       "model_id": "fb3bd6db0a7144c1a1bbe4fd63ab0c2e",
       "version_major": 2,
       "version_minor": 0
      },
      "text/plain": [
       "Validation: |          | 0/? [00:00<?, ?it/s]"
      ]
     },
     "metadata": {},
     "output_type": "display_data"
    },
    {
     "data": {
      "application/vnd.jupyter.widget-view+json": {
       "model_id": "f8b020daf70c4fd9a25982b1b3209de5",
       "version_major": 2,
       "version_minor": 0
      },
      "text/plain": [
       "Validation: |          | 0/? [00:00<?, ?it/s]"
      ]
     },
     "metadata": {},
     "output_type": "display_data"
    },
    {
     "data": {
      "application/vnd.jupyter.widget-view+json": {
       "model_id": "94c342c9525245e0be15465cd66893ab",
       "version_major": 2,
       "version_minor": 0
      },
      "text/plain": [
       "Validation: |          | 0/? [00:00<?, ?it/s]"
      ]
     },
     "metadata": {},
     "output_type": "display_data"
    },
    {
     "data": {
      "application/vnd.jupyter.widget-view+json": {
       "model_id": "8a2f2943a5554d6d82c193de5fcddc17",
       "version_major": 2,
       "version_minor": 0
      },
      "text/plain": [
       "Validation: |          | 0/? [00:00<?, ?it/s]"
      ]
     },
     "metadata": {},
     "output_type": "display_data"
    },
    {
     "data": {
      "application/vnd.jupyter.widget-view+json": {
       "model_id": "db0dbfef82c04ca7a6775fec499e66aa",
       "version_major": 2,
       "version_minor": 0
      },
      "text/plain": [
       "Validation: |          | 0/? [00:00<?, ?it/s]"
      ]
     },
     "metadata": {},
     "output_type": "display_data"
    },
    {
     "data": {
      "application/vnd.jupyter.widget-view+json": {
       "model_id": "ecc526f0710848908f47a0f9f71eebf0",
       "version_major": 2,
       "version_minor": 0
      },
      "text/plain": [
       "Validation: |          | 0/? [00:00<?, ?it/s]"
      ]
     },
     "metadata": {},
     "output_type": "display_data"
    },
    {
     "data": {
      "application/vnd.jupyter.widget-view+json": {
       "model_id": "9eb7ee189ac246de88d8417973c79c0b",
       "version_major": 2,
       "version_minor": 0
      },
      "text/plain": [
       "Validation: |          | 0/? [00:00<?, ?it/s]"
      ]
     },
     "metadata": {},
     "output_type": "display_data"
    },
    {
     "data": {
      "application/vnd.jupyter.widget-view+json": {
       "model_id": "ed85eecf4c0a4b858e7d96b3813ccf6d",
       "version_major": 2,
       "version_minor": 0
      },
      "text/plain": [
       "Validation: |          | 0/? [00:00<?, ?it/s]"
      ]
     },
     "metadata": {},
     "output_type": "display_data"
    },
    {
     "data": {
      "application/vnd.jupyter.widget-view+json": {
       "model_id": "6b0ed098c114419e8b345f1d9ae4633c",
       "version_major": 2,
       "version_minor": 0
      },
      "text/plain": [
       "Validation: |          | 0/? [00:00<?, ?it/s]"
      ]
     },
     "metadata": {},
     "output_type": "display_data"
    },
    {
     "data": {
      "application/vnd.jupyter.widget-view+json": {
       "model_id": "45fb8836b5524a96a186856bf39e2148",
       "version_major": 2,
       "version_minor": 0
      },
      "text/plain": [
       "Validation: |          | 0/? [00:00<?, ?it/s]"
      ]
     },
     "metadata": {},
     "output_type": "display_data"
    },
    {
     "data": {
      "application/vnd.jupyter.widget-view+json": {
       "model_id": "390c11ce22664cc487772b0ebed49a18",
       "version_major": 2,
       "version_minor": 0
      },
      "text/plain": [
       "Validation: |          | 0/? [00:00<?, ?it/s]"
      ]
     },
     "metadata": {},
     "output_type": "display_data"
    },
    {
     "data": {
      "application/vnd.jupyter.widget-view+json": {
       "model_id": "c464c92b824742a98b59aa57acf49261",
       "version_major": 2,
       "version_minor": 0
      },
      "text/plain": [
       "Validation: |          | 0/? [00:00<?, ?it/s]"
      ]
     },
     "metadata": {},
     "output_type": "display_data"
    },
    {
     "data": {
      "application/vnd.jupyter.widget-view+json": {
       "model_id": "b3fc902d0d0345aaa5ece82038124b5d",
       "version_major": 2,
       "version_minor": 0
      },
      "text/plain": [
       "Validation: |          | 0/? [00:00<?, ?it/s]"
      ]
     },
     "metadata": {},
     "output_type": "display_data"
    },
    {
     "data": {
      "application/vnd.jupyter.widget-view+json": {
       "model_id": "a7c8da52dd0f4b52b4b38a674fe6aa17",
       "version_major": 2,
       "version_minor": 0
      },
      "text/plain": [
       "Validation: |          | 0/? [00:00<?, ?it/s]"
      ]
     },
     "metadata": {},
     "output_type": "display_data"
    },
    {
     "data": {
      "application/vnd.jupyter.widget-view+json": {
       "model_id": "f6dba18bc9064370949e2236ab2508ee",
       "version_major": 2,
       "version_minor": 0
      },
      "text/plain": [
       "Validation: |          | 0/? [00:00<?, ?it/s]"
      ]
     },
     "metadata": {},
     "output_type": "display_data"
    },
    {
     "data": {
      "application/vnd.jupyter.widget-view+json": {
       "model_id": "fa05bde2cf8442afb365d43f93fb5708",
       "version_major": 2,
       "version_minor": 0
      },
      "text/plain": [
       "Validation: |          | 0/? [00:00<?, ?it/s]"
      ]
     },
     "metadata": {},
     "output_type": "display_data"
    },
    {
     "data": {
      "application/vnd.jupyter.widget-view+json": {
       "model_id": "54ac8d071ac242a5ba8979e97accb23a",
       "version_major": 2,
       "version_minor": 0
      },
      "text/plain": [
       "Validation: |          | 0/? [00:00<?, ?it/s]"
      ]
     },
     "metadata": {},
     "output_type": "display_data"
    },
    {
     "data": {
      "application/vnd.jupyter.widget-view+json": {
       "model_id": "5d206511c12a4d67ada5fca34df72886",
       "version_major": 2,
       "version_minor": 0
      },
      "text/plain": [
       "Validation: |          | 0/? [00:00<?, ?it/s]"
      ]
     },
     "metadata": {},
     "output_type": "display_data"
    },
    {
     "data": {
      "application/vnd.jupyter.widget-view+json": {
       "model_id": "fd67fd840f1948f182b3c6b921b2bc25",
       "version_major": 2,
       "version_minor": 0
      },
      "text/plain": [
       "Validation: |          | 0/? [00:00<?, ?it/s]"
      ]
     },
     "metadata": {},
     "output_type": "display_data"
    },
    {
     "name": "stderr",
     "output_type": "stream",
     "text": [
      "Swapping scheduler `CosineAnnealingLR` for `SWALR`\n"
     ]
    },
    {
     "data": {
      "application/vnd.jupyter.widget-view+json": {
       "model_id": "6e736b96636f453a9c107f82dbca7702",
       "version_major": 2,
       "version_minor": 0
      },
      "text/plain": [
       "Validation: |          | 0/? [00:00<?, ?it/s]"
      ]
     },
     "metadata": {},
     "output_type": "display_data"
    },
    {
     "data": {
      "application/vnd.jupyter.widget-view+json": {
       "model_id": "a7ee5f8025744c1bbb6ed680bb1e4d70",
       "version_major": 2,
       "version_minor": 0
      },
      "text/plain": [
       "Validation: |          | 0/? [00:00<?, ?it/s]"
      ]
     },
     "metadata": {},
     "output_type": "display_data"
    },
    {
     "data": {
      "application/vnd.jupyter.widget-view+json": {
       "model_id": "6f01189bbc4940ddb35eee1388525dde",
       "version_major": 2,
       "version_minor": 0
      },
      "text/plain": [
       "Validation: |          | 0/? [00:00<?, ?it/s]"
      ]
     },
     "metadata": {},
     "output_type": "display_data"
    },
    {
     "data": {
      "application/vnd.jupyter.widget-view+json": {
       "model_id": "fe9ff5a3005248e695eb70c968faed68",
       "version_major": 2,
       "version_minor": 0
      },
      "text/plain": [
       "Validation: |          | 0/? [00:00<?, ?it/s]"
      ]
     },
     "metadata": {},
     "output_type": "display_data"
    },
    {
     "data": {
      "application/vnd.jupyter.widget-view+json": {
       "model_id": "24a457e934424653923f394b62dba300",
       "version_major": 2,
       "version_minor": 0
      },
      "text/plain": [
       "Validation: |          | 0/? [00:00<?, ?it/s]"
      ]
     },
     "metadata": {},
     "output_type": "display_data"
    },
    {
     "data": {
      "application/vnd.jupyter.widget-view+json": {
       "model_id": "7f16fbbf718f4975acaff6741e6c8e64",
       "version_major": 2,
       "version_minor": 0
      },
      "text/plain": [
       "Validation: |          | 0/? [00:00<?, ?it/s]"
      ]
     },
     "metadata": {},
     "output_type": "display_data"
    },
    {
     "data": {
      "application/vnd.jupyter.widget-view+json": {
       "model_id": "856a953865594e809f046d162b0699f4",
       "version_major": 2,
       "version_minor": 0
      },
      "text/plain": [
       "Validation: |          | 0/? [00:00<?, ?it/s]"
      ]
     },
     "metadata": {},
     "output_type": "display_data"
    },
    {
     "data": {
      "application/vnd.jupyter.widget-view+json": {
       "model_id": "3e5e5fef46684d878e7cd3d4b1cd01a1",
       "version_major": 2,
       "version_minor": 0
      },
      "text/plain": [
       "Validation: |          | 0/? [00:00<?, ?it/s]"
      ]
     },
     "metadata": {},
     "output_type": "display_data"
    },
    {
     "data": {
      "application/vnd.jupyter.widget-view+json": {
       "model_id": "2c5e534c65274ec3a5e4cf8bb61bd058",
       "version_major": 2,
       "version_minor": 0
      },
      "text/plain": [
       "Validation: |          | 0/? [00:00<?, ?it/s]"
      ]
     },
     "metadata": {},
     "output_type": "display_data"
    },
    {
     "data": {
      "application/vnd.jupyter.widget-view+json": {
       "model_id": "f528e1b792174036982d364e6b41db33",
       "version_major": 2,
       "version_minor": 0
      },
      "text/plain": [
       "Validation: |          | 0/? [00:00<?, ?it/s]"
      ]
     },
     "metadata": {},
     "output_type": "display_data"
    },
    {
     "data": {
      "application/vnd.jupyter.widget-view+json": {
       "model_id": "c447e30d9eaa4016893ca9959b721bcc",
       "version_major": 2,
       "version_minor": 0
      },
      "text/plain": [
       "Validation: |          | 0/? [00:00<?, ?it/s]"
      ]
     },
     "metadata": {},
     "output_type": "display_data"
    },
    {
     "data": {
      "application/vnd.jupyter.widget-view+json": {
       "model_id": "820ef6e48e134d05b6b75a28bd803616",
       "version_major": 2,
       "version_minor": 0
      },
      "text/plain": [
       "Validation: |          | 0/? [00:00<?, ?it/s]"
      ]
     },
     "metadata": {},
     "output_type": "display_data"
    },
    {
     "data": {
      "application/vnd.jupyter.widget-view+json": {
       "model_id": "97224de5b68c400eab856484566655cc",
       "version_major": 2,
       "version_minor": 0
      },
      "text/plain": [
       "Validation: |          | 0/? [00:00<?, ?it/s]"
      ]
     },
     "metadata": {},
     "output_type": "display_data"
    },
    {
     "data": {
      "application/vnd.jupyter.widget-view+json": {
       "model_id": "41edd9b782bb426fa5b140dfdb785eed",
       "version_major": 2,
       "version_minor": 0
      },
      "text/plain": [
       "Validation: |          | 0/? [00:00<?, ?it/s]"
      ]
     },
     "metadata": {},
     "output_type": "display_data"
    },
    {
     "data": {
      "application/vnd.jupyter.widget-view+json": {
       "model_id": "b0c1ecd1ecbc4fa6bc4073351d5f1a7d",
       "version_major": 2,
       "version_minor": 0
      },
      "text/plain": [
       "Validation: |          | 0/? [00:00<?, ?it/s]"
      ]
     },
     "metadata": {},
     "output_type": "display_data"
    },
    {
     "data": {
      "application/vnd.jupyter.widget-view+json": {
       "model_id": "b041a4cb1c994007838de24f670fd3cd",
       "version_major": 2,
       "version_minor": 0
      },
      "text/plain": [
       "Validation: |          | 0/? [00:00<?, ?it/s]"
      ]
     },
     "metadata": {},
     "output_type": "display_data"
    },
    {
     "data": {
      "application/vnd.jupyter.widget-view+json": {
       "model_id": "7c3564add87340d89d0fd44c2bc6c9ea",
       "version_major": 2,
       "version_minor": 0
      },
      "text/plain": [
       "Validation: |          | 0/? [00:00<?, ?it/s]"
      ]
     },
     "metadata": {},
     "output_type": "display_data"
    },
    {
     "name": "stderr",
     "output_type": "stream",
     "text": [
      "`Trainer.fit` stopped: `max_epochs=61` reached.\n"
     ]
    },
    {
     "name": "stdout",
     "output_type": "stream",
     "text": [
      "Loading best model from: c:\\Users\\eikik\\python\\kaggle\\CIBMTR\\lightning_logs\\version_29\\checkpoints\\best-checkpoint.ckpt\n"
     ]
    },
    {
     "data": {
      "application/vnd.jupyter.widget-view+json": {
       "model_id": "fb2c722fd8d24ad7ae9515c066a52611",
       "version_major": 2,
       "version_minor": 0
      },
      "text/plain": [
       "Testing: |          | 0/? [00:00<?, ?it/s]"
      ]
     },
     "metadata": {},
     "output_type": "display_data"
    },
    {
     "data": {
      "text/html": [
       "<pre style=\"white-space:pre;overflow-x:auto;line-height:normal;font-family:Menlo,'DejaVu Sans Mono',consolas,'Courier New',monospace\">┏━━━━━━━━━━━━━━━━━━━━━━━━━━━┳━━━━━━━━━━━━━━━━━━━━━━━━━━━┓\n",
       "┃<span style=\"font-weight: bold\">        Test metric        </span>┃<span style=\"font-weight: bold\">       DataLoader 0        </span>┃\n",
       "┡━━━━━━━━━━━━━━━━━━━━━━━━━━━╇━━━━━━━━━━━━━━━━━━━━━━━━━━━┩\n",
       "│<span style=\"color: #008080; text-decoration-color: #008080\">        test_cindex        </span>│<span style=\"color: #800080; text-decoration-color: #800080\">    0.6777530908584595     </span>│\n",
       "│<span style=\"color: #008080; text-decoration-color: #008080\">    test_cindex_simple     </span>│<span style=\"color: #800080; text-decoration-color: #800080\">    0.6854519248008728     </span>│\n",
       "│<span style=\"color: #008080; text-decoration-color: #008080\">         test_loss         </span>│<span style=\"color: #800080; text-decoration-color: #800080\">    0.18494712011972278    </span>│\n",
       "└───────────────────────────┴───────────────────────────┘\n",
       "</pre>\n"
      ],
      "text/plain": [
       "┏━━━━━━━━━━━━━━━━━━━━━━━━━━━┳━━━━━━━━━━━━━━━━━━━━━━━━━━━┓\n",
       "┃\u001b[1m \u001b[0m\u001b[1m       Test metric       \u001b[0m\u001b[1m \u001b[0m┃\u001b[1m \u001b[0m\u001b[1m      DataLoader 0       \u001b[0m\u001b[1m \u001b[0m┃\n",
       "┡━━━━━━━━━━━━━━━━━━━━━━━━━━━╇━━━━━━━━━━━━━━━━━━━━━━━━━━━┩\n",
       "│\u001b[36m \u001b[0m\u001b[36m       test_cindex       \u001b[0m\u001b[36m \u001b[0m│\u001b[35m \u001b[0m\u001b[35m   0.6777530908584595    \u001b[0m\u001b[35m \u001b[0m│\n",
       "│\u001b[36m \u001b[0m\u001b[36m   test_cindex_simple    \u001b[0m\u001b[36m \u001b[0m│\u001b[35m \u001b[0m\u001b[35m   0.6854519248008728    \u001b[0m\u001b[35m \u001b[0m│\n",
       "│\u001b[36m \u001b[0m\u001b[36m        test_loss        \u001b[0m\u001b[36m \u001b[0m│\u001b[35m \u001b[0m\u001b[35m   0.18494712011972278   \u001b[0m\u001b[35m \u001b[0m│\n",
       "└───────────────────────────┴───────────────────────────┘\n"
      ]
     },
     "metadata": {},
     "output_type": "display_data"
    },
    {
     "name": "stdout",
     "output_type": "stream",
     "text": [
      "There are 69 FEATURES: ['dri_score', 'psych_disturb', 'cyto_score', 'diabetes', 'hla_match_c_high', 'hla_high_res_8', 'tbi_status', 'arrhythmia', 'hla_low_res_6', 'graft_type', 'vent_hist', 'renal_issue', 'pulm_severe', 'prim_disease_hct', 'hla_high_res_6', 'cmv_status', 'hla_high_res_10', 'hla_match_dqb1_high', 'tce_imm_match', 'hla_nmdp_6', 'hla_match_c_low', 'rituximab', 'hla_match_drb1_low', 'hla_match_dqb1_low', 'prod_type', 'cyto_score_detail', 'conditioning_intensity', 'ethnicity', 'year_hct', 'obesity', 'mrd_hct', 'in_vivo_tcd', 'tce_match', 'hla_match_a_high', 'hepatic_severe', 'donor_age', 'prior_tumor', 'hla_match_b_low', 'peptic_ulcer', 'age_at_hct', 'hla_match_a_low', 'gvhd_proph', 'rheum_issue', 'sex_match', 'hla_match_b_high', 'race_group', 'comorbidity_score', 'karnofsky_score', 'hepatic_mild', 'tce_div_match', 'donor_related', 'melphalan_dose', 'hla_low_res_8', 'cardiac', 'hla_match_drb1_high', 'pulm_moderate', 'hla_low_res_10', 'sex_match_bool', 'is_cyto_score_same', 'age_bin', 'age_ts', 'age_comorbidity', 'age_karnofsky', 'karnofsky_squared', 'cos_year', 'diff_age_vs_donor', 'sex_one', 'sex_two', 'same_sex']\n",
      "There are 69 FEATURES: ['dri_score', 'psych_disturb', 'cyto_score', 'diabetes', 'hla_match_c_high', 'hla_high_res_8', 'tbi_status', 'arrhythmia', 'hla_low_res_6', 'graft_type', 'vent_hist', 'renal_issue', 'pulm_severe', 'prim_disease_hct', 'hla_high_res_6', 'cmv_status', 'hla_high_res_10', 'hla_match_dqb1_high', 'tce_imm_match', 'hla_nmdp_6', 'hla_match_c_low', 'rituximab', 'hla_match_drb1_low', 'hla_match_dqb1_low', 'prod_type', 'cyto_score_detail', 'conditioning_intensity', 'ethnicity', 'year_hct', 'obesity', 'mrd_hct', 'in_vivo_tcd', 'tce_match', 'hla_match_a_high', 'hepatic_severe', 'donor_age', 'prior_tumor', 'hla_match_b_low', 'peptic_ulcer', 'age_at_hct', 'hla_match_a_low', 'gvhd_proph', 'rheum_issue', 'sex_match', 'hla_match_b_high', 'race_group', 'comorbidity_score', 'karnofsky_score', 'hepatic_mild', 'tce_div_match', 'donor_related', 'melphalan_dose', 'hla_low_res_8', 'cardiac', 'hla_match_drb1_high', 'pulm_moderate', 'hla_low_res_10', 'sex_match_bool', 'is_cyto_score_same', 'age_bin', 'age_ts', 'age_comorbidity', 'age_karnofsky', 'karnofsky_squared', 'cos_year', 'diff_age_vs_donor', 'sex_one', 'sex_two', 'same_sex']\n"
     ]
    },
    {
     "name": "stderr",
     "output_type": "stream",
     "text": [
      "GPU available: False, used: False\n",
      "TPU available: False, using: 0 TPU cores\n",
      "HPU available: False, using: 0 HPUs\n",
      "\n",
      "  | Name    | Type       | Params | Mode \n",
      "-----------------------------------------------\n",
      "0 | model   | NN         | 173 K  | train\n",
      "1 | aux_cls | Sequential | 1.0 K  | train\n",
      "-----------------------------------------------\n",
      "173 K     Trainable params\n",
      "769       Non-trainable params\n",
      "174 K     Total params\n",
      "0.699     Total estimated model params size (MB)\n",
      "77        Modules in train mode\n",
      "0         Modules in eval mode\n"
     ]
    },
    {
     "name": "stdout",
     "output_type": "stream",
     "text": [
      "There are 69 FEATURES: ['dri_score', 'psych_disturb', 'cyto_score', 'diabetes', 'hla_match_c_high', 'hla_high_res_8', 'tbi_status', 'arrhythmia', 'hla_low_res_6', 'graft_type', 'vent_hist', 'renal_issue', 'pulm_severe', 'prim_disease_hct', 'hla_high_res_6', 'cmv_status', 'hla_high_res_10', 'hla_match_dqb1_high', 'tce_imm_match', 'hla_nmdp_6', 'hla_match_c_low', 'rituximab', 'hla_match_drb1_low', 'hla_match_dqb1_low', 'prod_type', 'cyto_score_detail', 'conditioning_intensity', 'ethnicity', 'year_hct', 'obesity', 'mrd_hct', 'in_vivo_tcd', 'tce_match', 'hla_match_a_high', 'hepatic_severe', 'donor_age', 'prior_tumor', 'hla_match_b_low', 'peptic_ulcer', 'age_at_hct', 'hla_match_a_low', 'gvhd_proph', 'rheum_issue', 'sex_match', 'hla_match_b_high', 'race_group', 'comorbidity_score', 'karnofsky_score', 'hepatic_mild', 'tce_div_match', 'donor_related', 'melphalan_dose', 'hla_low_res_8', 'cardiac', 'hla_match_drb1_high', 'pulm_moderate', 'hla_low_res_10', 'sex_match_bool', 'is_cyto_score_same', 'age_bin', 'age_ts', 'age_comorbidity', 'age_karnofsky', 'karnofsky_squared', 'cos_year', 'diff_age_vs_donor', 'sex_one', 'sex_two', 'same_sex']\n"
     ]
    },
    {
     "data": {
      "application/vnd.jupyter.widget-view+json": {
       "model_id": "aea35ab4d08746a494b7c0a10949ec5c",
       "version_major": 2,
       "version_minor": 0
      },
      "text/plain": [
       "Sanity Checking: |          | 0/? [00:00<?, ?it/s]"
      ]
     },
     "metadata": {},
     "output_type": "display_data"
    },
    {
     "data": {
      "application/vnd.jupyter.widget-view+json": {
       "model_id": "a319dffffd4848f98602c25a76ed6bf7",
       "version_major": 2,
       "version_minor": 0
      },
      "text/plain": [
       "Training: |          | 0/? [00:00<?, ?it/s]"
      ]
     },
     "metadata": {},
     "output_type": "display_data"
    },
    {
     "data": {
      "application/vnd.jupyter.widget-view+json": {
       "model_id": "cbea05af06b149788be2443b6ff2523d",
       "version_major": 2,
       "version_minor": 0
      },
      "text/plain": [
       "Validation: |          | 0/? [00:00<?, ?it/s]"
      ]
     },
     "metadata": {},
     "output_type": "display_data"
    },
    {
     "data": {
      "application/vnd.jupyter.widget-view+json": {
       "model_id": "956f217e03924eefb258b3f2bb78d458",
       "version_major": 2,
       "version_minor": 0
      },
      "text/plain": [
       "Validation: |          | 0/? [00:00<?, ?it/s]"
      ]
     },
     "metadata": {},
     "output_type": "display_data"
    },
    {
     "data": {
      "application/vnd.jupyter.widget-view+json": {
       "model_id": "498cc1161cf5433784cd0340b59428c9",
       "version_major": 2,
       "version_minor": 0
      },
      "text/plain": [
       "Validation: |          | 0/? [00:00<?, ?it/s]"
      ]
     },
     "metadata": {},
     "output_type": "display_data"
    },
    {
     "data": {
      "application/vnd.jupyter.widget-view+json": {
       "model_id": "475a6a7de32f471fb1f6737c1897fdf2",
       "version_major": 2,
       "version_minor": 0
      },
      "text/plain": [
       "Validation: |          | 0/? [00:00<?, ?it/s]"
      ]
     },
     "metadata": {},
     "output_type": "display_data"
    },
    {
     "data": {
      "application/vnd.jupyter.widget-view+json": {
       "model_id": "a5812e04720a45d49c37f4fd03c05c5c",
       "version_major": 2,
       "version_minor": 0
      },
      "text/plain": [
       "Validation: |          | 0/? [00:00<?, ?it/s]"
      ]
     },
     "metadata": {},
     "output_type": "display_data"
    },
    {
     "data": {
      "application/vnd.jupyter.widget-view+json": {
       "model_id": "4b64f7d82cea481c923d0327ef1e297a",
       "version_major": 2,
       "version_minor": 0
      },
      "text/plain": [
       "Validation: |          | 0/? [00:00<?, ?it/s]"
      ]
     },
     "metadata": {},
     "output_type": "display_data"
    },
    {
     "data": {
      "application/vnd.jupyter.widget-view+json": {
       "model_id": "7e56e392c25b416792f4e21652731310",
       "version_major": 2,
       "version_minor": 0
      },
      "text/plain": [
       "Validation: |          | 0/? [00:00<?, ?it/s]"
      ]
     },
     "metadata": {},
     "output_type": "display_data"
    },
    {
     "data": {
      "application/vnd.jupyter.widget-view+json": {
       "model_id": "f0d06206e09843319bc5e82fb16aa5a3",
       "version_major": 2,
       "version_minor": 0
      },
      "text/plain": [
       "Validation: |          | 0/? [00:00<?, ?it/s]"
      ]
     },
     "metadata": {},
     "output_type": "display_data"
    },
    {
     "data": {
      "application/vnd.jupyter.widget-view+json": {
       "model_id": "adef5642e36746968e5dfdcf4c74ab3f",
       "version_major": 2,
       "version_minor": 0
      },
      "text/plain": [
       "Validation: |          | 0/? [00:00<?, ?it/s]"
      ]
     },
     "metadata": {},
     "output_type": "display_data"
    },
    {
     "data": {
      "application/vnd.jupyter.widget-view+json": {
       "model_id": "8d76cdf4fd6a49ae9f71bc024b8b9e0a",
       "version_major": 2,
       "version_minor": 0
      },
      "text/plain": [
       "Validation: |          | 0/? [00:00<?, ?it/s]"
      ]
     },
     "metadata": {},
     "output_type": "display_data"
    },
    {
     "data": {
      "application/vnd.jupyter.widget-view+json": {
       "model_id": "2ba78cce994e4cb0a011cf88fd525f38",
       "version_major": 2,
       "version_minor": 0
      },
      "text/plain": [
       "Validation: |          | 0/? [00:00<?, ?it/s]"
      ]
     },
     "metadata": {},
     "output_type": "display_data"
    },
    {
     "data": {
      "application/vnd.jupyter.widget-view+json": {
       "model_id": "67552be9d8eb4cbb8821f3ae763c5c66",
       "version_major": 2,
       "version_minor": 0
      },
      "text/plain": [
       "Validation: |          | 0/? [00:00<?, ?it/s]"
      ]
     },
     "metadata": {},
     "output_type": "display_data"
    },
    {
     "data": {
      "application/vnd.jupyter.widget-view+json": {
       "model_id": "75f0ae34e1824d879f2fee4f8b8704d6",
       "version_major": 2,
       "version_minor": 0
      },
      "text/plain": [
       "Validation: |          | 0/? [00:00<?, ?it/s]"
      ]
     },
     "metadata": {},
     "output_type": "display_data"
    },
    {
     "data": {
      "application/vnd.jupyter.widget-view+json": {
       "model_id": "90917c954cc245b08e3b47ddee1fa158",
       "version_major": 2,
       "version_minor": 0
      },
      "text/plain": [
       "Validation: |          | 0/? [00:00<?, ?it/s]"
      ]
     },
     "metadata": {},
     "output_type": "display_data"
    },
    {
     "data": {
      "application/vnd.jupyter.widget-view+json": {
       "model_id": "238e4c37af534b83b9f9ecb383a076c8",
       "version_major": 2,
       "version_minor": 0
      },
      "text/plain": [
       "Validation: |          | 0/? [00:00<?, ?it/s]"
      ]
     },
     "metadata": {},
     "output_type": "display_data"
    },
    {
     "data": {
      "application/vnd.jupyter.widget-view+json": {
       "model_id": "024a9714aa8942148619064dd5c39911",
       "version_major": 2,
       "version_minor": 0
      },
      "text/plain": [
       "Validation: |          | 0/? [00:00<?, ?it/s]"
      ]
     },
     "metadata": {},
     "output_type": "display_data"
    },
    {
     "data": {
      "application/vnd.jupyter.widget-view+json": {
       "model_id": "cee3f663534c4c0eaac7f7ec9cef3cf2",
       "version_major": 2,
       "version_minor": 0
      },
      "text/plain": [
       "Validation: |          | 0/? [00:00<?, ?it/s]"
      ]
     },
     "metadata": {},
     "output_type": "display_data"
    },
    {
     "data": {
      "application/vnd.jupyter.widget-view+json": {
       "model_id": "5a4fe8eb109e4095bd01ee7d10ce67bc",
       "version_major": 2,
       "version_minor": 0
      },
      "text/plain": [
       "Validation: |          | 0/? [00:00<?, ?it/s]"
      ]
     },
     "metadata": {},
     "output_type": "display_data"
    },
    {
     "data": {
      "application/vnd.jupyter.widget-view+json": {
       "model_id": "38cdaa815bee47948f13a3124b2d706e",
       "version_major": 2,
       "version_minor": 0
      },
      "text/plain": [
       "Validation: |          | 0/? [00:00<?, ?it/s]"
      ]
     },
     "metadata": {},
     "output_type": "display_data"
    },
    {
     "data": {
      "application/vnd.jupyter.widget-view+json": {
       "model_id": "313db01f0f81465d85081e7010678a66",
       "version_major": 2,
       "version_minor": 0
      },
      "text/plain": [
       "Validation: |          | 0/? [00:00<?, ?it/s]"
      ]
     },
     "metadata": {},
     "output_type": "display_data"
    },
    {
     "data": {
      "application/vnd.jupyter.widget-view+json": {
       "model_id": "509b03531d9c4cca9d7950802c935d79",
       "version_major": 2,
       "version_minor": 0
      },
      "text/plain": [
       "Validation: |          | 0/? [00:00<?, ?it/s]"
      ]
     },
     "metadata": {},
     "output_type": "display_data"
    },
    {
     "data": {
      "application/vnd.jupyter.widget-view+json": {
       "model_id": "1562cf4563d04b219a13069beea32209",
       "version_major": 2,
       "version_minor": 0
      },
      "text/plain": [
       "Validation: |          | 0/? [00:00<?, ?it/s]"
      ]
     },
     "metadata": {},
     "output_type": "display_data"
    },
    {
     "data": {
      "application/vnd.jupyter.widget-view+json": {
       "model_id": "d2cab7b0e334481889d201d10828ba11",
       "version_major": 2,
       "version_minor": 0
      },
      "text/plain": [
       "Validation: |          | 0/? [00:00<?, ?it/s]"
      ]
     },
     "metadata": {},
     "output_type": "display_data"
    },
    {
     "data": {
      "application/vnd.jupyter.widget-view+json": {
       "model_id": "b62c4adf31f846e397996e3127f58fba",
       "version_major": 2,
       "version_minor": 0
      },
      "text/plain": [
       "Validation: |          | 0/? [00:00<?, ?it/s]"
      ]
     },
     "metadata": {},
     "output_type": "display_data"
    },
    {
     "data": {
      "application/vnd.jupyter.widget-view+json": {
       "model_id": "cf17daf59eae4cb7ab17a31720a48e3f",
       "version_major": 2,
       "version_minor": 0
      },
      "text/plain": [
       "Validation: |          | 0/? [00:00<?, ?it/s]"
      ]
     },
     "metadata": {},
     "output_type": "display_data"
    },
    {
     "data": {
      "application/vnd.jupyter.widget-view+json": {
       "model_id": "679934b308514852a9615416c4f3c19c",
       "version_major": 2,
       "version_minor": 0
      },
      "text/plain": [
       "Validation: |          | 0/? [00:00<?, ?it/s]"
      ]
     },
     "metadata": {},
     "output_type": "display_data"
    },
    {
     "data": {
      "application/vnd.jupyter.widget-view+json": {
       "model_id": "0ae229eb3a2845e2937c62d7cb8f9a6d",
       "version_major": 2,
       "version_minor": 0
      },
      "text/plain": [
       "Validation: |          | 0/? [00:00<?, ?it/s]"
      ]
     },
     "metadata": {},
     "output_type": "display_data"
    },
    {
     "data": {
      "application/vnd.jupyter.widget-view+json": {
       "model_id": "4156267da8b94efeb814e1c147418b71",
       "version_major": 2,
       "version_minor": 0
      },
      "text/plain": [
       "Validation: |          | 0/? [00:00<?, ?it/s]"
      ]
     },
     "metadata": {},
     "output_type": "display_data"
    },
    {
     "data": {
      "application/vnd.jupyter.widget-view+json": {
       "model_id": "4bb541f2b162410f988df229c1237baf",
       "version_major": 2,
       "version_minor": 0
      },
      "text/plain": [
       "Validation: |          | 0/? [00:00<?, ?it/s]"
      ]
     },
     "metadata": {},
     "output_type": "display_data"
    },
    {
     "data": {
      "application/vnd.jupyter.widget-view+json": {
       "model_id": "70c89b348e4c44899bdf2ad56642f7ea",
       "version_major": 2,
       "version_minor": 0
      },
      "text/plain": [
       "Validation: |          | 0/? [00:00<?, ?it/s]"
      ]
     },
     "metadata": {},
     "output_type": "display_data"
    },
    {
     "data": {
      "application/vnd.jupyter.widget-view+json": {
       "model_id": "20372e8ac0334d09858a01b4b5d993fa",
       "version_major": 2,
       "version_minor": 0
      },
      "text/plain": [
       "Validation: |          | 0/? [00:00<?, ?it/s]"
      ]
     },
     "metadata": {},
     "output_type": "display_data"
    },
    {
     "data": {
      "application/vnd.jupyter.widget-view+json": {
       "model_id": "3bc9ab303818454f91547575b581b344",
       "version_major": 2,
       "version_minor": 0
      },
      "text/plain": [
       "Validation: |          | 0/? [00:00<?, ?it/s]"
      ]
     },
     "metadata": {},
     "output_type": "display_data"
    },
    {
     "data": {
      "application/vnd.jupyter.widget-view+json": {
       "model_id": "3f060beac40f453c98223cdbca1dc93f",
       "version_major": 2,
       "version_minor": 0
      },
      "text/plain": [
       "Validation: |          | 0/? [00:00<?, ?it/s]"
      ]
     },
     "metadata": {},
     "output_type": "display_data"
    },
    {
     "data": {
      "application/vnd.jupyter.widget-view+json": {
       "model_id": "72dceba8206e4ac7b1b16bd532d40b28",
       "version_major": 2,
       "version_minor": 0
      },
      "text/plain": [
       "Validation: |          | 0/? [00:00<?, ?it/s]"
      ]
     },
     "metadata": {},
     "output_type": "display_data"
    },
    {
     "data": {
      "application/vnd.jupyter.widget-view+json": {
       "model_id": "c060d05c79d44dabb2d59795235bb522",
       "version_major": 2,
       "version_minor": 0
      },
      "text/plain": [
       "Validation: |          | 0/? [00:00<?, ?it/s]"
      ]
     },
     "metadata": {},
     "output_type": "display_data"
    },
    {
     "data": {
      "application/vnd.jupyter.widget-view+json": {
       "model_id": "f194f0a6fb1a442cb29a3ab7b7b6b994",
       "version_major": 2,
       "version_minor": 0
      },
      "text/plain": [
       "Validation: |          | 0/? [00:00<?, ?it/s]"
      ]
     },
     "metadata": {},
     "output_type": "display_data"
    },
    {
     "data": {
      "application/vnd.jupyter.widget-view+json": {
       "model_id": "aa3cee9e6ecc4a07adb302b647e56279",
       "version_major": 2,
       "version_minor": 0
      },
      "text/plain": [
       "Validation: |          | 0/? [00:00<?, ?it/s]"
      ]
     },
     "metadata": {},
     "output_type": "display_data"
    },
    {
     "data": {
      "application/vnd.jupyter.widget-view+json": {
       "model_id": "88575cc4583e4ff69b90a296513f050a",
       "version_major": 2,
       "version_minor": 0
      },
      "text/plain": [
       "Validation: |          | 0/? [00:00<?, ?it/s]"
      ]
     },
     "metadata": {},
     "output_type": "display_data"
    },
    {
     "data": {
      "application/vnd.jupyter.widget-view+json": {
       "model_id": "d8a62ff62b834d30abda7247b04a4849",
       "version_major": 2,
       "version_minor": 0
      },
      "text/plain": [
       "Validation: |          | 0/? [00:00<?, ?it/s]"
      ]
     },
     "metadata": {},
     "output_type": "display_data"
    },
    {
     "data": {
      "application/vnd.jupyter.widget-view+json": {
       "model_id": "a9338433341b4784b7565d62e55c0940",
       "version_major": 2,
       "version_minor": 0
      },
      "text/plain": [
       "Validation: |          | 0/? [00:00<?, ?it/s]"
      ]
     },
     "metadata": {},
     "output_type": "display_data"
    },
    {
     "data": {
      "application/vnd.jupyter.widget-view+json": {
       "model_id": "416290bc07d94d2c80047806dc3be45e",
       "version_major": 2,
       "version_minor": 0
      },
      "text/plain": [
       "Validation: |          | 0/? [00:00<?, ?it/s]"
      ]
     },
     "metadata": {},
     "output_type": "display_data"
    },
    {
     "data": {
      "application/vnd.jupyter.widget-view+json": {
       "model_id": "959c1ce5e8f9401fbbd84c21693108a2",
       "version_major": 2,
       "version_minor": 0
      },
      "text/plain": [
       "Validation: |          | 0/? [00:00<?, ?it/s]"
      ]
     },
     "metadata": {},
     "output_type": "display_data"
    },
    {
     "data": {
      "application/vnd.jupyter.widget-view+json": {
       "model_id": "784a01cc75c249aa82ac1e83ac6443f4",
       "version_major": 2,
       "version_minor": 0
      },
      "text/plain": [
       "Validation: |          | 0/? [00:00<?, ?it/s]"
      ]
     },
     "metadata": {},
     "output_type": "display_data"
    },
    {
     "data": {
      "application/vnd.jupyter.widget-view+json": {
       "model_id": "e7d746a96641433ab0eb05da817ef0bc",
       "version_major": 2,
       "version_minor": 0
      },
      "text/plain": [
       "Validation: |          | 0/? [00:00<?, ?it/s]"
      ]
     },
     "metadata": {},
     "output_type": "display_data"
    },
    {
     "name": "stderr",
     "output_type": "stream",
     "text": [
      "Swapping scheduler `CosineAnnealingLR` for `SWALR`\n"
     ]
    },
    {
     "data": {
      "application/vnd.jupyter.widget-view+json": {
       "model_id": "ca3c1a22a2424b79baae3c1fc30fce7a",
       "version_major": 2,
       "version_minor": 0
      },
      "text/plain": [
       "Validation: |          | 0/? [00:00<?, ?it/s]"
      ]
     },
     "metadata": {},
     "output_type": "display_data"
    },
    {
     "data": {
      "application/vnd.jupyter.widget-view+json": {
       "model_id": "4235dc359d0c4f47a7057a4562a8fbb1",
       "version_major": 2,
       "version_minor": 0
      },
      "text/plain": [
       "Validation: |          | 0/? [00:00<?, ?it/s]"
      ]
     },
     "metadata": {},
     "output_type": "display_data"
    },
    {
     "data": {
      "application/vnd.jupyter.widget-view+json": {
       "model_id": "b47bd6fa2ed4467fb33668ee2e597263",
       "version_major": 2,
       "version_minor": 0
      },
      "text/plain": [
       "Validation: |          | 0/? [00:00<?, ?it/s]"
      ]
     },
     "metadata": {},
     "output_type": "display_data"
    },
    {
     "data": {
      "application/vnd.jupyter.widget-view+json": {
       "model_id": "b3a3e944737944c7a4a5a7866f043c39",
       "version_major": 2,
       "version_minor": 0
      },
      "text/plain": [
       "Validation: |          | 0/? [00:00<?, ?it/s]"
      ]
     },
     "metadata": {},
     "output_type": "display_data"
    },
    {
     "data": {
      "application/vnd.jupyter.widget-view+json": {
       "model_id": "0e810c00bd604fec92bf0ecb7a08dea8",
       "version_major": 2,
       "version_minor": 0
      },
      "text/plain": [
       "Validation: |          | 0/? [00:00<?, ?it/s]"
      ]
     },
     "metadata": {},
     "output_type": "display_data"
    },
    {
     "data": {
      "application/vnd.jupyter.widget-view+json": {
       "model_id": "372f0a2534de47f2aa5bc50da2118126",
       "version_major": 2,
       "version_minor": 0
      },
      "text/plain": [
       "Validation: |          | 0/? [00:00<?, ?it/s]"
      ]
     },
     "metadata": {},
     "output_type": "display_data"
    },
    {
     "data": {
      "application/vnd.jupyter.widget-view+json": {
       "model_id": "4de05b697b364a6095ed3d8fbfd044c8",
       "version_major": 2,
       "version_minor": 0
      },
      "text/plain": [
       "Validation: |          | 0/? [00:00<?, ?it/s]"
      ]
     },
     "metadata": {},
     "output_type": "display_data"
    },
    {
     "data": {
      "application/vnd.jupyter.widget-view+json": {
       "model_id": "1ccb3780013c40d0b3d0019b06d67f8c",
       "version_major": 2,
       "version_minor": 0
      },
      "text/plain": [
       "Validation: |          | 0/? [00:00<?, ?it/s]"
      ]
     },
     "metadata": {},
     "output_type": "display_data"
    },
    {
     "data": {
      "application/vnd.jupyter.widget-view+json": {
       "model_id": "5c747803113b4c31a1f1cf28e54aa7e1",
       "version_major": 2,
       "version_minor": 0
      },
      "text/plain": [
       "Validation: |          | 0/? [00:00<?, ?it/s]"
      ]
     },
     "metadata": {},
     "output_type": "display_data"
    },
    {
     "data": {
      "application/vnd.jupyter.widget-view+json": {
       "model_id": "baa9a670065d4539992b7a25e1b46a91",
       "version_major": 2,
       "version_minor": 0
      },
      "text/plain": [
       "Validation: |          | 0/? [00:00<?, ?it/s]"
      ]
     },
     "metadata": {},
     "output_type": "display_data"
    },
    {
     "data": {
      "application/vnd.jupyter.widget-view+json": {
       "model_id": "ea1ba15c5ce94eefa117143216c57865",
       "version_major": 2,
       "version_minor": 0
      },
      "text/plain": [
       "Validation: |          | 0/? [00:00<?, ?it/s]"
      ]
     },
     "metadata": {},
     "output_type": "display_data"
    },
    {
     "data": {
      "application/vnd.jupyter.widget-view+json": {
       "model_id": "b82987f6420b4b9aa5ded7a586587203",
       "version_major": 2,
       "version_minor": 0
      },
      "text/plain": [
       "Validation: |          | 0/? [00:00<?, ?it/s]"
      ]
     },
     "metadata": {},
     "output_type": "display_data"
    },
    {
     "data": {
      "application/vnd.jupyter.widget-view+json": {
       "model_id": "f255295ec90f48faa3c3d72506ecfc06",
       "version_major": 2,
       "version_minor": 0
      },
      "text/plain": [
       "Validation: |          | 0/? [00:00<?, ?it/s]"
      ]
     },
     "metadata": {},
     "output_type": "display_data"
    },
    {
     "data": {
      "application/vnd.jupyter.widget-view+json": {
       "model_id": "b56c98fe688b40e5bc879e9d29937889",
       "version_major": 2,
       "version_minor": 0
      },
      "text/plain": [
       "Validation: |          | 0/? [00:00<?, ?it/s]"
      ]
     },
     "metadata": {},
     "output_type": "display_data"
    },
    {
     "data": {
      "application/vnd.jupyter.widget-view+json": {
       "model_id": "35b03621700247f081305550470985d7",
       "version_major": 2,
       "version_minor": 0
      },
      "text/plain": [
       "Validation: |          | 0/? [00:00<?, ?it/s]"
      ]
     },
     "metadata": {},
     "output_type": "display_data"
    },
    {
     "data": {
      "application/vnd.jupyter.widget-view+json": {
       "model_id": "e2dcb51eea2d4707b40e15c830e52899",
       "version_major": 2,
       "version_minor": 0
      },
      "text/plain": [
       "Validation: |          | 0/? [00:00<?, ?it/s]"
      ]
     },
     "metadata": {},
     "output_type": "display_data"
    },
    {
     "data": {
      "application/vnd.jupyter.widget-view+json": {
       "model_id": "e2e380fccc5f43a9a79ae9005dc638c5",
       "version_major": 2,
       "version_minor": 0
      },
      "text/plain": [
       "Validation: |          | 0/? [00:00<?, ?it/s]"
      ]
     },
     "metadata": {},
     "output_type": "display_data"
    },
    {
     "name": "stderr",
     "output_type": "stream",
     "text": [
      "`Trainer.fit` stopped: `max_epochs=61` reached.\n"
     ]
    },
    {
     "name": "stdout",
     "output_type": "stream",
     "text": [
      "Loading best model from: c:\\Users\\eikik\\python\\kaggle\\CIBMTR\\lightning_logs\\version_30\\checkpoints\\best-checkpoint.ckpt\n"
     ]
    },
    {
     "data": {
      "application/vnd.jupyter.widget-view+json": {
       "model_id": "0a21a7f6f2704fdeb190fb5190653606",
       "version_major": 2,
       "version_minor": 0
      },
      "text/plain": [
       "Testing: |          | 0/? [00:00<?, ?it/s]"
      ]
     },
     "metadata": {},
     "output_type": "display_data"
    },
    {
     "data": {
      "text/html": [
       "<pre style=\"white-space:pre;overflow-x:auto;line-height:normal;font-family:Menlo,'DejaVu Sans Mono',consolas,'Courier New',monospace\">┏━━━━━━━━━━━━━━━━━━━━━━━━━━━┳━━━━━━━━━━━━━━━━━━━━━━━━━━━┓\n",
       "┃<span style=\"font-weight: bold\">        Test metric        </span>┃<span style=\"font-weight: bold\">       DataLoader 0        </span>┃\n",
       "┡━━━━━━━━━━━━━━━━━━━━━━━━━━━╇━━━━━━━━━━━━━━━━━━━━━━━━━━━┩\n",
       "│<span style=\"color: #008080; text-decoration-color: #008080\">        test_cindex        </span>│<span style=\"color: #800080; text-decoration-color: #800080\">    0.6842361688613892     </span>│\n",
       "│<span style=\"color: #008080; text-decoration-color: #008080\">    test_cindex_simple     </span>│<span style=\"color: #800080; text-decoration-color: #800080\">    0.6926054954528809     </span>│\n",
       "│<span style=\"color: #008080; text-decoration-color: #008080\">         test_loss         </span>│<span style=\"color: #800080; text-decoration-color: #800080\">    0.18174432024319173    </span>│\n",
       "└───────────────────────────┴───────────────────────────┘\n",
       "</pre>\n"
      ],
      "text/plain": [
       "┏━━━━━━━━━━━━━━━━━━━━━━━━━━━┳━━━━━━━━━━━━━━━━━━━━━━━━━━━┓\n",
       "┃\u001b[1m \u001b[0m\u001b[1m       Test metric       \u001b[0m\u001b[1m \u001b[0m┃\u001b[1m \u001b[0m\u001b[1m      DataLoader 0       \u001b[0m\u001b[1m \u001b[0m┃\n",
       "┡━━━━━━━━━━━━━━━━━━━━━━━━━━━╇━━━━━━━━━━━━━━━━━━━━━━━━━━━┩\n",
       "│\u001b[36m \u001b[0m\u001b[36m       test_cindex       \u001b[0m\u001b[36m \u001b[0m│\u001b[35m \u001b[0m\u001b[35m   0.6842361688613892    \u001b[0m\u001b[35m \u001b[0m│\n",
       "│\u001b[36m \u001b[0m\u001b[36m   test_cindex_simple    \u001b[0m\u001b[36m \u001b[0m│\u001b[35m \u001b[0m\u001b[35m   0.6926054954528809    \u001b[0m\u001b[35m \u001b[0m│\n",
       "│\u001b[36m \u001b[0m\u001b[36m        test_loss        \u001b[0m\u001b[36m \u001b[0m│\u001b[35m \u001b[0m\u001b[35m   0.18174432024319173   \u001b[0m\u001b[35m \u001b[0m│\n",
       "└───────────────────────────┴───────────────────────────┘\n"
      ]
     },
     "metadata": {},
     "output_type": "display_data"
    },
    {
     "name": "stdout",
     "output_type": "stream",
     "text": [
      "There are 69 FEATURES: ['dri_score', 'psych_disturb', 'cyto_score', 'diabetes', 'hla_match_c_high', 'hla_high_res_8', 'tbi_status', 'arrhythmia', 'hla_low_res_6', 'graft_type', 'vent_hist', 'renal_issue', 'pulm_severe', 'prim_disease_hct', 'hla_high_res_6', 'cmv_status', 'hla_high_res_10', 'hla_match_dqb1_high', 'tce_imm_match', 'hla_nmdp_6', 'hla_match_c_low', 'rituximab', 'hla_match_drb1_low', 'hla_match_dqb1_low', 'prod_type', 'cyto_score_detail', 'conditioning_intensity', 'ethnicity', 'year_hct', 'obesity', 'mrd_hct', 'in_vivo_tcd', 'tce_match', 'hla_match_a_high', 'hepatic_severe', 'donor_age', 'prior_tumor', 'hla_match_b_low', 'peptic_ulcer', 'age_at_hct', 'hla_match_a_low', 'gvhd_proph', 'rheum_issue', 'sex_match', 'hla_match_b_high', 'race_group', 'comorbidity_score', 'karnofsky_score', 'hepatic_mild', 'tce_div_match', 'donor_related', 'melphalan_dose', 'hla_low_res_8', 'cardiac', 'hla_match_drb1_high', 'pulm_moderate', 'hla_low_res_10', 'sex_match_bool', 'is_cyto_score_same', 'age_bin', 'age_ts', 'age_comorbidity', 'age_karnofsky', 'karnofsky_squared', 'cos_year', 'diff_age_vs_donor', 'sex_one', 'sex_two', 'same_sex']\n",
      "There are 69 FEATURES: ['dri_score', 'psych_disturb', 'cyto_score', 'diabetes', 'hla_match_c_high', 'hla_high_res_8', 'tbi_status', 'arrhythmia', 'hla_low_res_6', 'graft_type', 'vent_hist', 'renal_issue', 'pulm_severe', 'prim_disease_hct', 'hla_high_res_6', 'cmv_status', 'hla_high_res_10', 'hla_match_dqb1_high', 'tce_imm_match', 'hla_nmdp_6', 'hla_match_c_low', 'rituximab', 'hla_match_drb1_low', 'hla_match_dqb1_low', 'prod_type', 'cyto_score_detail', 'conditioning_intensity', 'ethnicity', 'year_hct', 'obesity', 'mrd_hct', 'in_vivo_tcd', 'tce_match', 'hla_match_a_high', 'hepatic_severe', 'donor_age', 'prior_tumor', 'hla_match_b_low', 'peptic_ulcer', 'age_at_hct', 'hla_match_a_low', 'gvhd_proph', 'rheum_issue', 'sex_match', 'hla_match_b_high', 'race_group', 'comorbidity_score', 'karnofsky_score', 'hepatic_mild', 'tce_div_match', 'donor_related', 'melphalan_dose', 'hla_low_res_8', 'cardiac', 'hla_match_drb1_high', 'pulm_moderate', 'hla_low_res_10', 'sex_match_bool', 'is_cyto_score_same', 'age_bin', 'age_ts', 'age_comorbidity', 'age_karnofsky', 'karnofsky_squared', 'cos_year', 'diff_age_vs_donor', 'sex_one', 'sex_two', 'same_sex']\n"
     ]
    },
    {
     "name": "stderr",
     "output_type": "stream",
     "text": [
      "GPU available: False, used: False\n",
      "TPU available: False, using: 0 TPU cores\n",
      "HPU available: False, using: 0 HPUs\n",
      "\n",
      "  | Name    | Type       | Params | Mode \n",
      "-----------------------------------------------\n",
      "0 | model   | NN         | 173 K  | train\n",
      "1 | aux_cls | Sequential | 1.0 K  | train\n",
      "-----------------------------------------------\n",
      "173 K     Trainable params\n",
      "769       Non-trainable params\n",
      "174 K     Total params\n",
      "0.699     Total estimated model params size (MB)\n",
      "77        Modules in train mode\n",
      "0         Modules in eval mode\n"
     ]
    },
    {
     "name": "stdout",
     "output_type": "stream",
     "text": [
      "There are 69 FEATURES: ['dri_score', 'psych_disturb', 'cyto_score', 'diabetes', 'hla_match_c_high', 'hla_high_res_8', 'tbi_status', 'arrhythmia', 'hla_low_res_6', 'graft_type', 'vent_hist', 'renal_issue', 'pulm_severe', 'prim_disease_hct', 'hla_high_res_6', 'cmv_status', 'hla_high_res_10', 'hla_match_dqb1_high', 'tce_imm_match', 'hla_nmdp_6', 'hla_match_c_low', 'rituximab', 'hla_match_drb1_low', 'hla_match_dqb1_low', 'prod_type', 'cyto_score_detail', 'conditioning_intensity', 'ethnicity', 'year_hct', 'obesity', 'mrd_hct', 'in_vivo_tcd', 'tce_match', 'hla_match_a_high', 'hepatic_severe', 'donor_age', 'prior_tumor', 'hla_match_b_low', 'peptic_ulcer', 'age_at_hct', 'hla_match_a_low', 'gvhd_proph', 'rheum_issue', 'sex_match', 'hla_match_b_high', 'race_group', 'comorbidity_score', 'karnofsky_score', 'hepatic_mild', 'tce_div_match', 'donor_related', 'melphalan_dose', 'hla_low_res_8', 'cardiac', 'hla_match_drb1_high', 'pulm_moderate', 'hla_low_res_10', 'sex_match_bool', 'is_cyto_score_same', 'age_bin', 'age_ts', 'age_comorbidity', 'age_karnofsky', 'karnofsky_squared', 'cos_year', 'diff_age_vs_donor', 'sex_one', 'sex_two', 'same_sex']\n"
     ]
    },
    {
     "data": {
      "application/vnd.jupyter.widget-view+json": {
       "model_id": "c19a29aa564d405facbd2ba1f3f4424f",
       "version_major": 2,
       "version_minor": 0
      },
      "text/plain": [
       "Sanity Checking: |          | 0/? [00:00<?, ?it/s]"
      ]
     },
     "metadata": {},
     "output_type": "display_data"
    },
    {
     "data": {
      "application/vnd.jupyter.widget-view+json": {
       "model_id": "c26b65f93a86499cadbcc5a5d76d09ae",
       "version_major": 2,
       "version_minor": 0
      },
      "text/plain": [
       "Training: |          | 0/? [00:00<?, ?it/s]"
      ]
     },
     "metadata": {},
     "output_type": "display_data"
    },
    {
     "data": {
      "application/vnd.jupyter.widget-view+json": {
       "model_id": "6317de4336fa49d5ad9be76253a16d3e",
       "version_major": 2,
       "version_minor": 0
      },
      "text/plain": [
       "Validation: |          | 0/? [00:00<?, ?it/s]"
      ]
     },
     "metadata": {},
     "output_type": "display_data"
    },
    {
     "data": {
      "application/vnd.jupyter.widget-view+json": {
       "model_id": "ba7e8ffa91014cc59222db489ada6535",
       "version_major": 2,
       "version_minor": 0
      },
      "text/plain": [
       "Validation: |          | 0/? [00:00<?, ?it/s]"
      ]
     },
     "metadata": {},
     "output_type": "display_data"
    },
    {
     "data": {
      "application/vnd.jupyter.widget-view+json": {
       "model_id": "36ab28a973c946feaa84a3a365e3c020",
       "version_major": 2,
       "version_minor": 0
      },
      "text/plain": [
       "Validation: |          | 0/? [00:00<?, ?it/s]"
      ]
     },
     "metadata": {},
     "output_type": "display_data"
    },
    {
     "data": {
      "application/vnd.jupyter.widget-view+json": {
       "model_id": "9fd10277ce934b62b18ad2cc0cd9a52b",
       "version_major": 2,
       "version_minor": 0
      },
      "text/plain": [
       "Validation: |          | 0/? [00:00<?, ?it/s]"
      ]
     },
     "metadata": {},
     "output_type": "display_data"
    },
    {
     "data": {
      "application/vnd.jupyter.widget-view+json": {
       "model_id": "c06162e8f87b45458d3beca8cc0f56e7",
       "version_major": 2,
       "version_minor": 0
      },
      "text/plain": [
       "Validation: |          | 0/? [00:00<?, ?it/s]"
      ]
     },
     "metadata": {},
     "output_type": "display_data"
    },
    {
     "data": {
      "application/vnd.jupyter.widget-view+json": {
       "model_id": "f2ce25431a11451fa49a6664573b9efe",
       "version_major": 2,
       "version_minor": 0
      },
      "text/plain": [
       "Validation: |          | 0/? [00:00<?, ?it/s]"
      ]
     },
     "metadata": {},
     "output_type": "display_data"
    },
    {
     "data": {
      "application/vnd.jupyter.widget-view+json": {
       "model_id": "1579958e62304534870e934d43856742",
       "version_major": 2,
       "version_minor": 0
      },
      "text/plain": [
       "Validation: |          | 0/? [00:00<?, ?it/s]"
      ]
     },
     "metadata": {},
     "output_type": "display_data"
    },
    {
     "data": {
      "application/vnd.jupyter.widget-view+json": {
       "model_id": "9e439fc77a0a46dcaf17784effb7926a",
       "version_major": 2,
       "version_minor": 0
      },
      "text/plain": [
       "Validation: |          | 0/? [00:00<?, ?it/s]"
      ]
     },
     "metadata": {},
     "output_type": "display_data"
    },
    {
     "data": {
      "application/vnd.jupyter.widget-view+json": {
       "model_id": "540c0745b3b04c13a59569114a4d9e75",
       "version_major": 2,
       "version_minor": 0
      },
      "text/plain": [
       "Validation: |          | 0/? [00:00<?, ?it/s]"
      ]
     },
     "metadata": {},
     "output_type": "display_data"
    },
    {
     "data": {
      "application/vnd.jupyter.widget-view+json": {
       "model_id": "efd850eb5e5b4b9db4aa9bafa4a7af18",
       "version_major": 2,
       "version_minor": 0
      },
      "text/plain": [
       "Validation: |          | 0/? [00:00<?, ?it/s]"
      ]
     },
     "metadata": {},
     "output_type": "display_data"
    },
    {
     "data": {
      "application/vnd.jupyter.widget-view+json": {
       "model_id": "c0b15099e9d64150a3d60a7b47da9498",
       "version_major": 2,
       "version_minor": 0
      },
      "text/plain": [
       "Validation: |          | 0/? [00:00<?, ?it/s]"
      ]
     },
     "metadata": {},
     "output_type": "display_data"
    },
    {
     "data": {
      "application/vnd.jupyter.widget-view+json": {
       "model_id": "402985f2b26546eeb83257f756434e6a",
       "version_major": 2,
       "version_minor": 0
      },
      "text/plain": [
       "Validation: |          | 0/? [00:00<?, ?it/s]"
      ]
     },
     "metadata": {},
     "output_type": "display_data"
    },
    {
     "data": {
      "application/vnd.jupyter.widget-view+json": {
       "model_id": "b82d9869c3d5441d8187ed2346390a91",
       "version_major": 2,
       "version_minor": 0
      },
      "text/plain": [
       "Validation: |          | 0/? [00:00<?, ?it/s]"
      ]
     },
     "metadata": {},
     "output_type": "display_data"
    },
    {
     "data": {
      "application/vnd.jupyter.widget-view+json": {
       "model_id": "159d570745ae47739495d67c51ede798",
       "version_major": 2,
       "version_minor": 0
      },
      "text/plain": [
       "Validation: |          | 0/? [00:00<?, ?it/s]"
      ]
     },
     "metadata": {},
     "output_type": "display_data"
    },
    {
     "data": {
      "application/vnd.jupyter.widget-view+json": {
       "model_id": "db258693f33c4e48b8064fb8228802a7",
       "version_major": 2,
       "version_minor": 0
      },
      "text/plain": [
       "Validation: |          | 0/? [00:00<?, ?it/s]"
      ]
     },
     "metadata": {},
     "output_type": "display_data"
    },
    {
     "data": {
      "application/vnd.jupyter.widget-view+json": {
       "model_id": "7a564fb7d3e8422ab0b14b0973e81f29",
       "version_major": 2,
       "version_minor": 0
      },
      "text/plain": [
       "Validation: |          | 0/? [00:00<?, ?it/s]"
      ]
     },
     "metadata": {},
     "output_type": "display_data"
    },
    {
     "data": {
      "application/vnd.jupyter.widget-view+json": {
       "model_id": "27243a964bcb48718fa464a43a15cb14",
       "version_major": 2,
       "version_minor": 0
      },
      "text/plain": [
       "Validation: |          | 0/? [00:00<?, ?it/s]"
      ]
     },
     "metadata": {},
     "output_type": "display_data"
    },
    {
     "data": {
      "application/vnd.jupyter.widget-view+json": {
       "model_id": "0611851d642d4d00a399e9be28a78376",
       "version_major": 2,
       "version_minor": 0
      },
      "text/plain": [
       "Validation: |          | 0/? [00:00<?, ?it/s]"
      ]
     },
     "metadata": {},
     "output_type": "display_data"
    },
    {
     "data": {
      "application/vnd.jupyter.widget-view+json": {
       "model_id": "81f078efccf64752b7b0a197ab94e668",
       "version_major": 2,
       "version_minor": 0
      },
      "text/plain": [
       "Validation: |          | 0/? [00:00<?, ?it/s]"
      ]
     },
     "metadata": {},
     "output_type": "display_data"
    },
    {
     "data": {
      "application/vnd.jupyter.widget-view+json": {
       "model_id": "71505b314e924dbeb852120c94c97afa",
       "version_major": 2,
       "version_minor": 0
      },
      "text/plain": [
       "Validation: |          | 0/? [00:00<?, ?it/s]"
      ]
     },
     "metadata": {},
     "output_type": "display_data"
    },
    {
     "data": {
      "application/vnd.jupyter.widget-view+json": {
       "model_id": "6ff6fc30fdd94cb18dd97ae62546dbfe",
       "version_major": 2,
       "version_minor": 0
      },
      "text/plain": [
       "Validation: |          | 0/? [00:00<?, ?it/s]"
      ]
     },
     "metadata": {},
     "output_type": "display_data"
    },
    {
     "data": {
      "application/vnd.jupyter.widget-view+json": {
       "model_id": "a8054c87bb8f48b3b80bbbbc59c2ca55",
       "version_major": 2,
       "version_minor": 0
      },
      "text/plain": [
       "Validation: |          | 0/? [00:00<?, ?it/s]"
      ]
     },
     "metadata": {},
     "output_type": "display_data"
    },
    {
     "data": {
      "application/vnd.jupyter.widget-view+json": {
       "model_id": "a362efff00624fee91f5d7697f4b31d9",
       "version_major": 2,
       "version_minor": 0
      },
      "text/plain": [
       "Validation: |          | 0/? [00:00<?, ?it/s]"
      ]
     },
     "metadata": {},
     "output_type": "display_data"
    },
    {
     "data": {
      "application/vnd.jupyter.widget-view+json": {
       "model_id": "7527a4dc57c144a49dd8ebda19ff4bc4",
       "version_major": 2,
       "version_minor": 0
      },
      "text/plain": [
       "Validation: |          | 0/? [00:00<?, ?it/s]"
      ]
     },
     "metadata": {},
     "output_type": "display_data"
    },
    {
     "data": {
      "application/vnd.jupyter.widget-view+json": {
       "model_id": "3e078890cdea4c59992138289068ef6e",
       "version_major": 2,
       "version_minor": 0
      },
      "text/plain": [
       "Validation: |          | 0/? [00:00<?, ?it/s]"
      ]
     },
     "metadata": {},
     "output_type": "display_data"
    },
    {
     "data": {
      "application/vnd.jupyter.widget-view+json": {
       "model_id": "477b7bfd17cf4196af846615ecd94fe4",
       "version_major": 2,
       "version_minor": 0
      },
      "text/plain": [
       "Validation: |          | 0/? [00:00<?, ?it/s]"
      ]
     },
     "metadata": {},
     "output_type": "display_data"
    },
    {
     "data": {
      "application/vnd.jupyter.widget-view+json": {
       "model_id": "5c062d2a582f4e938ffb45fce1d7b28c",
       "version_major": 2,
       "version_minor": 0
      },
      "text/plain": [
       "Validation: |          | 0/? [00:00<?, ?it/s]"
      ]
     },
     "metadata": {},
     "output_type": "display_data"
    },
    {
     "data": {
      "application/vnd.jupyter.widget-view+json": {
       "model_id": "da8942c2497b49a6ae1012be9c0e8cd9",
       "version_major": 2,
       "version_minor": 0
      },
      "text/plain": [
       "Validation: |          | 0/? [00:00<?, ?it/s]"
      ]
     },
     "metadata": {},
     "output_type": "display_data"
    },
    {
     "data": {
      "application/vnd.jupyter.widget-view+json": {
       "model_id": "37da53d9100447f08278848892e72527",
       "version_major": 2,
       "version_minor": 0
      },
      "text/plain": [
       "Validation: |          | 0/? [00:00<?, ?it/s]"
      ]
     },
     "metadata": {},
     "output_type": "display_data"
    },
    {
     "data": {
      "application/vnd.jupyter.widget-view+json": {
       "model_id": "2cf0829c31494a729ac8ad05859cc217",
       "version_major": 2,
       "version_minor": 0
      },
      "text/plain": [
       "Validation: |          | 0/? [00:00<?, ?it/s]"
      ]
     },
     "metadata": {},
     "output_type": "display_data"
    },
    {
     "data": {
      "application/vnd.jupyter.widget-view+json": {
       "model_id": "a272f33ed0b7406391184740c6aacf00",
       "version_major": 2,
       "version_minor": 0
      },
      "text/plain": [
       "Validation: |          | 0/? [00:00<?, ?it/s]"
      ]
     },
     "metadata": {},
     "output_type": "display_data"
    },
    {
     "data": {
      "application/vnd.jupyter.widget-view+json": {
       "model_id": "8b4d589d941241d5ba6801dd5c7cbcde",
       "version_major": 2,
       "version_minor": 0
      },
      "text/plain": [
       "Validation: |          | 0/? [00:00<?, ?it/s]"
      ]
     },
     "metadata": {},
     "output_type": "display_data"
    },
    {
     "data": {
      "application/vnd.jupyter.widget-view+json": {
       "model_id": "9ada3dd3d4a946bc8cb5d2cd65f44300",
       "version_major": 2,
       "version_minor": 0
      },
      "text/plain": [
       "Validation: |          | 0/? [00:00<?, ?it/s]"
      ]
     },
     "metadata": {},
     "output_type": "display_data"
    },
    {
     "data": {
      "application/vnd.jupyter.widget-view+json": {
       "model_id": "3b585167d22a48c7a5696f99aabbb1ca",
       "version_major": 2,
       "version_minor": 0
      },
      "text/plain": [
       "Validation: |          | 0/? [00:00<?, ?it/s]"
      ]
     },
     "metadata": {},
     "output_type": "display_data"
    },
    {
     "data": {
      "application/vnd.jupyter.widget-view+json": {
       "model_id": "2a60ad0c99f542de91818d81700ac61c",
       "version_major": 2,
       "version_minor": 0
      },
      "text/plain": [
       "Validation: |          | 0/? [00:00<?, ?it/s]"
      ]
     },
     "metadata": {},
     "output_type": "display_data"
    },
    {
     "data": {
      "application/vnd.jupyter.widget-view+json": {
       "model_id": "9a649cf7b69e4d9289593f3815aafabd",
       "version_major": 2,
       "version_minor": 0
      },
      "text/plain": [
       "Validation: |          | 0/? [00:00<?, ?it/s]"
      ]
     },
     "metadata": {},
     "output_type": "display_data"
    },
    {
     "data": {
      "application/vnd.jupyter.widget-view+json": {
       "model_id": "e32122c0d2e74cb4843b6a2bff73479a",
       "version_major": 2,
       "version_minor": 0
      },
      "text/plain": [
       "Validation: |          | 0/? [00:00<?, ?it/s]"
      ]
     },
     "metadata": {},
     "output_type": "display_data"
    },
    {
     "data": {
      "application/vnd.jupyter.widget-view+json": {
       "model_id": "ce1eaf2797eb49bebc0a7be56a009070",
       "version_major": 2,
       "version_minor": 0
      },
      "text/plain": [
       "Validation: |          | 0/? [00:00<?, ?it/s]"
      ]
     },
     "metadata": {},
     "output_type": "display_data"
    },
    {
     "data": {
      "application/vnd.jupyter.widget-view+json": {
       "model_id": "bf9350f01d584b26bca827e7580d7b82",
       "version_major": 2,
       "version_minor": 0
      },
      "text/plain": [
       "Validation: |          | 0/? [00:00<?, ?it/s]"
      ]
     },
     "metadata": {},
     "output_type": "display_data"
    },
    {
     "data": {
      "application/vnd.jupyter.widget-view+json": {
       "model_id": "033555c482424abeb21f7e23d0b10e0a",
       "version_major": 2,
       "version_minor": 0
      },
      "text/plain": [
       "Validation: |          | 0/? [00:00<?, ?it/s]"
      ]
     },
     "metadata": {},
     "output_type": "display_data"
    },
    {
     "data": {
      "application/vnd.jupyter.widget-view+json": {
       "model_id": "156332114b334b0ca17212ec3735bda0",
       "version_major": 2,
       "version_minor": 0
      },
      "text/plain": [
       "Validation: |          | 0/? [00:00<?, ?it/s]"
      ]
     },
     "metadata": {},
     "output_type": "display_data"
    },
    {
     "data": {
      "application/vnd.jupyter.widget-view+json": {
       "model_id": "a318439b50fd4be683ca314f8dc75e25",
       "version_major": 2,
       "version_minor": 0
      },
      "text/plain": [
       "Validation: |          | 0/? [00:00<?, ?it/s]"
      ]
     },
     "metadata": {},
     "output_type": "display_data"
    },
    {
     "data": {
      "application/vnd.jupyter.widget-view+json": {
       "model_id": "69460b53c4e34722b1e132f3377bd5f3",
       "version_major": 2,
       "version_minor": 0
      },
      "text/plain": [
       "Validation: |          | 0/? [00:00<?, ?it/s]"
      ]
     },
     "metadata": {},
     "output_type": "display_data"
    },
    {
     "data": {
      "application/vnd.jupyter.widget-view+json": {
       "model_id": "62cc4d1024cc4b248870dcbc825c1169",
       "version_major": 2,
       "version_minor": 0
      },
      "text/plain": [
       "Validation: |          | 0/? [00:00<?, ?it/s]"
      ]
     },
     "metadata": {},
     "output_type": "display_data"
    },
    {
     "name": "stderr",
     "output_type": "stream",
     "text": [
      "Swapping scheduler `CosineAnnealingLR` for `SWALR`\n"
     ]
    },
    {
     "data": {
      "application/vnd.jupyter.widget-view+json": {
       "model_id": "72a0cbcb3cfa492db6ea7d3cd8271b94",
       "version_major": 2,
       "version_minor": 0
      },
      "text/plain": [
       "Validation: |          | 0/? [00:00<?, ?it/s]"
      ]
     },
     "metadata": {},
     "output_type": "display_data"
    },
    {
     "data": {
      "application/vnd.jupyter.widget-view+json": {
       "model_id": "04e3e802e47e49e682bd071557c0e296",
       "version_major": 2,
       "version_minor": 0
      },
      "text/plain": [
       "Validation: |          | 0/? [00:00<?, ?it/s]"
      ]
     },
     "metadata": {},
     "output_type": "display_data"
    },
    {
     "data": {
      "application/vnd.jupyter.widget-view+json": {
       "model_id": "be8d8cf6625c4694a457409f104efdfd",
       "version_major": 2,
       "version_minor": 0
      },
      "text/plain": [
       "Validation: |          | 0/? [00:00<?, ?it/s]"
      ]
     },
     "metadata": {},
     "output_type": "display_data"
    },
    {
     "data": {
      "application/vnd.jupyter.widget-view+json": {
       "model_id": "a76c13fc4f7b4557ba3e168eff3f202e",
       "version_major": 2,
       "version_minor": 0
      },
      "text/plain": [
       "Validation: |          | 0/? [00:00<?, ?it/s]"
      ]
     },
     "metadata": {},
     "output_type": "display_data"
    },
    {
     "data": {
      "application/vnd.jupyter.widget-view+json": {
       "model_id": "a4f953543c6e4287b18ad83ec619dd66",
       "version_major": 2,
       "version_minor": 0
      },
      "text/plain": [
       "Validation: |          | 0/? [00:00<?, ?it/s]"
      ]
     },
     "metadata": {},
     "output_type": "display_data"
    },
    {
     "data": {
      "application/vnd.jupyter.widget-view+json": {
       "model_id": "f0ccc87416d4438d8a81a137f96543af",
       "version_major": 2,
       "version_minor": 0
      },
      "text/plain": [
       "Validation: |          | 0/? [00:00<?, ?it/s]"
      ]
     },
     "metadata": {},
     "output_type": "display_data"
    },
    {
     "data": {
      "application/vnd.jupyter.widget-view+json": {
       "model_id": "c76275315fe04b9a8df70aa974ba7ada",
       "version_major": 2,
       "version_minor": 0
      },
      "text/plain": [
       "Validation: |          | 0/? [00:00<?, ?it/s]"
      ]
     },
     "metadata": {},
     "output_type": "display_data"
    },
    {
     "data": {
      "application/vnd.jupyter.widget-view+json": {
       "model_id": "bdaff559eef24aefbb7f5a91ce19e7b2",
       "version_major": 2,
       "version_minor": 0
      },
      "text/plain": [
       "Validation: |          | 0/? [00:00<?, ?it/s]"
      ]
     },
     "metadata": {},
     "output_type": "display_data"
    },
    {
     "data": {
      "application/vnd.jupyter.widget-view+json": {
       "model_id": "aa0dbad40726463397606e59e15e22eb",
       "version_major": 2,
       "version_minor": 0
      },
      "text/plain": [
       "Validation: |          | 0/? [00:00<?, ?it/s]"
      ]
     },
     "metadata": {},
     "output_type": "display_data"
    },
    {
     "data": {
      "application/vnd.jupyter.widget-view+json": {
       "model_id": "59554070e96944e89e3f18baf8a9c7e9",
       "version_major": 2,
       "version_minor": 0
      },
      "text/plain": [
       "Validation: |          | 0/? [00:00<?, ?it/s]"
      ]
     },
     "metadata": {},
     "output_type": "display_data"
    },
    {
     "data": {
      "application/vnd.jupyter.widget-view+json": {
       "model_id": "49ceb6d0991c4c93ba1ebd16ef851aaf",
       "version_major": 2,
       "version_minor": 0
      },
      "text/plain": [
       "Validation: |          | 0/? [00:00<?, ?it/s]"
      ]
     },
     "metadata": {},
     "output_type": "display_data"
    },
    {
     "data": {
      "application/vnd.jupyter.widget-view+json": {
       "model_id": "b1acb13390354c629c7bcc149c11085e",
       "version_major": 2,
       "version_minor": 0
      },
      "text/plain": [
       "Validation: |          | 0/? [00:00<?, ?it/s]"
      ]
     },
     "metadata": {},
     "output_type": "display_data"
    },
    {
     "data": {
      "application/vnd.jupyter.widget-view+json": {
       "model_id": "d2a1079bc4544c0093a09d8e5f2a215d",
       "version_major": 2,
       "version_minor": 0
      },
      "text/plain": [
       "Validation: |          | 0/? [00:00<?, ?it/s]"
      ]
     },
     "metadata": {},
     "output_type": "display_data"
    },
    {
     "data": {
      "application/vnd.jupyter.widget-view+json": {
       "model_id": "2602dec45dff44318b493684bc0fd9ba",
       "version_major": 2,
       "version_minor": 0
      },
      "text/plain": [
       "Validation: |          | 0/? [00:00<?, ?it/s]"
      ]
     },
     "metadata": {},
     "output_type": "display_data"
    },
    {
     "data": {
      "application/vnd.jupyter.widget-view+json": {
       "model_id": "ba3a2e0b6e6b49f1a81721cc4ec5ca42",
       "version_major": 2,
       "version_minor": 0
      },
      "text/plain": [
       "Validation: |          | 0/? [00:00<?, ?it/s]"
      ]
     },
     "metadata": {},
     "output_type": "display_data"
    },
    {
     "data": {
      "application/vnd.jupyter.widget-view+json": {
       "model_id": "7b08c829cfb742ad83d11e8940eb617d",
       "version_major": 2,
       "version_minor": 0
      },
      "text/plain": [
       "Validation: |          | 0/? [00:00<?, ?it/s]"
      ]
     },
     "metadata": {},
     "output_type": "display_data"
    },
    {
     "data": {
      "application/vnd.jupyter.widget-view+json": {
       "model_id": "fe8126b429dd46cf83d5a24b58691678",
       "version_major": 2,
       "version_minor": 0
      },
      "text/plain": [
       "Validation: |          | 0/? [00:00<?, ?it/s]"
      ]
     },
     "metadata": {},
     "output_type": "display_data"
    },
    {
     "name": "stderr",
     "output_type": "stream",
     "text": [
      "`Trainer.fit` stopped: `max_epochs=61` reached.\n"
     ]
    },
    {
     "name": "stdout",
     "output_type": "stream",
     "text": [
      "Loading best model from: c:\\Users\\eikik\\python\\kaggle\\CIBMTR\\lightning_logs\\version_31\\checkpoints\\best-checkpoint.ckpt\n"
     ]
    },
    {
     "data": {
      "application/vnd.jupyter.widget-view+json": {
       "model_id": "d551707be2b7469db3da199b2df1849e",
       "version_major": 2,
       "version_minor": 0
      },
      "text/plain": [
       "Testing: |          | 0/? [00:00<?, ?it/s]"
      ]
     },
     "metadata": {},
     "output_type": "display_data"
    },
    {
     "data": {
      "text/html": [
       "<pre style=\"white-space:pre;overflow-x:auto;line-height:normal;font-family:Menlo,'DejaVu Sans Mono',consolas,'Courier New',monospace\">┏━━━━━━━━━━━━━━━━━━━━━━━━━━━┳━━━━━━━━━━━━━━━━━━━━━━━━━━━┓\n",
       "┃<span style=\"font-weight: bold\">        Test metric        </span>┃<span style=\"font-weight: bold\">       DataLoader 0        </span>┃\n",
       "┡━━━━━━━━━━━━━━━━━━━━━━━━━━━╇━━━━━━━━━━━━━━━━━━━━━━━━━━━┩\n",
       "│<span style=\"color: #008080; text-decoration-color: #008080\">        test_cindex        </span>│<span style=\"color: #800080; text-decoration-color: #800080\">    0.6863095760345459     </span>│\n",
       "│<span style=\"color: #008080; text-decoration-color: #008080\">    test_cindex_simple     </span>│<span style=\"color: #800080; text-decoration-color: #800080\">    0.6993235945701599     </span>│\n",
       "│<span style=\"color: #008080; text-decoration-color: #008080\">         test_loss         </span>│<span style=\"color: #800080; text-decoration-color: #800080\">    0.17773979573569812    </span>│\n",
       "└───────────────────────────┴───────────────────────────┘\n",
       "</pre>\n"
      ],
      "text/plain": [
       "┏━━━━━━━━━━━━━━━━━━━━━━━━━━━┳━━━━━━━━━━━━━━━━━━━━━━━━━━━┓\n",
       "┃\u001b[1m \u001b[0m\u001b[1m       Test metric       \u001b[0m\u001b[1m \u001b[0m┃\u001b[1m \u001b[0m\u001b[1m      DataLoader 0       \u001b[0m\u001b[1m \u001b[0m┃\n",
       "┡━━━━━━━━━━━━━━━━━━━━━━━━━━━╇━━━━━━━━━━━━━━━━━━━━━━━━━━━┩\n",
       "│\u001b[36m \u001b[0m\u001b[36m       test_cindex       \u001b[0m\u001b[36m \u001b[0m│\u001b[35m \u001b[0m\u001b[35m   0.6863095760345459    \u001b[0m\u001b[35m \u001b[0m│\n",
       "│\u001b[36m \u001b[0m\u001b[36m   test_cindex_simple    \u001b[0m\u001b[36m \u001b[0m│\u001b[35m \u001b[0m\u001b[35m   0.6993235945701599    \u001b[0m\u001b[35m \u001b[0m│\n",
       "│\u001b[36m \u001b[0m\u001b[36m        test_loss        \u001b[0m\u001b[36m \u001b[0m│\u001b[35m \u001b[0m\u001b[35m   0.17773979573569812   \u001b[0m\u001b[35m \u001b[0m│\n",
       "└───────────────────────────┴───────────────────────────┘\n"
      ]
     },
     "metadata": {},
     "output_type": "display_data"
    },
    {
     "name": "stdout",
     "output_type": "stream",
     "text": [
      "There are 69 FEATURES: ['dri_score', 'psych_disturb', 'cyto_score', 'diabetes', 'hla_match_c_high', 'hla_high_res_8', 'tbi_status', 'arrhythmia', 'hla_low_res_6', 'graft_type', 'vent_hist', 'renal_issue', 'pulm_severe', 'prim_disease_hct', 'hla_high_res_6', 'cmv_status', 'hla_high_res_10', 'hla_match_dqb1_high', 'tce_imm_match', 'hla_nmdp_6', 'hla_match_c_low', 'rituximab', 'hla_match_drb1_low', 'hla_match_dqb1_low', 'prod_type', 'cyto_score_detail', 'conditioning_intensity', 'ethnicity', 'year_hct', 'obesity', 'mrd_hct', 'in_vivo_tcd', 'tce_match', 'hla_match_a_high', 'hepatic_severe', 'donor_age', 'prior_tumor', 'hla_match_b_low', 'peptic_ulcer', 'age_at_hct', 'hla_match_a_low', 'gvhd_proph', 'rheum_issue', 'sex_match', 'hla_match_b_high', 'race_group', 'comorbidity_score', 'karnofsky_score', 'hepatic_mild', 'tce_div_match', 'donor_related', 'melphalan_dose', 'hla_low_res_8', 'cardiac', 'hla_match_drb1_high', 'pulm_moderate', 'hla_low_res_10', 'sex_match_bool', 'is_cyto_score_same', 'age_bin', 'age_ts', 'age_comorbidity', 'age_karnofsky', 'karnofsky_squared', 'cos_year', 'diff_age_vs_donor', 'sex_one', 'sex_two', 'same_sex']\n",
      "There are 69 FEATURES: ['dri_score', 'psych_disturb', 'cyto_score', 'diabetes', 'hla_match_c_high', 'hla_high_res_8', 'tbi_status', 'arrhythmia', 'hla_low_res_6', 'graft_type', 'vent_hist', 'renal_issue', 'pulm_severe', 'prim_disease_hct', 'hla_high_res_6', 'cmv_status', 'hla_high_res_10', 'hla_match_dqb1_high', 'tce_imm_match', 'hla_nmdp_6', 'hla_match_c_low', 'rituximab', 'hla_match_drb1_low', 'hla_match_dqb1_low', 'prod_type', 'cyto_score_detail', 'conditioning_intensity', 'ethnicity', 'year_hct', 'obesity', 'mrd_hct', 'in_vivo_tcd', 'tce_match', 'hla_match_a_high', 'hepatic_severe', 'donor_age', 'prior_tumor', 'hla_match_b_low', 'peptic_ulcer', 'age_at_hct', 'hla_match_a_low', 'gvhd_proph', 'rheum_issue', 'sex_match', 'hla_match_b_high', 'race_group', 'comorbidity_score', 'karnofsky_score', 'hepatic_mild', 'tce_div_match', 'donor_related', 'melphalan_dose', 'hla_low_res_8', 'cardiac', 'hla_match_drb1_high', 'pulm_moderate', 'hla_low_res_10', 'sex_match_bool', 'is_cyto_score_same', 'age_bin', 'age_ts', 'age_comorbidity', 'age_karnofsky', 'karnofsky_squared', 'cos_year', 'diff_age_vs_donor', 'sex_one', 'sex_two', 'same_sex']\n"
     ]
    },
    {
     "name": "stderr",
     "output_type": "stream",
     "text": [
      "GPU available: False, used: False\n",
      "TPU available: False, using: 0 TPU cores\n",
      "HPU available: False, using: 0 HPUs\n",
      "\n",
      "  | Name    | Type       | Params | Mode \n",
      "-----------------------------------------------\n",
      "0 | model   | NN         | 173 K  | train\n",
      "1 | aux_cls | Sequential | 1.0 K  | train\n",
      "-----------------------------------------------\n",
      "173 K     Trainable params\n",
      "769       Non-trainable params\n",
      "174 K     Total params\n",
      "0.699     Total estimated model params size (MB)\n",
      "77        Modules in train mode\n",
      "0         Modules in eval mode\n"
     ]
    },
    {
     "name": "stdout",
     "output_type": "stream",
     "text": [
      "There are 69 FEATURES: ['dri_score', 'psych_disturb', 'cyto_score', 'diabetes', 'hla_match_c_high', 'hla_high_res_8', 'tbi_status', 'arrhythmia', 'hla_low_res_6', 'graft_type', 'vent_hist', 'renal_issue', 'pulm_severe', 'prim_disease_hct', 'hla_high_res_6', 'cmv_status', 'hla_high_res_10', 'hla_match_dqb1_high', 'tce_imm_match', 'hla_nmdp_6', 'hla_match_c_low', 'rituximab', 'hla_match_drb1_low', 'hla_match_dqb1_low', 'prod_type', 'cyto_score_detail', 'conditioning_intensity', 'ethnicity', 'year_hct', 'obesity', 'mrd_hct', 'in_vivo_tcd', 'tce_match', 'hla_match_a_high', 'hepatic_severe', 'donor_age', 'prior_tumor', 'hla_match_b_low', 'peptic_ulcer', 'age_at_hct', 'hla_match_a_low', 'gvhd_proph', 'rheum_issue', 'sex_match', 'hla_match_b_high', 'race_group', 'comorbidity_score', 'karnofsky_score', 'hepatic_mild', 'tce_div_match', 'donor_related', 'melphalan_dose', 'hla_low_res_8', 'cardiac', 'hla_match_drb1_high', 'pulm_moderate', 'hla_low_res_10', 'sex_match_bool', 'is_cyto_score_same', 'age_bin', 'age_ts', 'age_comorbidity', 'age_karnofsky', 'karnofsky_squared', 'cos_year', 'diff_age_vs_donor', 'sex_one', 'sex_two', 'same_sex']\n"
     ]
    },
    {
     "data": {
      "application/vnd.jupyter.widget-view+json": {
       "model_id": "6ed17ba4ca3c4fa5bc3ca191ed2301b9",
       "version_major": 2,
       "version_minor": 0
      },
      "text/plain": [
       "Sanity Checking: |          | 0/? [00:00<?, ?it/s]"
      ]
     },
     "metadata": {},
     "output_type": "display_data"
    },
    {
     "data": {
      "application/vnd.jupyter.widget-view+json": {
       "model_id": "d94253955eaf497fbe3bd59be505efad",
       "version_major": 2,
       "version_minor": 0
      },
      "text/plain": [
       "Training: |          | 0/? [00:00<?, ?it/s]"
      ]
     },
     "metadata": {},
     "output_type": "display_data"
    },
    {
     "data": {
      "application/vnd.jupyter.widget-view+json": {
       "model_id": "bc4fc299962a4228a6bc31c6cb18be30",
       "version_major": 2,
       "version_minor": 0
      },
      "text/plain": [
       "Validation: |          | 0/? [00:00<?, ?it/s]"
      ]
     },
     "metadata": {},
     "output_type": "display_data"
    },
    {
     "data": {
      "application/vnd.jupyter.widget-view+json": {
       "model_id": "e5e2a1951d8d403c8257be2386815a13",
       "version_major": 2,
       "version_minor": 0
      },
      "text/plain": [
       "Validation: |          | 0/? [00:00<?, ?it/s]"
      ]
     },
     "metadata": {},
     "output_type": "display_data"
    },
    {
     "data": {
      "application/vnd.jupyter.widget-view+json": {
       "model_id": "4a77cd641b914f5bb6ae4685b2d65b14",
       "version_major": 2,
       "version_minor": 0
      },
      "text/plain": [
       "Validation: |          | 0/? [00:00<?, ?it/s]"
      ]
     },
     "metadata": {},
     "output_type": "display_data"
    },
    {
     "data": {
      "application/vnd.jupyter.widget-view+json": {
       "model_id": "10cffaed7a6c41df96d03e366ad1e090",
       "version_major": 2,
       "version_minor": 0
      },
      "text/plain": [
       "Validation: |          | 0/? [00:00<?, ?it/s]"
      ]
     },
     "metadata": {},
     "output_type": "display_data"
    },
    {
     "data": {
      "application/vnd.jupyter.widget-view+json": {
       "model_id": "083d62f3a9564eff9fcb350af1c11009",
       "version_major": 2,
       "version_minor": 0
      },
      "text/plain": [
       "Validation: |          | 0/? [00:00<?, ?it/s]"
      ]
     },
     "metadata": {},
     "output_type": "display_data"
    },
    {
     "data": {
      "application/vnd.jupyter.widget-view+json": {
       "model_id": "48d0751796914b47a222478e81c641b2",
       "version_major": 2,
       "version_minor": 0
      },
      "text/plain": [
       "Validation: |          | 0/? [00:00<?, ?it/s]"
      ]
     },
     "metadata": {},
     "output_type": "display_data"
    },
    {
     "data": {
      "application/vnd.jupyter.widget-view+json": {
       "model_id": "15b541ed9e1a41af9fb56071cfb9af0c",
       "version_major": 2,
       "version_minor": 0
      },
      "text/plain": [
       "Validation: |          | 0/? [00:00<?, ?it/s]"
      ]
     },
     "metadata": {},
     "output_type": "display_data"
    },
    {
     "data": {
      "application/vnd.jupyter.widget-view+json": {
       "model_id": "733e3731e1554838850b675895270f71",
       "version_major": 2,
       "version_minor": 0
      },
      "text/plain": [
       "Validation: |          | 0/? [00:00<?, ?it/s]"
      ]
     },
     "metadata": {},
     "output_type": "display_data"
    },
    {
     "data": {
      "application/vnd.jupyter.widget-view+json": {
       "model_id": "2727f384b1d849f5b6d15c12c86f5230",
       "version_major": 2,
       "version_minor": 0
      },
      "text/plain": [
       "Validation: |          | 0/? [00:00<?, ?it/s]"
      ]
     },
     "metadata": {},
     "output_type": "display_data"
    },
    {
     "data": {
      "application/vnd.jupyter.widget-view+json": {
       "model_id": "8ab1b7cd46704d598a820c91a790b227",
       "version_major": 2,
       "version_minor": 0
      },
      "text/plain": [
       "Validation: |          | 0/? [00:00<?, ?it/s]"
      ]
     },
     "metadata": {},
     "output_type": "display_data"
    },
    {
     "data": {
      "application/vnd.jupyter.widget-view+json": {
       "model_id": "6934859be9e840c991aa31fce7a78e20",
       "version_major": 2,
       "version_minor": 0
      },
      "text/plain": [
       "Validation: |          | 0/? [00:00<?, ?it/s]"
      ]
     },
     "metadata": {},
     "output_type": "display_data"
    },
    {
     "data": {
      "application/vnd.jupyter.widget-view+json": {
       "model_id": "08584f78471e4bd5baf72d0100e0ca9d",
       "version_major": 2,
       "version_minor": 0
      },
      "text/plain": [
       "Validation: |          | 0/? [00:00<?, ?it/s]"
      ]
     },
     "metadata": {},
     "output_type": "display_data"
    },
    {
     "data": {
      "application/vnd.jupyter.widget-view+json": {
       "model_id": "5a2123f695eb44e4a87d95f65c0d152e",
       "version_major": 2,
       "version_minor": 0
      },
      "text/plain": [
       "Validation: |          | 0/? [00:00<?, ?it/s]"
      ]
     },
     "metadata": {},
     "output_type": "display_data"
    },
    {
     "data": {
      "application/vnd.jupyter.widget-view+json": {
       "model_id": "244123b3d4b54cc18d1fe43f68401dde",
       "version_major": 2,
       "version_minor": 0
      },
      "text/plain": [
       "Validation: |          | 0/? [00:00<?, ?it/s]"
      ]
     },
     "metadata": {},
     "output_type": "display_data"
    },
    {
     "data": {
      "application/vnd.jupyter.widget-view+json": {
       "model_id": "b4b4a0343edb42bea0e7130a8d154f91",
       "version_major": 2,
       "version_minor": 0
      },
      "text/plain": [
       "Validation: |          | 0/? [00:00<?, ?it/s]"
      ]
     },
     "metadata": {},
     "output_type": "display_data"
    },
    {
     "data": {
      "application/vnd.jupyter.widget-view+json": {
       "model_id": "f5b498a5bab240279e48ec609b2bf57e",
       "version_major": 2,
       "version_minor": 0
      },
      "text/plain": [
       "Validation: |          | 0/? [00:00<?, ?it/s]"
      ]
     },
     "metadata": {},
     "output_type": "display_data"
    },
    {
     "data": {
      "application/vnd.jupyter.widget-view+json": {
       "model_id": "581e9d0f714943e0b9aeaacfda76da07",
       "version_major": 2,
       "version_minor": 0
      },
      "text/plain": [
       "Validation: |          | 0/? [00:00<?, ?it/s]"
      ]
     },
     "metadata": {},
     "output_type": "display_data"
    },
    {
     "data": {
      "application/vnd.jupyter.widget-view+json": {
       "model_id": "0466437878e94ba3a45701440aa5e55c",
       "version_major": 2,
       "version_minor": 0
      },
      "text/plain": [
       "Validation: |          | 0/? [00:00<?, ?it/s]"
      ]
     },
     "metadata": {},
     "output_type": "display_data"
    },
    {
     "data": {
      "application/vnd.jupyter.widget-view+json": {
       "model_id": "ea0a893d47f74c2ba58cc09b2279c245",
       "version_major": 2,
       "version_minor": 0
      },
      "text/plain": [
       "Validation: |          | 0/? [00:00<?, ?it/s]"
      ]
     },
     "metadata": {},
     "output_type": "display_data"
    },
    {
     "data": {
      "application/vnd.jupyter.widget-view+json": {
       "model_id": "a2ba0db4a4844989b240b71bb7047298",
       "version_major": 2,
       "version_minor": 0
      },
      "text/plain": [
       "Validation: |          | 0/? [00:00<?, ?it/s]"
      ]
     },
     "metadata": {},
     "output_type": "display_data"
    },
    {
     "data": {
      "application/vnd.jupyter.widget-view+json": {
       "model_id": "e159dec885aa44c3997aeba4876acd7c",
       "version_major": 2,
       "version_minor": 0
      },
      "text/plain": [
       "Validation: |          | 0/? [00:00<?, ?it/s]"
      ]
     },
     "metadata": {},
     "output_type": "display_data"
    },
    {
     "data": {
      "application/vnd.jupyter.widget-view+json": {
       "model_id": "b78f59305f8548159985ad4703c99134",
       "version_major": 2,
       "version_minor": 0
      },
      "text/plain": [
       "Validation: |          | 0/? [00:00<?, ?it/s]"
      ]
     },
     "metadata": {},
     "output_type": "display_data"
    },
    {
     "data": {
      "application/vnd.jupyter.widget-view+json": {
       "model_id": "eab05369d1af4fed9478de741bc1c373",
       "version_major": 2,
       "version_minor": 0
      },
      "text/plain": [
       "Validation: |          | 0/? [00:00<?, ?it/s]"
      ]
     },
     "metadata": {},
     "output_type": "display_data"
    },
    {
     "data": {
      "application/vnd.jupyter.widget-view+json": {
       "model_id": "fdeb9ae7982943e09dc852c9353f0979",
       "version_major": 2,
       "version_minor": 0
      },
      "text/plain": [
       "Validation: |          | 0/? [00:00<?, ?it/s]"
      ]
     },
     "metadata": {},
     "output_type": "display_data"
    },
    {
     "data": {
      "application/vnd.jupyter.widget-view+json": {
       "model_id": "fc6a1ac5932b48a3b390ff0bfb284a6d",
       "version_major": 2,
       "version_minor": 0
      },
      "text/plain": [
       "Validation: |          | 0/? [00:00<?, ?it/s]"
      ]
     },
     "metadata": {},
     "output_type": "display_data"
    },
    {
     "data": {
      "application/vnd.jupyter.widget-view+json": {
       "model_id": "507848c8a4bf45f4ace010ae01f4d2ca",
       "version_major": 2,
       "version_minor": 0
      },
      "text/plain": [
       "Validation: |          | 0/? [00:00<?, ?it/s]"
      ]
     },
     "metadata": {},
     "output_type": "display_data"
    },
    {
     "data": {
      "application/vnd.jupyter.widget-view+json": {
       "model_id": "d72100f0d5b84344b9314801458013b0",
       "version_major": 2,
       "version_minor": 0
      },
      "text/plain": [
       "Validation: |          | 0/? [00:00<?, ?it/s]"
      ]
     },
     "metadata": {},
     "output_type": "display_data"
    },
    {
     "data": {
      "application/vnd.jupyter.widget-view+json": {
       "model_id": "4e90bc02924947ef9d38102e02a4eed3",
       "version_major": 2,
       "version_minor": 0
      },
      "text/plain": [
       "Validation: |          | 0/? [00:00<?, ?it/s]"
      ]
     },
     "metadata": {},
     "output_type": "display_data"
    },
    {
     "data": {
      "application/vnd.jupyter.widget-view+json": {
       "model_id": "ffe49ba37dec400db97d8b3e9ff08888",
       "version_major": 2,
       "version_minor": 0
      },
      "text/plain": [
       "Validation: |          | 0/? [00:00<?, ?it/s]"
      ]
     },
     "metadata": {},
     "output_type": "display_data"
    },
    {
     "data": {
      "application/vnd.jupyter.widget-view+json": {
       "model_id": "aca97d27a0c94205bb27301da25c3211",
       "version_major": 2,
       "version_minor": 0
      },
      "text/plain": [
       "Validation: |          | 0/? [00:00<?, ?it/s]"
      ]
     },
     "metadata": {},
     "output_type": "display_data"
    },
    {
     "data": {
      "application/vnd.jupyter.widget-view+json": {
       "model_id": "becdb3cbd0c341f5afa9308ea863df8b",
       "version_major": 2,
       "version_minor": 0
      },
      "text/plain": [
       "Validation: |          | 0/? [00:00<?, ?it/s]"
      ]
     },
     "metadata": {},
     "output_type": "display_data"
    },
    {
     "data": {
      "application/vnd.jupyter.widget-view+json": {
       "model_id": "755dd3c1c24a4165a74d4e4a8f01816a",
       "version_major": 2,
       "version_minor": 0
      },
      "text/plain": [
       "Validation: |          | 0/? [00:00<?, ?it/s]"
      ]
     },
     "metadata": {},
     "output_type": "display_data"
    },
    {
     "data": {
      "application/vnd.jupyter.widget-view+json": {
       "model_id": "275918607820444aaefbe205a991e04e",
       "version_major": 2,
       "version_minor": 0
      },
      "text/plain": [
       "Validation: |          | 0/? [00:00<?, ?it/s]"
      ]
     },
     "metadata": {},
     "output_type": "display_data"
    },
    {
     "data": {
      "application/vnd.jupyter.widget-view+json": {
       "model_id": "61b9cd7dc62542979a2e8026e20a69e1",
       "version_major": 2,
       "version_minor": 0
      },
      "text/plain": [
       "Validation: |          | 0/? [00:00<?, ?it/s]"
      ]
     },
     "metadata": {},
     "output_type": "display_data"
    },
    {
     "data": {
      "application/vnd.jupyter.widget-view+json": {
       "model_id": "4474af64c467430ba790b30f1f8ff21f",
       "version_major": 2,
       "version_minor": 0
      },
      "text/plain": [
       "Validation: |          | 0/? [00:00<?, ?it/s]"
      ]
     },
     "metadata": {},
     "output_type": "display_data"
    },
    {
     "data": {
      "application/vnd.jupyter.widget-view+json": {
       "model_id": "6464c6c7c57a46189a59833e6c15c026",
       "version_major": 2,
       "version_minor": 0
      },
      "text/plain": [
       "Validation: |          | 0/? [00:00<?, ?it/s]"
      ]
     },
     "metadata": {},
     "output_type": "display_data"
    },
    {
     "data": {
      "application/vnd.jupyter.widget-view+json": {
       "model_id": "a7b8a2f5ec2d42a991a2cb9635635a66",
       "version_major": 2,
       "version_minor": 0
      },
      "text/plain": [
       "Validation: |          | 0/? [00:00<?, ?it/s]"
      ]
     },
     "metadata": {},
     "output_type": "display_data"
    },
    {
     "data": {
      "application/vnd.jupyter.widget-view+json": {
       "model_id": "9cce5fdbbc5547d0b8d2699540b7ee0f",
       "version_major": 2,
       "version_minor": 0
      },
      "text/plain": [
       "Validation: |          | 0/? [00:00<?, ?it/s]"
      ]
     },
     "metadata": {},
     "output_type": "display_data"
    },
    {
     "data": {
      "application/vnd.jupyter.widget-view+json": {
       "model_id": "740c2cccb1f545f2868bf93e95c7cfdc",
       "version_major": 2,
       "version_minor": 0
      },
      "text/plain": [
       "Validation: |          | 0/? [00:00<?, ?it/s]"
      ]
     },
     "metadata": {},
     "output_type": "display_data"
    },
    {
     "data": {
      "application/vnd.jupyter.widget-view+json": {
       "model_id": "9e673f4e39464657ba1a09f9dcb49238",
       "version_major": 2,
       "version_minor": 0
      },
      "text/plain": [
       "Validation: |          | 0/? [00:00<?, ?it/s]"
      ]
     },
     "metadata": {},
     "output_type": "display_data"
    },
    {
     "data": {
      "application/vnd.jupyter.widget-view+json": {
       "model_id": "c0dd3908c50a452989ae4657dc892f14",
       "version_major": 2,
       "version_minor": 0
      },
      "text/plain": [
       "Validation: |          | 0/? [00:00<?, ?it/s]"
      ]
     },
     "metadata": {},
     "output_type": "display_data"
    },
    {
     "data": {
      "application/vnd.jupyter.widget-view+json": {
       "model_id": "b9b9aefbfecc46d0bed090131f3a3c48",
       "version_major": 2,
       "version_minor": 0
      },
      "text/plain": [
       "Validation: |          | 0/? [00:00<?, ?it/s]"
      ]
     },
     "metadata": {},
     "output_type": "display_data"
    },
    {
     "data": {
      "application/vnd.jupyter.widget-view+json": {
       "model_id": "1063443dd4bb4315a3c8b6d583b059b8",
       "version_major": 2,
       "version_minor": 0
      },
      "text/plain": [
       "Validation: |          | 0/? [00:00<?, ?it/s]"
      ]
     },
     "metadata": {},
     "output_type": "display_data"
    },
    {
     "data": {
      "application/vnd.jupyter.widget-view+json": {
       "model_id": "0cd9777268f240dab90b7a89567fff44",
       "version_major": 2,
       "version_minor": 0
      },
      "text/plain": [
       "Validation: |          | 0/? [00:00<?, ?it/s]"
      ]
     },
     "metadata": {},
     "output_type": "display_data"
    },
    {
     "name": "stderr",
     "output_type": "stream",
     "text": [
      "Swapping scheduler `CosineAnnealingLR` for `SWALR`\n"
     ]
    },
    {
     "data": {
      "application/vnd.jupyter.widget-view+json": {
       "model_id": "319a6fb5c73c4b439ca0dff86b5efd47",
       "version_major": 2,
       "version_minor": 0
      },
      "text/plain": [
       "Validation: |          | 0/? [00:00<?, ?it/s]"
      ]
     },
     "metadata": {},
     "output_type": "display_data"
    },
    {
     "data": {
      "application/vnd.jupyter.widget-view+json": {
       "model_id": "0681928062434ea59014d034287b1a85",
       "version_major": 2,
       "version_minor": 0
      },
      "text/plain": [
       "Validation: |          | 0/? [00:00<?, ?it/s]"
      ]
     },
     "metadata": {},
     "output_type": "display_data"
    },
    {
     "data": {
      "application/vnd.jupyter.widget-view+json": {
       "model_id": "8535fe4c35c1424a80e0fd8ceaa7d433",
       "version_major": 2,
       "version_minor": 0
      },
      "text/plain": [
       "Validation: |          | 0/? [00:00<?, ?it/s]"
      ]
     },
     "metadata": {},
     "output_type": "display_data"
    },
    {
     "data": {
      "application/vnd.jupyter.widget-view+json": {
       "model_id": "657f1f7a35514aefa2dd8933c902606c",
       "version_major": 2,
       "version_minor": 0
      },
      "text/plain": [
       "Validation: |          | 0/? [00:00<?, ?it/s]"
      ]
     },
     "metadata": {},
     "output_type": "display_data"
    },
    {
     "data": {
      "application/vnd.jupyter.widget-view+json": {
       "model_id": "66b52e4c8f204fe08e8f69d9fb6c315a",
       "version_major": 2,
       "version_minor": 0
      },
      "text/plain": [
       "Validation: |          | 0/? [00:00<?, ?it/s]"
      ]
     },
     "metadata": {},
     "output_type": "display_data"
    },
    {
     "data": {
      "application/vnd.jupyter.widget-view+json": {
       "model_id": "dd191da714a941f08ba976d9af3c260d",
       "version_major": 2,
       "version_minor": 0
      },
      "text/plain": [
       "Validation: |          | 0/? [00:00<?, ?it/s]"
      ]
     },
     "metadata": {},
     "output_type": "display_data"
    },
    {
     "data": {
      "application/vnd.jupyter.widget-view+json": {
       "model_id": "4491f7341c214a4282959d614e802009",
       "version_major": 2,
       "version_minor": 0
      },
      "text/plain": [
       "Validation: |          | 0/? [00:00<?, ?it/s]"
      ]
     },
     "metadata": {},
     "output_type": "display_data"
    },
    {
     "data": {
      "application/vnd.jupyter.widget-view+json": {
       "model_id": "b649c7cdfc44440eb394b9d6c7b1f980",
       "version_major": 2,
       "version_minor": 0
      },
      "text/plain": [
       "Validation: |          | 0/? [00:00<?, ?it/s]"
      ]
     },
     "metadata": {},
     "output_type": "display_data"
    },
    {
     "data": {
      "application/vnd.jupyter.widget-view+json": {
       "model_id": "4edbe053f2644eac963a277fedeffa05",
       "version_major": 2,
       "version_minor": 0
      },
      "text/plain": [
       "Validation: |          | 0/? [00:00<?, ?it/s]"
      ]
     },
     "metadata": {},
     "output_type": "display_data"
    },
    {
     "data": {
      "application/vnd.jupyter.widget-view+json": {
       "model_id": "60b1def6888e4c338fce45090011cf0b",
       "version_major": 2,
       "version_minor": 0
      },
      "text/plain": [
       "Validation: |          | 0/? [00:00<?, ?it/s]"
      ]
     },
     "metadata": {},
     "output_type": "display_data"
    },
    {
     "data": {
      "application/vnd.jupyter.widget-view+json": {
       "model_id": "70205a8bdae542e6a726343eb805cab3",
       "version_major": 2,
       "version_minor": 0
      },
      "text/plain": [
       "Validation: |          | 0/? [00:00<?, ?it/s]"
      ]
     },
     "metadata": {},
     "output_type": "display_data"
    },
    {
     "data": {
      "application/vnd.jupyter.widget-view+json": {
       "model_id": "f5c3a0127e324e479b6a1abfecc96ee0",
       "version_major": 2,
       "version_minor": 0
      },
      "text/plain": [
       "Validation: |          | 0/? [00:00<?, ?it/s]"
      ]
     },
     "metadata": {},
     "output_type": "display_data"
    },
    {
     "data": {
      "application/vnd.jupyter.widget-view+json": {
       "model_id": "171812ed07cb4da3a80211de56fa88da",
       "version_major": 2,
       "version_minor": 0
      },
      "text/plain": [
       "Validation: |          | 0/? [00:00<?, ?it/s]"
      ]
     },
     "metadata": {},
     "output_type": "display_data"
    },
    {
     "data": {
      "application/vnd.jupyter.widget-view+json": {
       "model_id": "363c463b97cf46a39585701c8366b0d8",
       "version_major": 2,
       "version_minor": 0
      },
      "text/plain": [
       "Validation: |          | 0/? [00:00<?, ?it/s]"
      ]
     },
     "metadata": {},
     "output_type": "display_data"
    },
    {
     "data": {
      "application/vnd.jupyter.widget-view+json": {
       "model_id": "95d1bba8e7294cbcbdbd7fcc484a8d31",
       "version_major": 2,
       "version_minor": 0
      },
      "text/plain": [
       "Validation: |          | 0/? [00:00<?, ?it/s]"
      ]
     },
     "metadata": {},
     "output_type": "display_data"
    },
    {
     "data": {
      "application/vnd.jupyter.widget-view+json": {
       "model_id": "6145bb16a20d4ee292c012adacd7da60",
       "version_major": 2,
       "version_minor": 0
      },
      "text/plain": [
       "Validation: |          | 0/? [00:00<?, ?it/s]"
      ]
     },
     "metadata": {},
     "output_type": "display_data"
    },
    {
     "data": {
      "application/vnd.jupyter.widget-view+json": {
       "model_id": "163a08e5ba9441128f6c82d2f798e847",
       "version_major": 2,
       "version_minor": 0
      },
      "text/plain": [
       "Validation: |          | 0/? [00:00<?, ?it/s]"
      ]
     },
     "metadata": {},
     "output_type": "display_data"
    },
    {
     "name": "stderr",
     "output_type": "stream",
     "text": [
      "`Trainer.fit` stopped: `max_epochs=61` reached.\n"
     ]
    },
    {
     "name": "stdout",
     "output_type": "stream",
     "text": [
      "Loading best model from: c:\\Users\\eikik\\python\\kaggle\\CIBMTR\\lightning_logs\\version_32\\checkpoints\\best-checkpoint.ckpt\n"
     ]
    },
    {
     "data": {
      "application/vnd.jupyter.widget-view+json": {
       "model_id": "dd8eea41832f4a79a70cf0a6feb2472f",
       "version_major": 2,
       "version_minor": 0
      },
      "text/plain": [
       "Testing: |          | 0/? [00:00<?, ?it/s]"
      ]
     },
     "metadata": {},
     "output_type": "display_data"
    },
    {
     "data": {
      "text/html": [
       "<pre style=\"white-space:pre;overflow-x:auto;line-height:normal;font-family:Menlo,'DejaVu Sans Mono',consolas,'Courier New',monospace\">┏━━━━━━━━━━━━━━━━━━━━━━━━━━━┳━━━━━━━━━━━━━━━━━━━━━━━━━━━┓\n",
       "┃<span style=\"font-weight: bold\">        Test metric        </span>┃<span style=\"font-weight: bold\">       DataLoader 0        </span>┃\n",
       "┡━━━━━━━━━━━━━━━━━━━━━━━━━━━╇━━━━━━━━━━━━━━━━━━━━━━━━━━━┩\n",
       "│<span style=\"color: #008080; text-decoration-color: #008080\">        test_cindex        </span>│<span style=\"color: #800080; text-decoration-color: #800080\">    0.6731411814689636     </span>│\n",
       "│<span style=\"color: #008080; text-decoration-color: #008080\">    test_cindex_simple     </span>│<span style=\"color: #800080; text-decoration-color: #800080\">    0.6812833547592163     </span>│\n",
       "│<span style=\"color: #008080; text-decoration-color: #008080\">         test_loss         </span>│<span style=\"color: #800080; text-decoration-color: #800080\">    0.18770810098263016    </span>│\n",
       "└───────────────────────────┴───────────────────────────┘\n",
       "</pre>\n"
      ],
      "text/plain": [
       "┏━━━━━━━━━━━━━━━━━━━━━━━━━━━┳━━━━━━━━━━━━━━━━━━━━━━━━━━━┓\n",
       "┃\u001b[1m \u001b[0m\u001b[1m       Test metric       \u001b[0m\u001b[1m \u001b[0m┃\u001b[1m \u001b[0m\u001b[1m      DataLoader 0       \u001b[0m\u001b[1m \u001b[0m┃\n",
       "┡━━━━━━━━━━━━━━━━━━━━━━━━━━━╇━━━━━━━━━━━━━━━━━━━━━━━━━━━┩\n",
       "│\u001b[36m \u001b[0m\u001b[36m       test_cindex       \u001b[0m\u001b[36m \u001b[0m│\u001b[35m \u001b[0m\u001b[35m   0.6731411814689636    \u001b[0m\u001b[35m \u001b[0m│\n",
       "│\u001b[36m \u001b[0m\u001b[36m   test_cindex_simple    \u001b[0m\u001b[36m \u001b[0m│\u001b[35m \u001b[0m\u001b[35m   0.6812833547592163    \u001b[0m\u001b[35m \u001b[0m│\n",
       "│\u001b[36m \u001b[0m\u001b[36m        test_loss        \u001b[0m\u001b[36m \u001b[0m│\u001b[35m \u001b[0m\u001b[35m   0.18770810098263016   \u001b[0m\u001b[35m \u001b[0m│\n",
       "└───────────────────────────┴───────────────────────────┘\n"
      ]
     },
     "metadata": {},
     "output_type": "display_data"
    },
    {
     "name": "stdout",
     "output_type": "stream",
     "text": [
      "There are 69 FEATURES: ['dri_score', 'psych_disturb', 'cyto_score', 'diabetes', 'hla_match_c_high', 'hla_high_res_8', 'tbi_status', 'arrhythmia', 'hla_low_res_6', 'graft_type', 'vent_hist', 'renal_issue', 'pulm_severe', 'prim_disease_hct', 'hla_high_res_6', 'cmv_status', 'hla_high_res_10', 'hla_match_dqb1_high', 'tce_imm_match', 'hla_nmdp_6', 'hla_match_c_low', 'rituximab', 'hla_match_drb1_low', 'hla_match_dqb1_low', 'prod_type', 'cyto_score_detail', 'conditioning_intensity', 'ethnicity', 'year_hct', 'obesity', 'mrd_hct', 'in_vivo_tcd', 'tce_match', 'hla_match_a_high', 'hepatic_severe', 'donor_age', 'prior_tumor', 'hla_match_b_low', 'peptic_ulcer', 'age_at_hct', 'hla_match_a_low', 'gvhd_proph', 'rheum_issue', 'sex_match', 'hla_match_b_high', 'race_group', 'comorbidity_score', 'karnofsky_score', 'hepatic_mild', 'tce_div_match', 'donor_related', 'melphalan_dose', 'hla_low_res_8', 'cardiac', 'hla_match_drb1_high', 'pulm_moderate', 'hla_low_res_10', 'sex_match_bool', 'is_cyto_score_same', 'age_bin', 'age_ts', 'age_comorbidity', 'age_karnofsky', 'karnofsky_squared', 'cos_year', 'diff_age_vs_donor', 'sex_one', 'sex_two', 'same_sex']\n"
     ]
    }
   ],
   "source": [
    "nn_oof_preds, nn_test_preds = main(hparams=None)"
   ]
  },
  {
   "cell_type": "markdown",
   "metadata": {
    "papermill": {
     "duration": 0.01174,
     "end_time": "2024-12-13T16:07:55.442686",
     "exception": false,
     "start_time": "2024-12-13T16:07:55.430946",
     "status": "completed"
    },
    "tags": []
   },
   "source": [
    "<p style=\"font-size: 125%; text-align: left; border-radius: 40px 40px;font-weight: bold;\">アンサンブル</p>"
   ]
  },
  {
   "cell_type": "code",
   "execution_count": null,
   "metadata": {
    "trusted": true
   },
   "outputs": [],
   "source": [
    "oof_preds = [\n",
    "    ctb1_oof_preds, \n",
    "    lgb1_oof_preds, \n",
    "    ctb2_oof_preds, \n",
    "    lgb2_oof_preds, \n",
    "    ctb3_oof_preds, \n",
    "    lgb3_oof_preds, \n",
    "    cox1_oof_preds,\n",
    "    cox2_oof_preds,\n",
    "    nn_oof_preds\n",
    "]"
   ]
  },
  {
   "cell_type": "code",
   "execution_count": null,
   "metadata": {
    "trusted": true
   },
   "outputs": [],
   "source": [
    "preds = [\n",
    "    ctb1_preds, \n",
    "    lgb1_preds, \n",
    "    ctb2_preds, \n",
    "    lgb2_preds, \n",
    "    ctb3_preds, \n",
    "    lgb3_preds,\n",
    "    cox1_preds,\n",
    "    cox2_preds,\n",
    "    nn_test_preds\n",
    "]"
   ]
  },
  {
   "cell_type": "markdown",
   "metadata": {},
   "source": [
    "<p style=\"font-size: 125%; text-align: left; border-radius: 40px 40px;font-weight: bold;\">アンサンブル結果の精度評価</p>"
   ]
  },
  {
   "cell_type": "code",
   "execution_count": null,
   "metadata": {
    "trusted": true
   },
   "outputs": [],
   "source": [
    "# oof_preds（各予測モデル×）の中身について順位付け（値の小さい順）した結果を格納\n",
    "ranked_oof_preds = np.array([rankdata(p) for p in oof_preds])"
   ]
  },
  {
   "cell_type": "code",
   "execution_count": null,
   "metadata": {
    "trusted": true
   },
   "outputs": [],
   "source": [
    "ensemble_oof_preds = np.dot(CFG.weights, ranked_oof_preds)"
   ]
  },
  {
   "cell_type": "code",
   "execution_count": 3,
   "metadata": {
    "trusted": true
   },
   "outputs": [
    {
     "ename": "NameError",
     "evalue": "name 'md' is not defined",
     "output_type": "error",
     "traceback": [
      "\u001b[0;31m---------------------------------------------------------------------------\u001b[0m",
      "\u001b[0;31mNameError\u001b[0m                                 Traceback (most recent call last)",
      "Cell \u001b[0;32mIn[3], line 1\u001b[0m\n\u001b[0;32m----> 1\u001b[0m \u001b[43mmd\u001b[49m\u001b[38;5;241m.\u001b[39mtargets\u001b[38;5;241m.\u001b[39mvalidate_model(ensemble_oof_preds, \u001b[38;5;124m'\u001b[39m\u001b[38;5;124mEnsemble Model\u001b[39m\u001b[38;5;124m'\u001b[39m)\n",
      "\u001b[0;31mNameError\u001b[0m: name 'md' is not defined"
     ]
    }
   ],
   "source": [
    "md.targets.validate_model(ensemble_oof_preds, 'Ensemble Model')"
   ]
  },
  {
   "cell_type": "markdown",
   "metadata": {},
   "source": [
    "<p style=\"font-size: 125%; text-align: left; border-radius: 40px 40px;font-weight: bold;\">テストデータの予測</p>"
   ]
  },
  {
   "cell_type": "code",
   "execution_count": null,
   "metadata": {
    "papermill": {
     "duration": 0.023045,
     "end_time": "2024-12-13T16:07:55.510197",
     "exception": false,
     "start_time": "2024-12-13T16:07:55.487152",
     "status": "completed"
    },
    "tags": [],
    "trusted": true
   },
   "outputs": [],
   "source": [
    "ranked_preds = np.array([rankdata(p) for p in preds])"
   ]
  },
  {
   "cell_type": "code",
   "execution_count": null,
   "metadata": {
    "papermill": {
     "duration": 0.020168,
     "end_time": "2024-12-13T16:07:55.542141",
     "exception": false,
     "start_time": "2024-12-13T16:07:55.521973",
     "status": "completed"
    },
    "tags": [],
    "trusted": true
   },
   "outputs": [],
   "source": [
    "ensemble_preds = np.dot(CFG.weights, ranked_preds)"
   ]
  },
  {
   "cell_type": "code",
   "execution_count": null,
   "metadata": {
    "papermill": {
     "duration": 0.043145,
     "end_time": "2024-12-13T16:07:55.596856",
     "exception": false,
     "start_time": "2024-12-13T16:07:55.553711",
     "status": "completed"
    },
    "tags": [],
    "trusted": true
   },
   "outputs": [],
   "source": [
    "subm_data = pd.read_csv(CFG.subm_path)\n",
    "subm_data['prediction'] = ensemble_preds"
   ]
  },
  {
   "cell_type": "code",
   "execution_count": 4,
   "metadata": {
    "papermill": {
     "duration": 0.027273,
     "end_time": "2024-12-13T16:07:55.636582",
     "exception": false,
     "start_time": "2024-12-13T16:07:55.609309",
     "status": "completed"
    },
    "tags": [],
    "trusted": true
   },
   "outputs": [
    {
     "ename": "NameError",
     "evalue": "name 'subm_data' is not defined",
     "output_type": "error",
     "traceback": [
      "\u001b[0;31m---------------------------------------------------------------------------\u001b[0m",
      "\u001b[0;31mNameError\u001b[0m                                 Traceback (most recent call last)",
      "Cell \u001b[0;32mIn[4], line 1\u001b[0m\n\u001b[0;32m----> 1\u001b[0m \u001b[43msubm_data\u001b[49m\u001b[38;5;241m.\u001b[39mto_csv(\u001b[38;5;124m'\u001b[39m\u001b[38;5;124msubmission.csv\u001b[39m\u001b[38;5;124m'\u001b[39m, index\u001b[38;5;241m=\u001b[39m\u001b[38;5;28;01mFalse\u001b[39;00m)\n\u001b[1;32m      2\u001b[0m display(subm_data\u001b[38;5;241m.\u001b[39mhead())\n",
      "\u001b[0;31mNameError\u001b[0m: name 'subm_data' is not defined"
     ]
    }
   ],
   "source": [
    "subm_data.to_csv('submission.csv', index=False)\n",
    "display(subm_data.head())"
   ]
  }
 ],
 "metadata": {
  "kaggle": {
   "accelerator": "none",
   "dataSources": [
    {
     "databundleVersionId": 10381525,
     "sourceId": 70942,
     "sourceType": "competition"
    },
    {
     "sourceId": 211253469,
     "sourceType": "kernelVersion"
    },
    {
     "sourceId": 211322530,
     "sourceType": "kernelVersion"
    }
   ],
   "dockerImageVersionId": 30804,
   "isGpuEnabled": false,
   "isInternetEnabled": false,
   "language": "python",
   "sourceType": "notebook"
  },
  "kernelspec": {
   "display_name": "Python 3",
   "language": "python",
   "name": "python3"
  },
  "language_info": {
   "codemirror_mode": {
    "name": "ipython",
    "version": 3
   },
   "file_extension": ".py",
   "mimetype": "text/x-python",
   "name": "python",
   "nbconvert_exporter": "python",
   "pygments_lexer": "ipython3",
   "version": "3.12.2"
  },
  "papermill": {
   "default_parameters": {},
   "duration": 10108.862432,
   "end_time": "2024-12-13T16:07:57.072385",
   "environment_variables": {},
   "exception": null,
   "input_path": "__notebook__.ipynb",
   "output_path": "__notebook__.ipynb",
   "parameters": {},
   "start_time": "2024-12-13T13:19:28.209953",
   "version": "2.6.0"
  }
 },
 "nbformat": 4,
 "nbformat_minor": 4
}
